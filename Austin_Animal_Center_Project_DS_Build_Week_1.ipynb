{
  "nbformat": 4,
  "nbformat_minor": 0,
  "metadata": {
    "colab": {
      "name": "Austin Animal Center Project - DS Build Week 1 ",
      "provenance": [],
      "collapsed_sections": [
        "BdWQzvenXwLB",
        "UmOBPIl9M_wL",
        "agEkn7bPLiVH",
        "876e49XoP9aR",
        "mVFmuUoSPSkm",
        "3T23aEhCjJdX",
        "wmmac6Gt8fmw",
        "WppAm0L48Alw",
        "MwTeHd5sNcs8",
        "6y4-b9VQaccQ",
        "fTVOmV5Aj3ml",
        "5MUpJ3Gh8m3V",
        "UIVNbY3y_nuW",
        "BSqP4acVdZeM"
      ],
      "authorship_tag": "ABX9TyM4QWAJixzf6mCG3jILFsYg",
      "include_colab_link": true
    },
    "kernelspec": {
      "name": "python3",
      "display_name": "Python 3"
    }
  },
  "cells": [
    {
      "cell_type": "markdown",
      "metadata": {
        "id": "view-in-github",
        "colab_type": "text"
      },
      "source": [
        "<a href=\"https://colab.research.google.com/github/duellal/DS-Unit-1-Build/blob/duellal-patch-1/Austin_Animal_Center_Project_DS_Build_Week_1.ipynb\" target=\"_parent\"><img src=\"https://colab.research.google.com/assets/colab-badge.svg\" alt=\"Open In Colab\"/></a>"
      ]
    },
    {
      "cell_type": "markdown",
      "metadata": {
        "id": "xly7urYqXYlX"
      },
      "source": [
        "###Research Question:\n",
        "\n",
        "In the United States, animal shelters are known to euthanize animals based on behavior and/or signs of aggression. By looking at the Austin, Texas Animal Center's data, I will analyze why certain animals are euthanized, the timeline to when the Center euthanizes the animals, and if the animal center is true to their statement that 90% of animals are not euthanized. "
      ]
    },
    {
      "cell_type": "markdown",
      "metadata": {
        "id": "XDMBdj6OLH3u"
      },
      "source": [
        "# About the Data:\n",
        "\n",
        "***Intakes:***\n",
        "\n",
        "Animal Center Intakes from Oct, 1st 2013 to present. Intakes represent the status of animals as they arrive at the Animal Center. All animals receive a unique Animal ID during intake. Annually over 90% of animals entering the center, are adopted, transferred to rescue or returned to their owners.\n",
        "\n",
        "***Outcomes:***\n",
        "\n",
        "Animal Center Outcomes from Oct, 1st 2013 to present. Outcomes represent the status of animals as they leave the Animal Center. All animals receive a unique Animal ID during intake. Annually over 90% of animals entering the center, are adopted, transferred to rescue or returned to their owners. The Outcomes data set reflects that Austin, TX. is the largest \"No Kill\" city in the country."
      ]
    },
    {
      "cell_type": "markdown",
      "metadata": {
        "id": "BdWQzvenXwLB"
      },
      "source": [
        "## Importing Data and Creating One Dataframe"
      ]
    },
    {
      "cell_type": "code",
      "metadata": {
        "id": "sw4rS1HpLtbp"
      },
      "source": [
        "#importing packages that I will need\n",
        "import pandas as pd\n",
        "import numpy as np\n",
        "import matplotlib as plt\n",
        "from matplotlib.pyplot import hist\n",
        "from matplotlib import pyplot as plt \n",
        "from matplotlib.lines import Line2D\n",
        "from datetime import datetime\n",
        "import plotly.graph_objects as go\n",
        "import plotly.figure_factory as ff"
      ],
      "execution_count": 1,
      "outputs": []
    },
    {
      "cell_type": "code",
      "metadata": {
        "colab": {
          "base_uri": "https://localhost:8080/",
          "height": 0
        },
        "id": "zEDOsk9tUWxj",
        "outputId": "33a960ba-df34-4e04-dd5a-7b58bb185cd7"
      },
      "source": [
        "intake_headers = ['Animal ID', 'Name Intake', 'Intake DateTime', 'Intake MonthYear','Found Location', 'Intake Type', 'Intake Condition', 'Animal Type',\n",
        "                  'Sex Upon Intake', 'Age Upon Intake', 'Breed', 'Color']\n",
        "intake = pd.read_csv('https://raw.githubusercontent.com/duellal/Datasets/main/Austin_Animal_Center_Intakes.csv', header=1, names=intake_headers)\n",
        "intake.head(5)"
      ],
      "execution_count": 2,
      "outputs": [
        {
          "output_type": "execute_result",
          "data": {
            "text/html": [
              "<div>\n",
              "<style scoped>\n",
              "    .dataframe tbody tr th:only-of-type {\n",
              "        vertical-align: middle;\n",
              "    }\n",
              "\n",
              "    .dataframe tbody tr th {\n",
              "        vertical-align: top;\n",
              "    }\n",
              "\n",
              "    .dataframe thead th {\n",
              "        text-align: right;\n",
              "    }\n",
              "</style>\n",
              "<table border=\"1\" class=\"dataframe\">\n",
              "  <thead>\n",
              "    <tr style=\"text-align: right;\">\n",
              "      <th></th>\n",
              "      <th>Animal ID</th>\n",
              "      <th>Name Intake</th>\n",
              "      <th>Intake DateTime</th>\n",
              "      <th>Intake MonthYear</th>\n",
              "      <th>Found Location</th>\n",
              "      <th>Intake Type</th>\n",
              "      <th>Intake Condition</th>\n",
              "      <th>Animal Type</th>\n",
              "      <th>Sex Upon Intake</th>\n",
              "      <th>Age Upon Intake</th>\n",
              "      <th>Breed</th>\n",
              "      <th>Color</th>\n",
              "    </tr>\n",
              "  </thead>\n",
              "  <tbody>\n",
              "    <tr>\n",
              "      <th>0</th>\n",
              "      <td>A706918</td>\n",
              "      <td>Belle</td>\n",
              "      <td>07/05/2015 12:59:00 PM</td>\n",
              "      <td>07/05/2015 12:59:00 PM</td>\n",
              "      <td>9409 Bluegrass Dr in Austin (TX)</td>\n",
              "      <td>Stray</td>\n",
              "      <td>Normal</td>\n",
              "      <td>Dog</td>\n",
              "      <td>Spayed Female</td>\n",
              "      <td>8 years</td>\n",
              "      <td>English Springer Spaniel</td>\n",
              "      <td>White/Liver</td>\n",
              "    </tr>\n",
              "    <tr>\n",
              "      <th>1</th>\n",
              "      <td>A724273</td>\n",
              "      <td>Runster</td>\n",
              "      <td>04/14/2016 06:43:00 PM</td>\n",
              "      <td>04/14/2016 06:43:00 PM</td>\n",
              "      <td>2818 Palomino Trail in Austin (TX)</td>\n",
              "      <td>Stray</td>\n",
              "      <td>Normal</td>\n",
              "      <td>Dog</td>\n",
              "      <td>Intact Male</td>\n",
              "      <td>11 months</td>\n",
              "      <td>Basenji Mix</td>\n",
              "      <td>Sable/White</td>\n",
              "    </tr>\n",
              "    <tr>\n",
              "      <th>2</th>\n",
              "      <td>A665644</td>\n",
              "      <td>NaN</td>\n",
              "      <td>10/21/2013 07:59:00 AM</td>\n",
              "      <td>10/21/2013 07:59:00 AM</td>\n",
              "      <td>Austin (TX)</td>\n",
              "      <td>Stray</td>\n",
              "      <td>Sick</td>\n",
              "      <td>Cat</td>\n",
              "      <td>Intact Female</td>\n",
              "      <td>4 weeks</td>\n",
              "      <td>Domestic Shorthair Mix</td>\n",
              "      <td>Calico</td>\n",
              "    </tr>\n",
              "    <tr>\n",
              "      <th>3</th>\n",
              "      <td>A682524</td>\n",
              "      <td>Rio</td>\n",
              "      <td>06/29/2014 10:38:00 AM</td>\n",
              "      <td>06/29/2014 10:38:00 AM</td>\n",
              "      <td>800 Grove Blvd in Austin (TX)</td>\n",
              "      <td>Stray</td>\n",
              "      <td>Normal</td>\n",
              "      <td>Dog</td>\n",
              "      <td>Neutered Male</td>\n",
              "      <td>4 years</td>\n",
              "      <td>Doberman Pinsch/Australian Cattle Dog</td>\n",
              "      <td>Tan/Gray</td>\n",
              "    </tr>\n",
              "    <tr>\n",
              "      <th>4</th>\n",
              "      <td>A743852</td>\n",
              "      <td>Odin</td>\n",
              "      <td>02/18/2017 12:46:00 PM</td>\n",
              "      <td>02/18/2017 12:46:00 PM</td>\n",
              "      <td>Austin (TX)</td>\n",
              "      <td>Owner Surrender</td>\n",
              "      <td>Normal</td>\n",
              "      <td>Dog</td>\n",
              "      <td>Neutered Male</td>\n",
              "      <td>2 years</td>\n",
              "      <td>Labrador Retriever Mix</td>\n",
              "      <td>Chocolate</td>\n",
              "    </tr>\n",
              "  </tbody>\n",
              "</table>\n",
              "</div>"
            ],
            "text/plain": [
              "  Animal ID Name Intake  ...                                  Breed        Color\n",
              "0   A706918       Belle  ...               English Springer Spaniel  White/Liver\n",
              "1   A724273     Runster  ...                            Basenji Mix  Sable/White\n",
              "2   A665644         NaN  ...                 Domestic Shorthair Mix       Calico\n",
              "3   A682524         Rio  ...  Doberman Pinsch/Australian Cattle Dog     Tan/Gray\n",
              "4   A743852        Odin  ...                 Labrador Retriever Mix    Chocolate\n",
              "\n",
              "[5 rows x 12 columns]"
            ]
          },
          "metadata": {
            "tags": []
          },
          "execution_count": 2
        }
      ]
    },
    {
      "cell_type": "code",
      "metadata": {
        "colab": {
          "base_uri": "https://localhost:8080/",
          "height": 0
        },
        "id": "Ke5aE5uSVF_l",
        "outputId": "3ae2e191-d1a4-4556-ca18-0453a1152f0c"
      },
      "source": [
        "outcome_headers = ['Animal ID', 'Name Outcome', 'Outcome DateTime', 'Outcome MonthYear','Date of Birth', 'Outcome Type', 'Outcome Subtype', \n",
        "                   'Animal Type', 'Sex Upon Outcome', 'Age Upon Outcome', 'Breed', 'Color']\n",
        "outcome = pd.read_csv('https://raw.githubusercontent.com/duellal/Datasets/main/Austin_Animal_Center_Outcomes.csv', header=1, names=outcome_headers)\n",
        "outcome.head(5)"
      ],
      "execution_count": 3,
      "outputs": [
        {
          "output_type": "execute_result",
          "data": {
            "text/html": [
              "<div>\n",
              "<style scoped>\n",
              "    .dataframe tbody tr th:only-of-type {\n",
              "        vertical-align: middle;\n",
              "    }\n",
              "\n",
              "    .dataframe tbody tr th {\n",
              "        vertical-align: top;\n",
              "    }\n",
              "\n",
              "    .dataframe thead th {\n",
              "        text-align: right;\n",
              "    }\n",
              "</style>\n",
              "<table border=\"1\" class=\"dataframe\">\n",
              "  <thead>\n",
              "    <tr style=\"text-align: right;\">\n",
              "      <th></th>\n",
              "      <th>Animal ID</th>\n",
              "      <th>Name Outcome</th>\n",
              "      <th>Outcome DateTime</th>\n",
              "      <th>Outcome MonthYear</th>\n",
              "      <th>Date of Birth</th>\n",
              "      <th>Outcome Type</th>\n",
              "      <th>Outcome Subtype</th>\n",
              "      <th>Animal Type</th>\n",
              "      <th>Sex Upon Outcome</th>\n",
              "      <th>Age Upon Outcome</th>\n",
              "      <th>Breed</th>\n",
              "      <th>Color</th>\n",
              "    </tr>\n",
              "  </thead>\n",
              "  <tbody>\n",
              "    <tr>\n",
              "      <th>0</th>\n",
              "      <td>A776359</td>\n",
              "      <td>Gizmo</td>\n",
              "      <td>07/18/2018 04:02:00 PM</td>\n",
              "      <td>07/18/2018 04:02:00 PM</td>\n",
              "      <td>07/12/2017</td>\n",
              "      <td>Adoption</td>\n",
              "      <td>NaN</td>\n",
              "      <td>Dog</td>\n",
              "      <td>Neutered Male</td>\n",
              "      <td>1 year</td>\n",
              "      <td>Chihuahua Shorthair Mix</td>\n",
              "      <td>White/Brown</td>\n",
              "    </tr>\n",
              "    <tr>\n",
              "      <th>1</th>\n",
              "      <td>A821648</td>\n",
              "      <td>NaN</td>\n",
              "      <td>08/16/2020 11:38:00 AM</td>\n",
              "      <td>08/16/2020 11:38:00 AM</td>\n",
              "      <td>08/16/2019</td>\n",
              "      <td>Euthanasia</td>\n",
              "      <td>NaN</td>\n",
              "      <td>Other</td>\n",
              "      <td>Unknown</td>\n",
              "      <td>1 year</td>\n",
              "      <td>Raccoon</td>\n",
              "      <td>Gray</td>\n",
              "    </tr>\n",
              "    <tr>\n",
              "      <th>2</th>\n",
              "      <td>A720371</td>\n",
              "      <td>Moose</td>\n",
              "      <td>02/13/2016 05:59:00 PM</td>\n",
              "      <td>02/13/2016 05:59:00 PM</td>\n",
              "      <td>10/08/2015</td>\n",
              "      <td>Adoption</td>\n",
              "      <td>NaN</td>\n",
              "      <td>Dog</td>\n",
              "      <td>Neutered Male</td>\n",
              "      <td>4 months</td>\n",
              "      <td>Anatol Shepherd/Labrador Retriever</td>\n",
              "      <td>Buff</td>\n",
              "    </tr>\n",
              "    <tr>\n",
              "      <th>3</th>\n",
              "      <td>A674754</td>\n",
              "      <td>NaN</td>\n",
              "      <td>03/18/2014 11:47:00 AM</td>\n",
              "      <td>03/18/2014 11:47:00 AM</td>\n",
              "      <td>03/12/2014</td>\n",
              "      <td>Transfer</td>\n",
              "      <td>Partner</td>\n",
              "      <td>Cat</td>\n",
              "      <td>Intact Male</td>\n",
              "      <td>6 days</td>\n",
              "      <td>Domestic Shorthair Mix</td>\n",
              "      <td>Orange Tabby</td>\n",
              "    </tr>\n",
              "    <tr>\n",
              "      <th>4</th>\n",
              "      <td>A659412</td>\n",
              "      <td>Princess</td>\n",
              "      <td>10/05/2020 02:37:00 PM</td>\n",
              "      <td>10/05/2020 02:37:00 PM</td>\n",
              "      <td>03/24/2013</td>\n",
              "      <td>Adoption</td>\n",
              "      <td>NaN</td>\n",
              "      <td>Dog</td>\n",
              "      <td>Spayed Female</td>\n",
              "      <td>7 years</td>\n",
              "      <td>Chihuahua Shorthair Mix</td>\n",
              "      <td>Brown</td>\n",
              "    </tr>\n",
              "  </tbody>\n",
              "</table>\n",
              "</div>"
            ],
            "text/plain": [
              "  Animal ID Name Outcome  ...                               Breed         Color\n",
              "0   A776359        Gizmo  ...             Chihuahua Shorthair Mix   White/Brown\n",
              "1   A821648          NaN  ...                             Raccoon          Gray\n",
              "2   A720371        Moose  ...  Anatol Shepherd/Labrador Retriever          Buff\n",
              "3   A674754          NaN  ...              Domestic Shorthair Mix  Orange Tabby\n",
              "4   A659412     Princess  ...             Chihuahua Shorthair Mix         Brown\n",
              "\n",
              "[5 rows x 12 columns]"
            ]
          },
          "metadata": {
            "tags": []
          },
          "execution_count": 3
        }
      ]
    },
    {
      "cell_type": "code",
      "metadata": {
        "colab": {
          "base_uri": "https://localhost:8080/"
        },
        "id": "4e6B2lujXW08",
        "outputId": "104d69ec-95fe-480b-e1fc-0ba52c90b109"
      },
      "source": [
        "print('Intakes:', intake.shape)\n",
        "print(\"Outcomes:\", outcome.shape)"
      ],
      "execution_count": 4,
      "outputs": [
        {
          "output_type": "stream",
          "text": [
            "Intakes: (123365, 12)\n",
            "Outcomes: (123672, 12)\n"
          ],
          "name": "stdout"
        }
      ]
    },
    {
      "cell_type": "code",
      "metadata": {
        "colab": {
          "base_uri": "https://localhost:8080/",
          "height": 0
        },
        "id": "Q86mftInrpaq",
        "outputId": "5717c79b-e251-4f2e-dfbb-2328ba65197d"
      },
      "source": [
        "animal_shelter = pd.merge(intake, outcome, how='inner', on=['Animal ID'])\n",
        "animal_shelter.head()"
      ],
      "execution_count": 5,
      "outputs": [
        {
          "output_type": "execute_result",
          "data": {
            "text/html": [
              "<div>\n",
              "<style scoped>\n",
              "    .dataframe tbody tr th:only-of-type {\n",
              "        vertical-align: middle;\n",
              "    }\n",
              "\n",
              "    .dataframe tbody tr th {\n",
              "        vertical-align: top;\n",
              "    }\n",
              "\n",
              "    .dataframe thead th {\n",
              "        text-align: right;\n",
              "    }\n",
              "</style>\n",
              "<table border=\"1\" class=\"dataframe\">\n",
              "  <thead>\n",
              "    <tr style=\"text-align: right;\">\n",
              "      <th></th>\n",
              "      <th>Animal ID</th>\n",
              "      <th>Name Intake</th>\n",
              "      <th>Intake DateTime</th>\n",
              "      <th>Intake MonthYear</th>\n",
              "      <th>Found Location</th>\n",
              "      <th>Intake Type</th>\n",
              "      <th>Intake Condition</th>\n",
              "      <th>Animal Type_x</th>\n",
              "      <th>Sex Upon Intake</th>\n",
              "      <th>Age Upon Intake</th>\n",
              "      <th>Breed_x</th>\n",
              "      <th>Color_x</th>\n",
              "      <th>Name Outcome</th>\n",
              "      <th>Outcome DateTime</th>\n",
              "      <th>Outcome MonthYear</th>\n",
              "      <th>Date of Birth</th>\n",
              "      <th>Outcome Type</th>\n",
              "      <th>Outcome Subtype</th>\n",
              "      <th>Animal Type_y</th>\n",
              "      <th>Sex Upon Outcome</th>\n",
              "      <th>Age Upon Outcome</th>\n",
              "      <th>Breed_y</th>\n",
              "      <th>Color_y</th>\n",
              "    </tr>\n",
              "  </thead>\n",
              "  <tbody>\n",
              "    <tr>\n",
              "      <th>0</th>\n",
              "      <td>A706918</td>\n",
              "      <td>Belle</td>\n",
              "      <td>07/05/2015 12:59:00 PM</td>\n",
              "      <td>07/05/2015 12:59:00 PM</td>\n",
              "      <td>9409 Bluegrass Dr in Austin (TX)</td>\n",
              "      <td>Stray</td>\n",
              "      <td>Normal</td>\n",
              "      <td>Dog</td>\n",
              "      <td>Spayed Female</td>\n",
              "      <td>8 years</td>\n",
              "      <td>English Springer Spaniel</td>\n",
              "      <td>White/Liver</td>\n",
              "      <td>Belle</td>\n",
              "      <td>07/05/2015 03:13:00 PM</td>\n",
              "      <td>07/05/2015 03:13:00 PM</td>\n",
              "      <td>07/05/2007</td>\n",
              "      <td>Return to Owner</td>\n",
              "      <td>NaN</td>\n",
              "      <td>Dog</td>\n",
              "      <td>Spayed Female</td>\n",
              "      <td>8 years</td>\n",
              "      <td>English Springer Spaniel</td>\n",
              "      <td>White/Liver</td>\n",
              "    </tr>\n",
              "    <tr>\n",
              "      <th>1</th>\n",
              "      <td>A724273</td>\n",
              "      <td>Runster</td>\n",
              "      <td>04/14/2016 06:43:00 PM</td>\n",
              "      <td>04/14/2016 06:43:00 PM</td>\n",
              "      <td>2818 Palomino Trail in Austin (TX)</td>\n",
              "      <td>Stray</td>\n",
              "      <td>Normal</td>\n",
              "      <td>Dog</td>\n",
              "      <td>Intact Male</td>\n",
              "      <td>11 months</td>\n",
              "      <td>Basenji Mix</td>\n",
              "      <td>Sable/White</td>\n",
              "      <td>Runster</td>\n",
              "      <td>04/21/2016 05:17:00 PM</td>\n",
              "      <td>04/21/2016 05:17:00 PM</td>\n",
              "      <td>04/17/2015</td>\n",
              "      <td>Return to Owner</td>\n",
              "      <td>NaN</td>\n",
              "      <td>Dog</td>\n",
              "      <td>Neutered Male</td>\n",
              "      <td>1 year</td>\n",
              "      <td>Basenji Mix</td>\n",
              "      <td>Sable/White</td>\n",
              "    </tr>\n",
              "    <tr>\n",
              "      <th>2</th>\n",
              "      <td>A665644</td>\n",
              "      <td>NaN</td>\n",
              "      <td>10/21/2013 07:59:00 AM</td>\n",
              "      <td>10/21/2013 07:59:00 AM</td>\n",
              "      <td>Austin (TX)</td>\n",
              "      <td>Stray</td>\n",
              "      <td>Sick</td>\n",
              "      <td>Cat</td>\n",
              "      <td>Intact Female</td>\n",
              "      <td>4 weeks</td>\n",
              "      <td>Domestic Shorthair Mix</td>\n",
              "      <td>Calico</td>\n",
              "      <td>NaN</td>\n",
              "      <td>10/21/2013 11:39:00 AM</td>\n",
              "      <td>10/21/2013 11:39:00 AM</td>\n",
              "      <td>09/21/2013</td>\n",
              "      <td>Transfer</td>\n",
              "      <td>Partner</td>\n",
              "      <td>Cat</td>\n",
              "      <td>Intact Female</td>\n",
              "      <td>4 weeks</td>\n",
              "      <td>Domestic Shorthair Mix</td>\n",
              "      <td>Calico</td>\n",
              "    </tr>\n",
              "    <tr>\n",
              "      <th>3</th>\n",
              "      <td>A682524</td>\n",
              "      <td>Rio</td>\n",
              "      <td>06/29/2014 10:38:00 AM</td>\n",
              "      <td>06/29/2014 10:38:00 AM</td>\n",
              "      <td>800 Grove Blvd in Austin (TX)</td>\n",
              "      <td>Stray</td>\n",
              "      <td>Normal</td>\n",
              "      <td>Dog</td>\n",
              "      <td>Neutered Male</td>\n",
              "      <td>4 years</td>\n",
              "      <td>Doberman Pinsch/Australian Cattle Dog</td>\n",
              "      <td>Tan/Gray</td>\n",
              "      <td>Rio</td>\n",
              "      <td>07/02/2014 02:16:00 PM</td>\n",
              "      <td>07/02/2014 02:16:00 PM</td>\n",
              "      <td>06/29/2010</td>\n",
              "      <td>Return to Owner</td>\n",
              "      <td>NaN</td>\n",
              "      <td>Dog</td>\n",
              "      <td>Neutered Male</td>\n",
              "      <td>4 years</td>\n",
              "      <td>Doberman Pinsch/Australian Cattle Dog</td>\n",
              "      <td>Tan/Gray</td>\n",
              "    </tr>\n",
              "    <tr>\n",
              "      <th>4</th>\n",
              "      <td>A743852</td>\n",
              "      <td>Odin</td>\n",
              "      <td>02/18/2017 12:46:00 PM</td>\n",
              "      <td>02/18/2017 12:46:00 PM</td>\n",
              "      <td>Austin (TX)</td>\n",
              "      <td>Owner Surrender</td>\n",
              "      <td>Normal</td>\n",
              "      <td>Dog</td>\n",
              "      <td>Neutered Male</td>\n",
              "      <td>2 years</td>\n",
              "      <td>Labrador Retriever Mix</td>\n",
              "      <td>Chocolate</td>\n",
              "      <td>Odin</td>\n",
              "      <td>02/21/2017 05:44:00 PM</td>\n",
              "      <td>02/21/2017 05:44:00 PM</td>\n",
              "      <td>02/18/2015</td>\n",
              "      <td>Return to Owner</td>\n",
              "      <td>NaN</td>\n",
              "      <td>Dog</td>\n",
              "      <td>Neutered Male</td>\n",
              "      <td>2 years</td>\n",
              "      <td>Labrador Retriever Mix</td>\n",
              "      <td>Chocolate</td>\n",
              "    </tr>\n",
              "  </tbody>\n",
              "</table>\n",
              "</div>"
            ],
            "text/plain": [
              "  Animal ID Name Intake  ...                                Breed_y      Color_y\n",
              "0   A706918       Belle  ...               English Springer Spaniel  White/Liver\n",
              "1   A724273     Runster  ...                            Basenji Mix  Sable/White\n",
              "2   A665644         NaN  ...                 Domestic Shorthair Mix       Calico\n",
              "3   A682524         Rio  ...  Doberman Pinsch/Australian Cattle Dog     Tan/Gray\n",
              "4   A743852        Odin  ...                 Labrador Retriever Mix    Chocolate\n",
              "\n",
              "[5 rows x 23 columns]"
            ]
          },
          "metadata": {
            "tags": []
          },
          "execution_count": 5
        }
      ]
    },
    {
      "cell_type": "code",
      "metadata": {
        "colab": {
          "base_uri": "https://localhost:8080/"
        },
        "id": "G_5xzar3sWTT",
        "outputId": "350de795-fce9-4c43-cef5-c62519466200"
      },
      "source": [
        "#Based on how many animal outcomes do not have an animal intake, I decided to look at the Animal ID intake to see if there were duplicates\n",
        "intake['Animal ID'].value_counts()"
      ],
      "execution_count": 6,
      "outputs": [
        {
          "output_type": "execute_result",
          "data": {
            "text/plain": [
              "A721033    33\n",
              "A718223    14\n",
              "A718877    12\n",
              "A706536    11\n",
              "A737814     9\n",
              "           ..\n",
              "A725698     1\n",
              "A802362     1\n",
              "A796447     1\n",
              "A826512     1\n",
              "A785312     1\n",
              "Name: Animal ID, Length: 110292, dtype: int64"
            ]
          },
          "metadata": {
            "tags": []
          },
          "execution_count": 6
        }
      ]
    },
    {
      "cell_type": "code",
      "metadata": {
        "colab": {
          "base_uri": "https://localhost:8080/"
        },
        "id": "c-KCyKRT_wsm",
        "outputId": "2d64d365-6e53-414f-a11e-e63629adbe05"
      },
      "source": [
        "#Based on how many animal outcomes do not have an animal intake, I decided to look at the Animal ID intake to see if there were duplicates\n",
        "outcome['Animal ID'].value_counts()"
      ],
      "execution_count": 7,
      "outputs": [
        {
          "output_type": "execute_result",
          "data": {
            "text/plain": [
              "A721033    33\n",
              "A718223    14\n",
              "A718877    12\n",
              "A706536    11\n",
              "A737814     9\n",
              "           ..\n",
              "A785905     1\n",
              "A800718     1\n",
              "A756801     1\n",
              "A752211     1\n",
              "A785312     1\n",
              "Name: Animal ID, Length: 110607, dtype: int64"
            ]
          },
          "metadata": {
            "tags": []
          },
          "execution_count": 7
        }
      ]
    },
    {
      "cell_type": "markdown",
      "metadata": {
        "id": "UmOBPIl9M_wL"
      },
      "source": [
        "##Cleaning Up the Dataframe created"
      ]
    },
    {
      "cell_type": "code",
      "metadata": {
        "colab": {
          "base_uri": "https://localhost:8080/",
          "height": 298
        },
        "id": "As2CvrfxfNkW",
        "outputId": "b0a349a8-a510-42b7-cf85-1b1168ea3015"
      },
      "source": [
        "#Now that I have gathered the dataframe for all animals with intakes and outcomes, I will clean up the dataframe by first dropping the columns not needed\n",
        "animal_shelter = animal_shelter.drop(['Intake MonthYear', 'Found Location', 'Outcome MonthYear', 'Breed_y', 'Color_y', 'Animal Type_y'], axis=1)\n",
        "animal_shelter.head(3)"
      ],
      "execution_count": 8,
      "outputs": [
        {
          "output_type": "execute_result",
          "data": {
            "text/html": [
              "<div>\n",
              "<style scoped>\n",
              "    .dataframe tbody tr th:only-of-type {\n",
              "        vertical-align: middle;\n",
              "    }\n",
              "\n",
              "    .dataframe tbody tr th {\n",
              "        vertical-align: top;\n",
              "    }\n",
              "\n",
              "    .dataframe thead th {\n",
              "        text-align: right;\n",
              "    }\n",
              "</style>\n",
              "<table border=\"1\" class=\"dataframe\">\n",
              "  <thead>\n",
              "    <tr style=\"text-align: right;\">\n",
              "      <th></th>\n",
              "      <th>Animal ID</th>\n",
              "      <th>Name Intake</th>\n",
              "      <th>Intake DateTime</th>\n",
              "      <th>Intake Type</th>\n",
              "      <th>Intake Condition</th>\n",
              "      <th>Animal Type_x</th>\n",
              "      <th>Sex Upon Intake</th>\n",
              "      <th>Age Upon Intake</th>\n",
              "      <th>Breed_x</th>\n",
              "      <th>Color_x</th>\n",
              "      <th>Name Outcome</th>\n",
              "      <th>Outcome DateTime</th>\n",
              "      <th>Date of Birth</th>\n",
              "      <th>Outcome Type</th>\n",
              "      <th>Outcome Subtype</th>\n",
              "      <th>Sex Upon Outcome</th>\n",
              "      <th>Age Upon Outcome</th>\n",
              "    </tr>\n",
              "  </thead>\n",
              "  <tbody>\n",
              "    <tr>\n",
              "      <th>0</th>\n",
              "      <td>A706918</td>\n",
              "      <td>Belle</td>\n",
              "      <td>07/05/2015 12:59:00 PM</td>\n",
              "      <td>Stray</td>\n",
              "      <td>Normal</td>\n",
              "      <td>Dog</td>\n",
              "      <td>Spayed Female</td>\n",
              "      <td>8 years</td>\n",
              "      <td>English Springer Spaniel</td>\n",
              "      <td>White/Liver</td>\n",
              "      <td>Belle</td>\n",
              "      <td>07/05/2015 03:13:00 PM</td>\n",
              "      <td>07/05/2007</td>\n",
              "      <td>Return to Owner</td>\n",
              "      <td>NaN</td>\n",
              "      <td>Spayed Female</td>\n",
              "      <td>8 years</td>\n",
              "    </tr>\n",
              "    <tr>\n",
              "      <th>1</th>\n",
              "      <td>A724273</td>\n",
              "      <td>Runster</td>\n",
              "      <td>04/14/2016 06:43:00 PM</td>\n",
              "      <td>Stray</td>\n",
              "      <td>Normal</td>\n",
              "      <td>Dog</td>\n",
              "      <td>Intact Male</td>\n",
              "      <td>11 months</td>\n",
              "      <td>Basenji Mix</td>\n",
              "      <td>Sable/White</td>\n",
              "      <td>Runster</td>\n",
              "      <td>04/21/2016 05:17:00 PM</td>\n",
              "      <td>04/17/2015</td>\n",
              "      <td>Return to Owner</td>\n",
              "      <td>NaN</td>\n",
              "      <td>Neutered Male</td>\n",
              "      <td>1 year</td>\n",
              "    </tr>\n",
              "    <tr>\n",
              "      <th>2</th>\n",
              "      <td>A665644</td>\n",
              "      <td>NaN</td>\n",
              "      <td>10/21/2013 07:59:00 AM</td>\n",
              "      <td>Stray</td>\n",
              "      <td>Sick</td>\n",
              "      <td>Cat</td>\n",
              "      <td>Intact Female</td>\n",
              "      <td>4 weeks</td>\n",
              "      <td>Domestic Shorthair Mix</td>\n",
              "      <td>Calico</td>\n",
              "      <td>NaN</td>\n",
              "      <td>10/21/2013 11:39:00 AM</td>\n",
              "      <td>09/21/2013</td>\n",
              "      <td>Transfer</td>\n",
              "      <td>Partner</td>\n",
              "      <td>Intact Female</td>\n",
              "      <td>4 weeks</td>\n",
              "    </tr>\n",
              "  </tbody>\n",
              "</table>\n",
              "</div>"
            ],
            "text/plain": [
              "  Animal ID Name Intake  ... Sex Upon Outcome Age Upon Outcome\n",
              "0   A706918       Belle  ...    Spayed Female          8 years\n",
              "1   A724273     Runster  ...    Neutered Male           1 year\n",
              "2   A665644         NaN  ...    Intact Female          4 weeks\n",
              "\n",
              "[3 rows x 17 columns]"
            ]
          },
          "metadata": {
            "tags": []
          },
          "execution_count": 8
        }
      ]
    },
    {
      "cell_type": "code",
      "metadata": {
        "colab": {
          "base_uri": "https://localhost:8080/"
        },
        "id": "NpWOE1IhNDFl",
        "outputId": "e8f6420a-5ec1-4b01-b973-38cc38b5db81"
      },
      "source": [
        "animal_shelter.isnull().sum()\n",
        "\n",
        "#The name NaNs should not effect the analysis. However, Outcome Subtype may effect it. If I use this section, I will have to address the NaNs"
      ],
      "execution_count": 9,
      "outputs": [
        {
          "output_type": "execute_result",
          "data": {
            "text/plain": [
              "Animal ID               0\n",
              "Name Intake         39651\n",
              "Intake DateTime         0\n",
              "Intake Type             0\n",
              "Intake Condition        0\n",
              "Animal Type_x           0\n",
              "Sex Upon Intake         1\n",
              "Age Upon Intake         0\n",
              "Breed_x                 0\n",
              "Color_x                 0\n",
              "Name Outcome        39651\n",
              "Outcome DateTime        0\n",
              "Date of Birth           0\n",
              "Outcome Type           16\n",
              "Outcome Subtype     97001\n",
              "Sex Upon Outcome        1\n",
              "Age Upon Outcome        8\n",
              "dtype: int64"
            ]
          },
          "metadata": {
            "tags": []
          },
          "execution_count": 9
        }
      ]
    },
    {
      "cell_type": "code",
      "metadata": {
        "colab": {
          "base_uri": "https://localhost:8080/"
        },
        "id": "4e5cKnStNYF4",
        "outputId": "818ad465-3dc1-40f5-cdde-f44aaf830578"
      },
      "source": [
        "#There are a lot of NaNs for names, however that is understandable since many animals in shelters are strays, or wildlife and may not have a name.\n",
        "#However, there seems to be a considerable amount of Outcome Subtype being NaN values, especially since only 16 Outcome Types are NaNs.\n",
        "#I will look to see why that is, first seeing what subtypes there are.\n",
        "\n",
        "animal_shelter['Outcome Type'].value_counts()\n",
        "\n",
        "#Need to figure out how to make a table with column A being Outcome Type and column B being the Outcome Subtypes. "
      ],
      "execution_count": 10,
      "outputs": [
        {
          "output_type": "execute_result",
          "data": {
            "text/plain": [
              "Adoption           71803\n",
              "Transfer           39824\n",
              "Return to Owner    35793\n",
              "Euthanasia          8668\n",
              "Rto-Adopt           1312\n",
              "Died                1187\n",
              "Disposal             566\n",
              "Missing               91\n",
              "Relocate              20\n",
              "Name: Outcome Type, dtype: int64"
            ]
          },
          "metadata": {
            "tags": []
          },
          "execution_count": 10
        }
      ]
    },
    {
      "cell_type": "code",
      "metadata": {
        "colab": {
          "base_uri": "https://localhost:8080/"
        },
        "id": "2IlLky1NZ2EL",
        "outputId": "31443840-9d81-4edd-fd35-63101b8976dd"
      },
      "source": [
        "animal_shelter.groupby('Outcome Type')['Outcome Subtype'].unique()\n",
        "\n",
        "#Looking at the subtype of the outcomes, we can see that all outcome types except Transfer have NaN values. "
      ],
      "execution_count": 11,
      "outputs": [
        {
          "output_type": "execute_result",
          "data": {
            "text/plain": [
              "Outcome Type\n",
              "Adoption                                [Foster, nan, Offsite, Barn]\n",
              "Died               [In Kennel, nan, In Surgery, At Vet, Enroute, ...\n",
              "Disposal                                                       [nan]\n",
              "Euthanasia         [Suffering, Rabies Risk, At Vet, Medical, nan,...\n",
              "Missing                  [In Foster, Possible Theft, nan, In Kennel]\n",
              "Relocate                                                       [nan]\n",
              "Return to Owner        [nan, Field, At Vet, Prc, Foster, Customer S]\n",
              "Rto-Adopt                                                      [nan]\n",
              "Transfer                            [Partner, SCRP, Snr, Barn, Emer]\n",
              "Name: Outcome Subtype, dtype: object"
            ]
          },
          "metadata": {
            "tags": []
          },
          "execution_count": 11
        }
      ]
    },
    {
      "cell_type": "code",
      "metadata": {
        "colab": {
          "base_uri": "https://localhost:8080/"
        },
        "id": "5aagFoU2mGtq",
        "outputId": "3b8d54a3-0afd-44c0-fde4-da9ac5303cba"
      },
      "source": [
        "animal_shelter['Outcome Type'] = animal_shelter['Outcome Type'].replace(to_replace='Relocate', value='Transfer')\n",
        "animal_shelter['Outcome Type'].value_counts()"
      ],
      "execution_count": 115,
      "outputs": [
        {
          "output_type": "execute_result",
          "data": {
            "text/plain": [
              "Adoption           71803\n",
              "Transfer           39844\n",
              "Return to Owner    35793\n",
              "Euthanasia          8668\n",
              "Rto-Adopt           1312\n",
              "Died                1187\n",
              "Disposal             566\n",
              "Missing               91\n",
              "Name: Outcome Type, dtype: int64"
            ]
          },
          "metadata": {
            "tags": []
          },
          "execution_count": 115
        }
      ]
    },
    {
      "cell_type": "code",
      "metadata": {
        "colab": {
          "base_uri": "https://localhost:8080/"
        },
        "id": "3R0R_ZwVZ6fl",
        "outputId": "fc30adba-7b70-41db-ff72-1747b6bc3004"
      },
      "source": [
        "#I want to see what the other values in Died and Euthanasia are\n",
        "\n",
        "outcome_subtypes = animal_shelter.groupby('Outcome Type')['Outcome Subtype'].unique()\n",
        "print('Died Subtype:\\n', outcome_subtypes['Died'])\n",
        "print('Euthanasia Subtypes:\\n', outcome_subtypes['Euthanasia'])"
      ],
      "execution_count": 116,
      "outputs": [
        {
          "output_type": "stream",
          "text": [
            "Died Subtype:\n",
            " ['In Kennel' nan 'In Surgery' 'At Vet' 'Enroute' 'In Foster']\n",
            "Euthanasia Subtypes:\n",
            " ['Suffering' 'Rabies Risk' 'At Vet' 'Medical' nan 'Underage' 'Aggressive'\n",
            " 'Court/Investigation' 'Behavior']\n"
          ],
          "name": "stdout"
        }
      ]
    },
    {
      "cell_type": "markdown",
      "metadata": {
        "id": "agEkn7bPLiVH"
      },
      "source": [
        "##Outcomes for Animals who have Died or have been Euthanized\n",
        "\n",
        "This section will look at the different outcomes for the animals. I will make a visualization in order to accurately represent the data found about the outcomes."
      ]
    },
    {
      "cell_type": "code",
      "metadata": {
        "colab": {
          "base_uri": "https://localhost:8080/"
        },
        "id": "28AjLqODFLtx",
        "outputId": "0eec1260-2139-4d86-c21a-2f9d5babe000"
      },
      "source": [
        "animal_shelter['Outcome Type'].value_counts()"
      ],
      "execution_count": 117,
      "outputs": [
        {
          "output_type": "execute_result",
          "data": {
            "text/plain": [
              "Adoption           71803\n",
              "Transfer           39844\n",
              "Return to Owner    35793\n",
              "Euthanasia          8668\n",
              "Rto-Adopt           1312\n",
              "Died                1187\n",
              "Disposal             566\n",
              "Missing               91\n",
              "Name: Outcome Type, dtype: int64"
            ]
          },
          "metadata": {
            "tags": []
          },
          "execution_count": 117
        }
      ]
    },
    {
      "cell_type": "code",
      "metadata": {
        "colab": {
          "base_uri": "https://localhost:8080/",
          "height": 373
        },
        "id": "5g8OpgLGg2r5",
        "outputId": "91442406-0ff7-44f0-e372-118eb9e9300e"
      },
      "source": [
        "fig, ax = plt.subplots()\n",
        "\n",
        "plt.bar(x=['Adoption', 'Transfer', 'Return to Owner', 'Euthanize', 'RTO Adoption', 'Died', 'Disposal', 'Missing'],\n",
        "        height=animal_shelter['Outcome Type'].value_counts())\n",
        "\n",
        "plt.xlabel('Outcome Type', fontweight=\"bold\", fontsize=14, labelpad=15)\n",
        "plt.ylabel('Number of Animals', fontweight=\"bold\", fontsize=14, labelpad=15)\n",
        "plt.title('AAC Outcomes for Animals\\nthat Entered Facility', fontweight='bold', fontsize=18, pad=15)\n",
        "\n",
        "ax.set_yticks([0, 10000, 20000, 30000, 40000, 50000, 60000, 70000])\n",
        "ax.set_yticks([5000, 15000, 25000, 35000, 45000, 55000, 65000], minor=True)\n",
        "\n",
        "ax.set_xticklabels(labels=['Adoption', 'Transfer', 'Return to Owner', 'Euthanize', 'RTO Adoption', 'Died', 'Disposal', 'Missing'],\n",
        "                   fontsize=12)\n",
        "ax.set_yticklabels(labels=[0, 10000, 20000, 30000, 40000, 50000, 60000, 70000], fontsize=12)\n",
        "\n",
        "fig.autofmt_xdate()\n",
        "\n",
        "plt.show()"
      ],
      "execution_count": 202,
      "outputs": [
        {
          "output_type": "display_data",
          "data": {
            "image/png": "[encoded data removed]",
            "text/plain": [
              "<Figure size 432x288 with 1 Axes>"
            ]
          },
          "metadata": {
            "tags": [],
            "needs_background": "light"
          }
        }
      ]
    },
    {
      "cell_type": "code",
      "metadata": {
        "colab": {
          "base_uri": "https://localhost:8080/",
          "height": 365
        },
        "id": "rtP7vrpGx75L",
        "outputId": "37cdbd8a-bd1a-4811-f470-f1d58fd682a2"
      },
      "source": [
        "#Making a bar graph for the outcomes with a lower amount of animals\n",
        "fig, ax = plt.subplots()\n",
        "\n",
        "plt.bar(x=['RTO Adoption', 'Died', 'Disposal', 'Missing'],\n",
        "        height=[1312, 1187, 566, 91])\n",
        "\n",
        "plt.xlabel('Outcome Type', fontweight='bold', fontsize=14, labelpad=15)\n",
        "plt.ylabel('Number of Animals', fontweight='bold', fontsize=14, labelpad=10)\n",
        "plt.title('Austin Animal Center Outcomes for\\nAnimals that Entered Facility', fontweight='bold', fontsize=18, pad=15)\n",
        "\n",
        "ax.set_yticks([0, 200, 400, 600, 800, 1000, 1200, 1400])\n",
        "ax.set_yticks([100, 300, 500, 700, 900, 1100, 1300], minor=True)\n",
        "ax.set_xticklabels(labels=['RTO Adoption', 'Died', 'Disposal', 'Missing'], fontsize=12)\n",
        "ax.set_yticklabels(labels=[0, 200, 400, 600, 800, 1000, 1200, 1400], fontsize=12)\n",
        "\n",
        "fig.autofmt_xdate()\n",
        "\n",
        "plt.show()"
      ],
      "execution_count": 203,
      "outputs": [
        {
          "output_type": "display_data",
          "data": {
            "image/png": "[encoded data removed]",
            "text/plain": [
              "<Figure size 432x288 with 1 Axes>"
            ]
          },
          "metadata": {
            "tags": [],
            "needs_background": "light"
          }
        }
      ]
    },
    {
      "cell_type": "code",
      "metadata": {
        "colab": {
          "base_uri": "https://localhost:8080/",
          "height": 142
        },
        "id": "xmq1NFyR-6Qr",
        "outputId": "97304207-8998-4a59-a99c-a0a1ab037960"
      },
      "source": [
        "outcome = animal_shelter['Outcome Type'].reset_index()\n",
        "outcome.head(3)"
      ],
      "execution_count": 204,
      "outputs": [
        {
          "output_type": "execute_result",
          "data": {
            "text/html": [
              "<div>\n",
              "<style scoped>\n",
              "    .dataframe tbody tr th:only-of-type {\n",
              "        vertical-align: middle;\n",
              "    }\n",
              "\n",
              "    .dataframe tbody tr th {\n",
              "        vertical-align: top;\n",
              "    }\n",
              "\n",
              "    .dataframe thead th {\n",
              "        text-align: right;\n",
              "    }\n",
              "</style>\n",
              "<table border=\"1\" class=\"dataframe\">\n",
              "  <thead>\n",
              "    <tr style=\"text-align: right;\">\n",
              "      <th></th>\n",
              "      <th>index</th>\n",
              "      <th>Outcome Type</th>\n",
              "    </tr>\n",
              "  </thead>\n",
              "  <tbody>\n",
              "    <tr>\n",
              "      <th>0</th>\n",
              "      <td>0</td>\n",
              "      <td>Return to Owner</td>\n",
              "    </tr>\n",
              "    <tr>\n",
              "      <th>1</th>\n",
              "      <td>1</td>\n",
              "      <td>Return to Owner</td>\n",
              "    </tr>\n",
              "    <tr>\n",
              "      <th>2</th>\n",
              "      <td>2</td>\n",
              "      <td>Transfer</td>\n",
              "    </tr>\n",
              "  </tbody>\n",
              "</table>\n",
              "</div>"
            ],
            "text/plain": [
              "   index     Outcome Type\n",
              "0      0  Return to Owner\n",
              "1      1  Return to Owner\n",
              "2      2         Transfer"
            ]
          },
          "metadata": {
            "tags": []
          },
          "execution_count": 204
        }
      ]
    },
    {
      "cell_type": "code",
      "metadata": {
        "colab": {
          "base_uri": "https://localhost:8080/",
          "height": 142
        },
        "id": "nJknay6E_rXB",
        "outputId": "4aff82f8-c6b8-4e52-edbd-20522662d403"
      },
      "source": [
        "outcome_sub = animal_shelter['Outcome Subtype'].reset_index()\n",
        "outcome_sub.head(3)"
      ],
      "execution_count": 205,
      "outputs": [
        {
          "output_type": "execute_result",
          "data": {
            "text/html": [
              "<div>\n",
              "<style scoped>\n",
              "    .dataframe tbody tr th:only-of-type {\n",
              "        vertical-align: middle;\n",
              "    }\n",
              "\n",
              "    .dataframe tbody tr th {\n",
              "        vertical-align: top;\n",
              "    }\n",
              "\n",
              "    .dataframe thead th {\n",
              "        text-align: right;\n",
              "    }\n",
              "</style>\n",
              "<table border=\"1\" class=\"dataframe\">\n",
              "  <thead>\n",
              "    <tr style=\"text-align: right;\">\n",
              "      <th></th>\n",
              "      <th>index</th>\n",
              "      <th>Outcome Subtype</th>\n",
              "    </tr>\n",
              "  </thead>\n",
              "  <tbody>\n",
              "    <tr>\n",
              "      <th>0</th>\n",
              "      <td>0</td>\n",
              "      <td>NaN</td>\n",
              "    </tr>\n",
              "    <tr>\n",
              "      <th>1</th>\n",
              "      <td>1</td>\n",
              "      <td>NaN</td>\n",
              "    </tr>\n",
              "    <tr>\n",
              "      <th>2</th>\n",
              "      <td>2</td>\n",
              "      <td>Partner</td>\n",
              "    </tr>\n",
              "  </tbody>\n",
              "</table>\n",
              "</div>"
            ],
            "text/plain": [
              "   index Outcome Subtype\n",
              "0      0             NaN\n",
              "1      1             NaN\n",
              "2      2         Partner"
            ]
          },
          "metadata": {
            "tags": []
          },
          "execution_count": 205
        }
      ]
    },
    {
      "cell_type": "code",
      "metadata": {
        "colab": {
          "base_uri": "https://localhost:8080/",
          "height": 142
        },
        "id": "ACgo3kfFNgby",
        "outputId": "07b50763-ae99-4b37-e1e1-699871a6861c"
      },
      "source": [
        "animal_type = animal_shelter['Animal Type_x'].reset_index()\n",
        "animal_type.head(3)"
      ],
      "execution_count": 206,
      "outputs": [
        {
          "output_type": "execute_result",
          "data": {
            "text/html": [
              "<div>\n",
              "<style scoped>\n",
              "    .dataframe tbody tr th:only-of-type {\n",
              "        vertical-align: middle;\n",
              "    }\n",
              "\n",
              "    .dataframe tbody tr th {\n",
              "        vertical-align: top;\n",
              "    }\n",
              "\n",
              "    .dataframe thead th {\n",
              "        text-align: right;\n",
              "    }\n",
              "</style>\n",
              "<table border=\"1\" class=\"dataframe\">\n",
              "  <thead>\n",
              "    <tr style=\"text-align: right;\">\n",
              "      <th></th>\n",
              "      <th>index</th>\n",
              "      <th>Animal Type_x</th>\n",
              "    </tr>\n",
              "  </thead>\n",
              "  <tbody>\n",
              "    <tr>\n",
              "      <th>0</th>\n",
              "      <td>0</td>\n",
              "      <td>Dog</td>\n",
              "    </tr>\n",
              "    <tr>\n",
              "      <th>1</th>\n",
              "      <td>1</td>\n",
              "      <td>Dog</td>\n",
              "    </tr>\n",
              "    <tr>\n",
              "      <th>2</th>\n",
              "      <td>2</td>\n",
              "      <td>Cat</td>\n",
              "    </tr>\n",
              "  </tbody>\n",
              "</table>\n",
              "</div>"
            ],
            "text/plain": [
              "   index Animal Type_x\n",
              "0      0           Dog\n",
              "1      1           Dog\n",
              "2      2           Cat"
            ]
          },
          "metadata": {
            "tags": []
          },
          "execution_count": 206
        }
      ]
    },
    {
      "cell_type": "code",
      "metadata": {
        "colab": {
          "base_uri": "https://localhost:8080/",
          "height": 142
        },
        "id": "-HkXsOReOGzM",
        "outputId": "c50dc715-1d55-4d3b-c05b-0d383bf92f60"
      },
      "source": [
        "animal_breed = animal_shelter['Breed_x'].reset_index()\n",
        "animal_breed.head(3)"
      ],
      "execution_count": 207,
      "outputs": [
        {
          "output_type": "execute_result",
          "data": {
            "text/html": [
              "<div>\n",
              "<style scoped>\n",
              "    .dataframe tbody tr th:only-of-type {\n",
              "        vertical-align: middle;\n",
              "    }\n",
              "\n",
              "    .dataframe tbody tr th {\n",
              "        vertical-align: top;\n",
              "    }\n",
              "\n",
              "    .dataframe thead th {\n",
              "        text-align: right;\n",
              "    }\n",
              "</style>\n",
              "<table border=\"1\" class=\"dataframe\">\n",
              "  <thead>\n",
              "    <tr style=\"text-align: right;\">\n",
              "      <th></th>\n",
              "      <th>index</th>\n",
              "      <th>Breed_x</th>\n",
              "    </tr>\n",
              "  </thead>\n",
              "  <tbody>\n",
              "    <tr>\n",
              "      <th>0</th>\n",
              "      <td>0</td>\n",
              "      <td>English Springer Spaniel</td>\n",
              "    </tr>\n",
              "    <tr>\n",
              "      <th>1</th>\n",
              "      <td>1</td>\n",
              "      <td>Basenji Mix</td>\n",
              "    </tr>\n",
              "    <tr>\n",
              "      <th>2</th>\n",
              "      <td>2</td>\n",
              "      <td>Domestic Shorthair Mix</td>\n",
              "    </tr>\n",
              "  </tbody>\n",
              "</table>\n",
              "</div>"
            ],
            "text/plain": [
              "   index                   Breed_x\n",
              "0      0  English Springer Spaniel\n",
              "1      1               Basenji Mix\n",
              "2      2    Domestic Shorthair Mix"
            ]
          },
          "metadata": {
            "tags": []
          },
          "execution_count": 207
        }
      ]
    },
    {
      "cell_type": "code",
      "metadata": {
        "id": "vCGQDin3_FI6"
      },
      "source": [
        "outcome_subtype_no_nan = animal_shelter['Outcome Subtype'].dropna().reset_index()"
      ],
      "execution_count": 208,
      "outputs": []
    },
    {
      "cell_type": "code",
      "metadata": {
        "colab": {
          "base_uri": "https://localhost:8080/",
          "height": 142
        },
        "id": "-JBW0Lsu8uWd",
        "outputId": "d3a455cc-6425-4b88-fb56-f484c2d88317"
      },
      "source": [
        "outcomes = pd.merge(outcome, outcome_sub, on='index')\n",
        "outcomes = pd.merge(outcomes, animal_type, on='index')\n",
        "outcomes = pd.merge(outcomes, animal_breed)\n",
        "outcomes.head(3)"
      ],
      "execution_count": 209,
      "outputs": [
        {
          "output_type": "execute_result",
          "data": {
            "text/html": [
              "<div>\n",
              "<style scoped>\n",
              "    .dataframe tbody tr th:only-of-type {\n",
              "        vertical-align: middle;\n",
              "    }\n",
              "\n",
              "    .dataframe tbody tr th {\n",
              "        vertical-align: top;\n",
              "    }\n",
              "\n",
              "    .dataframe thead th {\n",
              "        text-align: right;\n",
              "    }\n",
              "</style>\n",
              "<table border=\"1\" class=\"dataframe\">\n",
              "  <thead>\n",
              "    <tr style=\"text-align: right;\">\n",
              "      <th></th>\n",
              "      <th>index</th>\n",
              "      <th>Outcome Type</th>\n",
              "      <th>Outcome Subtype</th>\n",
              "      <th>Animal Type_x</th>\n",
              "      <th>Breed_x</th>\n",
              "    </tr>\n",
              "  </thead>\n",
              "  <tbody>\n",
              "    <tr>\n",
              "      <th>0</th>\n",
              "      <td>0</td>\n",
              "      <td>Return to Owner</td>\n",
              "      <td>NaN</td>\n",
              "      <td>Dog</td>\n",
              "      <td>English Springer Spaniel</td>\n",
              "    </tr>\n",
              "    <tr>\n",
              "      <th>1</th>\n",
              "      <td>1</td>\n",
              "      <td>Return to Owner</td>\n",
              "      <td>NaN</td>\n",
              "      <td>Dog</td>\n",
              "      <td>Basenji Mix</td>\n",
              "    </tr>\n",
              "    <tr>\n",
              "      <th>2</th>\n",
              "      <td>2</td>\n",
              "      <td>Transfer</td>\n",
              "      <td>Partner</td>\n",
              "      <td>Cat</td>\n",
              "      <td>Domestic Shorthair Mix</td>\n",
              "    </tr>\n",
              "  </tbody>\n",
              "</table>\n",
              "</div>"
            ],
            "text/plain": [
              "   index     Outcome Type  ... Animal Type_x                   Breed_x\n",
              "0      0  Return to Owner  ...           Dog  English Springer Spaniel\n",
              "1      1  Return to Owner  ...           Dog               Basenji Mix\n",
              "2      2         Transfer  ...           Cat    Domestic Shorthair Mix\n",
              "\n",
              "[3 rows x 5 columns]"
            ]
          },
          "metadata": {
            "tags": []
          },
          "execution_count": 209
        }
      ]
    },
    {
      "cell_type": "code",
      "metadata": {
        "colab": {
          "base_uri": "https://localhost:8080/",
          "height": 142
        },
        "id": "peRsA5xyAFb1",
        "outputId": "cbe298bb-22c0-409e-843b-f794279781f8"
      },
      "source": [
        "outcomes_no_index = outcomes.drop('index', axis=1)\n",
        "outcomes_no_index.head(3)"
      ],
      "execution_count": 210,
      "outputs": [
        {
          "output_type": "execute_result",
          "data": {
            "text/html": [
              "<div>\n",
              "<style scoped>\n",
              "    .dataframe tbody tr th:only-of-type {\n",
              "        vertical-align: middle;\n",
              "    }\n",
              "\n",
              "    .dataframe tbody tr th {\n",
              "        vertical-align: top;\n",
              "    }\n",
              "\n",
              "    .dataframe thead th {\n",
              "        text-align: right;\n",
              "    }\n",
              "</style>\n",
              "<table border=\"1\" class=\"dataframe\">\n",
              "  <thead>\n",
              "    <tr style=\"text-align: right;\">\n",
              "      <th></th>\n",
              "      <th>Outcome Type</th>\n",
              "      <th>Outcome Subtype</th>\n",
              "      <th>Animal Type_x</th>\n",
              "      <th>Breed_x</th>\n",
              "    </tr>\n",
              "  </thead>\n",
              "  <tbody>\n",
              "    <tr>\n",
              "      <th>0</th>\n",
              "      <td>Return to Owner</td>\n",
              "      <td>NaN</td>\n",
              "      <td>Dog</td>\n",
              "      <td>English Springer Spaniel</td>\n",
              "    </tr>\n",
              "    <tr>\n",
              "      <th>1</th>\n",
              "      <td>Return to Owner</td>\n",
              "      <td>NaN</td>\n",
              "      <td>Dog</td>\n",
              "      <td>Basenji Mix</td>\n",
              "    </tr>\n",
              "    <tr>\n",
              "      <th>2</th>\n",
              "      <td>Transfer</td>\n",
              "      <td>Partner</td>\n",
              "      <td>Cat</td>\n",
              "      <td>Domestic Shorthair Mix</td>\n",
              "    </tr>\n",
              "  </tbody>\n",
              "</table>\n",
              "</div>"
            ],
            "text/plain": [
              "      Outcome Type Outcome Subtype Animal Type_x                   Breed_x\n",
              "0  Return to Owner             NaN           Dog  English Springer Spaniel\n",
              "1  Return to Owner             NaN           Dog               Basenji Mix\n",
              "2         Transfer         Partner           Cat    Domestic Shorthair Mix"
            ]
          },
          "metadata": {
            "tags": []
          },
          "execution_count": 210
        }
      ]
    },
    {
      "cell_type": "code",
      "metadata": {
        "colab": {
          "base_uri": "https://localhost:8080/",
          "height": 142
        },
        "id": "8kQq1InxCvGo",
        "outputId": "e55dfcba-0989-4bb2-d2f2-2ab0b65466f3"
      },
      "source": [
        "died_subtypes = outcomes_no_index[(outcomes_no_index['Outcome Type'] == 'Died')]\n",
        "died_subtypes.head(3)"
      ],
      "execution_count": 211,
      "outputs": [
        {
          "output_type": "execute_result",
          "data": {
            "text/html": [
              "<div>\n",
              "<style scoped>\n",
              "    .dataframe tbody tr th:only-of-type {\n",
              "        vertical-align: middle;\n",
              "    }\n",
              "\n",
              "    .dataframe tbody tr th {\n",
              "        vertical-align: top;\n",
              "    }\n",
              "\n",
              "    .dataframe thead th {\n",
              "        text-align: right;\n",
              "    }\n",
              "</style>\n",
              "<table border=\"1\" class=\"dataframe\">\n",
              "  <thead>\n",
              "    <tr style=\"text-align: right;\">\n",
              "      <th></th>\n",
              "      <th>Outcome Type</th>\n",
              "      <th>Outcome Subtype</th>\n",
              "      <th>Animal Type_x</th>\n",
              "      <th>Breed_x</th>\n",
              "    </tr>\n",
              "  </thead>\n",
              "  <tbody>\n",
              "    <tr>\n",
              "      <th>56</th>\n",
              "      <td>Died</td>\n",
              "      <td>In Kennel</td>\n",
              "      <td>Cat</td>\n",
              "      <td>Domestic Shorthair Mix</td>\n",
              "    </tr>\n",
              "    <tr>\n",
              "      <th>136</th>\n",
              "      <td>Died</td>\n",
              "      <td>NaN</td>\n",
              "      <td>Other</td>\n",
              "      <td>Bat</td>\n",
              "    </tr>\n",
              "    <tr>\n",
              "      <th>622</th>\n",
              "      <td>Died</td>\n",
              "      <td>In Surgery</td>\n",
              "      <td>Dog</td>\n",
              "      <td>Miniature Pinscher/Yorkshire Terrier</td>\n",
              "    </tr>\n",
              "  </tbody>\n",
              "</table>\n",
              "</div>"
            ],
            "text/plain": [
              "    Outcome Type  ...                               Breed_x\n",
              "56          Died  ...                Domestic Shorthair Mix\n",
              "136         Died  ...                                   Bat\n",
              "622         Died  ...  Miniature Pinscher/Yorkshire Terrier\n",
              "\n",
              "[3 rows x 4 columns]"
            ]
          },
          "metadata": {
            "tags": []
          },
          "execution_count": 211
        }
      ]
    },
    {
      "cell_type": "code",
      "metadata": {
        "colab": {
          "base_uri": "https://localhost:8080/"
        },
        "id": "sCL3yQcKCzpW",
        "outputId": "bda3b1f3-5f07-424e-cbda-11a00e89dc9e"
      },
      "source": [
        "died_subtypes.isnull().sum()"
      ],
      "execution_count": 212,
      "outputs": [
        {
          "output_type": "execute_result",
          "data": {
            "text/plain": [
              "Outcome Type         0\n",
              "Outcome Subtype    109\n",
              "Animal Type_x        0\n",
              "Breed_x              0\n",
              "dtype: int64"
            ]
          },
          "metadata": {
            "tags": []
          },
          "execution_count": 212
        }
      ]
    },
    {
      "cell_type": "code",
      "metadata": {
        "colab": {
          "base_uri": "https://localhost:8080/"
        },
        "id": "0Ljg3R4WDIzS",
        "outputId": "c1077cfe-f7b1-446f-acab-ad1e09cd7f9a"
      },
      "source": [
        "died_subtypes['Outcome Subtype'].value_counts()"
      ],
      "execution_count": 213,
      "outputs": [
        {
          "output_type": "execute_result",
          "data": {
            "text/plain": [
              "In Kennel     596\n",
              "In Foster     279\n",
              "At Vet         97\n",
              "Enroute        84\n",
              "In Surgery     22\n",
              "Name: Outcome Subtype, dtype: int64"
            ]
          },
          "metadata": {
            "tags": []
          },
          "execution_count": 213
        }
      ]
    },
    {
      "cell_type": "code",
      "metadata": {
        "colab": {
          "base_uri": "https://localhost:8080/",
          "height": 435
        },
        "id": "q7CG9YqMmnUQ",
        "outputId": "6a4182d1-fb03-410a-ee29-3c6438638282"
      },
      "source": [
        "#Making a pie chart for outcome subtypes for Died\n",
        "died_labels = (['In Kennel', 'In Foster', 'At Vet', 'Enroute', 'In Surgery', 'No Subtype'])\n",
        "died_sizes = (596, 279, 97, 84, 22, 109)\n",
        "\n",
        "fig, ax = plt.subplots()\n",
        "\n",
        "ax.pie(died_sizes, labels=died_labels, autopct='%1.1f%%', radius=2, startangle=90, explode=[0.05, 0.05, 0, 0, 0, 0],\n",
        "       textprops={'fontsize': 13})\n",
        "ax.set_title('Died Subtypes', fontweight='bold', y=1.45, fontsize=18)\n",
        "\n",
        "plt.show()"
      ],
      "execution_count": 214,
      "outputs": [
        {
          "output_type": "display_data",
          "data": {
            "image/png": "[encoded data removed]",
            "text/plain": [
              "<Figure size 432x288 with 1 Axes>"
            ]
          },
          "metadata": {
            "tags": []
          }
        }
      ]
    },
    {
      "cell_type": "code",
      "metadata": {
        "colab": {
          "base_uri": "https://localhost:8080/",
          "height": 142
        },
        "id": "5yjgrBiWAvWx",
        "outputId": "24e8e4b3-a8bf-4728-9a00-e8ad4b217d3d"
      },
      "source": [
        "euthanasia_subtypes = outcomes_no_index[(outcomes_no_index['Outcome Type'] == 'Euthanasia')]\n",
        "euthanasia_subtypes.head(3)"
      ],
      "execution_count": 215,
      "outputs": [
        {
          "output_type": "execute_result",
          "data": {
            "text/html": [
              "<div>\n",
              "<style scoped>\n",
              "    .dataframe tbody tr th:only-of-type {\n",
              "        vertical-align: middle;\n",
              "    }\n",
              "\n",
              "    .dataframe tbody tr th {\n",
              "        vertical-align: top;\n",
              "    }\n",
              "\n",
              "    .dataframe thead th {\n",
              "        text-align: right;\n",
              "    }\n",
              "</style>\n",
              "<table border=\"1\" class=\"dataframe\">\n",
              "  <thead>\n",
              "    <tr style=\"text-align: right;\">\n",
              "      <th></th>\n",
              "      <th>Outcome Type</th>\n",
              "      <th>Outcome Subtype</th>\n",
              "      <th>Animal Type_x</th>\n",
              "      <th>Breed_x</th>\n",
              "    </tr>\n",
              "  </thead>\n",
              "  <tbody>\n",
              "    <tr>\n",
              "      <th>17</th>\n",
              "      <td>Euthanasia</td>\n",
              "      <td>Suffering</td>\n",
              "      <td>Cat</td>\n",
              "      <td>Domestic Shorthair Mix</td>\n",
              "    </tr>\n",
              "    <tr>\n",
              "      <th>39</th>\n",
              "      <td>Euthanasia</td>\n",
              "      <td>Rabies Risk</td>\n",
              "      <td>Other</td>\n",
              "      <td>Bat Mix</td>\n",
              "    </tr>\n",
              "    <tr>\n",
              "      <th>49</th>\n",
              "      <td>Euthanasia</td>\n",
              "      <td>Suffering</td>\n",
              "      <td>Dog</td>\n",
              "      <td>Boxer Mix</td>\n",
              "    </tr>\n",
              "  </tbody>\n",
              "</table>\n",
              "</div>"
            ],
            "text/plain": [
              "   Outcome Type Outcome Subtype Animal Type_x                 Breed_x\n",
              "17   Euthanasia       Suffering           Cat  Domestic Shorthair Mix\n",
              "39   Euthanasia     Rabies Risk         Other                 Bat Mix\n",
              "49   Euthanasia       Suffering           Dog               Boxer Mix"
            ]
          },
          "metadata": {
            "tags": []
          },
          "execution_count": 215
        }
      ]
    },
    {
      "cell_type": "code",
      "metadata": {
        "colab": {
          "base_uri": "https://localhost:8080/"
        },
        "id": "3toUxYFjBzIG",
        "outputId": "fc62a940-8e78-4aa9-c3eb-0b227d9f98a9"
      },
      "source": [
        "euthanasia_subtypes.isnull().sum()"
      ],
      "execution_count": 216,
      "outputs": [
        {
          "output_type": "execute_result",
          "data": {
            "text/plain": [
              "Outcome Type         0\n",
              "Outcome Subtype    227\n",
              "Animal Type_x        0\n",
              "Breed_x              0\n",
              "dtype: int64"
            ]
          },
          "metadata": {
            "tags": []
          },
          "execution_count": 216
        }
      ]
    },
    {
      "cell_type": "code",
      "metadata": {
        "colab": {
          "base_uri": "https://localhost:8080/"
        },
        "id": "1Rvxb-uOEiYB",
        "outputId": "8b777eda-7ec7-40f1-f2c3-7b7cb873cc1a"
      },
      "source": [
        "euthanasia_subtypes['Outcome Subtype'].value_counts()"
      ],
      "execution_count": 217,
      "outputs": [
        {
          "output_type": "execute_result",
          "data": {
            "text/plain": [
              "Rabies Risk            3683\n",
              "Suffering              3307\n",
              "Aggressive              688\n",
              "Medical                 313\n",
              "Behavior                183\n",
              "At Vet                  179\n",
              "Court/Investigation      52\n",
              "Underage                 36\n",
              "Name: Outcome Subtype, dtype: int64"
            ]
          },
          "metadata": {
            "tags": []
          },
          "execution_count": 217
        }
      ]
    },
    {
      "cell_type": "code",
      "metadata": {
        "colab": {
          "base_uri": "https://localhost:8080/",
          "height": 451
        },
        "id": "O8LmeI26rbK-",
        "outputId": "3912a3ef-03dd-43f7-b69c-7e88ab57d6f5"
      },
      "source": [
        "#Making a pie chart for outcome subtypes for Euthanization\n",
        "euth_labels = ['Rabies Risk', 'Suffering', 'Underage', 'Aggressive', 'Medical', 'Behavior', 'At Vet', 'No Subtype', 'Court/Investigation']\n",
        "euth_sizes = (3683, 3307, 36, 688, 313, 183, 179, 227, 52)\n",
        "\n",
        "fig, ax = plt.subplots()\n",
        "\n",
        "ax.pie(euth_sizes, labels=euth_labels, radius=2, autopct='%1.1f%%', startangle=28, explode=[0.05, 0.05, 0, 0, 0, 0, 0, 0, 0],\n",
        "        colors=['royalblue', 'darkorange', 'teal', 'red', 'limegreen', 'gold', 'slateblue', 'grey', 'hotpink'], textprops={'fontsize': 13})\n",
        "\n",
        "ax.set_title('Euthanization Subtypes', fontweight='bold', y=1.45, pad=10, loc='center', fontsize=18)\n",
        "\n",
        "plt.show()"
      ],
      "execution_count": 218,
      "outputs": [
        {
          "output_type": "display_data",
          "data": {
            "image/png": "[encoded data removed]",
            "text/plain": [
              "<Figure size 432x288 with 1 Axes>"
            ]
          },
          "metadata": {
            "tags": []
          }
        }
      ]
    },
    {
      "cell_type": "markdown",
      "metadata": {
        "id": "876e49XoP9aR"
      },
      "source": [
        "##Animal Types at the Facility"
      ]
    },
    {
      "cell_type": "code",
      "metadata": {
        "colab": {
          "base_uri": "https://localhost:8080/"
        },
        "id": "H5jUZXtbMuv4",
        "outputId": "4e91691c-8d97-45df-aecf-36c411a8ef62"
      },
      "source": [
        "outcomes_no_index['Animal Type_x'].value_counts()"
      ],
      "execution_count": 219,
      "outputs": [
        {
          "output_type": "execute_result",
          "data": {
            "text/plain": [
              "Dog          101323\n",
              "Cat           50753\n",
              "Other          6604\n",
              "Bird            581\n",
              "Livestock        19\n",
              "Name: Animal Type_x, dtype: int64"
            ]
          },
          "metadata": {
            "tags": []
          },
          "execution_count": 219
        }
      ]
    },
    {
      "cell_type": "code",
      "metadata": {
        "colab": {
          "base_uri": "https://localhost:8080/",
          "height": 0
        },
        "id": "lKTKoapQMm3Z",
        "outputId": "f31bd1c1-b102-4409-95c5-3da5c8388c6d"
      },
      "source": [
        "fig, ax = plt.subplots()\n",
        "\n",
        "plt.bar(x=['Dog', 'Cat', 'Other', 'Bird', 'Livestock'], height=outcomes_no_index['Animal Type_x'].value_counts())\n",
        "\n",
        "ax.set_xlabel('Type of Animal', fontweight=\"bold\", fontsize=14, labelpad=15)\n",
        "ax.set_ylabel('Number of Animals', fontweight='bold', fontsize=14, labelpad=10)\n",
        "ax.set_title('Animal Types at AAC', fontweight='bold', fontsize=18, pad=15)\n",
        "ax.set_xticklabels(labels=['Dog', 'Cat', 'Other', 'Bird', 'Livestock'], fontsize=12)\n",
        "ax.set_yticklabels(labels=[0, 20000, 40000, 60000, 80000, 100000], fontsize=12)\n",
        "\n",
        "plt.show()"
      ],
      "execution_count": 220,
      "outputs": [
        {
          "output_type": "display_data",
          "data": {
            "image/png": "[encoded data removed]",
            "text/plain": [
              "<Figure size 432x288 with 1 Axes>"
            ]
          },
          "metadata": {
            "tags": [],
            "needs_background": "light"
          }
        }
      ]
    },
    {
      "cell_type": "code",
      "metadata": {
        "colab": {
          "base_uri": "https://localhost:8080/",
          "height": 0
        },
        "id": "vjwO4C_4bc0Z",
        "outputId": "8ac7e983-0ea8-410d-b03b-bcd95464114b"
      },
      "source": [
        "pd.DataFrame({'Dogs': [101323], 'Cats': [50753], 'Other':[6604] , 'Birds': [581], 'Livestock': [19]})"
      ],
      "execution_count": 221,
      "outputs": [
        {
          "output_type": "execute_result",
          "data": {
            "text/html": [
              "<div>\n",
              "<style scoped>\n",
              "    .dataframe tbody tr th:only-of-type {\n",
              "        vertical-align: middle;\n",
              "    }\n",
              "\n",
              "    .dataframe tbody tr th {\n",
              "        vertical-align: top;\n",
              "    }\n",
              "\n",
              "    .dataframe thead th {\n",
              "        text-align: right;\n",
              "    }\n",
              "</style>\n",
              "<table border=\"1\" class=\"dataframe\">\n",
              "  <thead>\n",
              "    <tr style=\"text-align: right;\">\n",
              "      <th></th>\n",
              "      <th>Dogs</th>\n",
              "      <th>Cats</th>\n",
              "      <th>Other</th>\n",
              "      <th>Birds</th>\n",
              "      <th>Livestock</th>\n",
              "    </tr>\n",
              "  </thead>\n",
              "  <tbody>\n",
              "    <tr>\n",
              "      <th>0</th>\n",
              "      <td>101323</td>\n",
              "      <td>50753</td>\n",
              "      <td>6604</td>\n",
              "      <td>581</td>\n",
              "      <td>19</td>\n",
              "    </tr>\n",
              "  </tbody>\n",
              "</table>\n",
              "</div>"
            ],
            "text/plain": [
              "     Dogs   Cats  Other  Birds  Livestock\n",
              "0  101323  50753   6604    581         19"
            ]
          },
          "metadata": {
            "tags": []
          },
          "execution_count": 221
        }
      ]
    },
    {
      "cell_type": "code",
      "metadata": {
        "colab": {
          "base_uri": "https://localhost:8080/",
          "height": 0
        },
        "id": "CbNEri4Vf2Qr",
        "outputId": "2be41965-a528-4020-be51-351f35364e73"
      },
      "source": [
        "fig = go.Figure(data=[go.Table(header=dict(values=['Dogs', 'Cats', 'Birds', 'Livestock', 'Other']),\n",
        "                               cells=dict(values=[[101323], [50753], [581], [19], [6604]])), \n",
        "                     ])\n",
        "fig.update_layout(width=600, title='Animal Types at AAC')\n",
        "\n",
        "fig.show()"
      ],
      "execution_count": 222,
      "outputs": [
        {
          "output_type": "display_data",
          "data": {
            "text/html": [
              "<html>\n",
              "<head><meta charset=\"utf-8\" /></head>\n",
              "<body>\n",
              "    <div>\n",
              "            <script src=\"https://cdnjs.cloudflare.com/ajax/libs/mathjax/2.7.5/MathJax.js?config=TeX-AMS-MML_SVG\"></script><script type=\"text/javascript\">if (window.MathJax) {MathJax.Hub.Config({SVG: {font: \"STIX-Web\"}});}</script>\n",
              "                <script type=\"text/javascript\">window.PlotlyConfig = {MathJaxConfig: 'local'};</script>\n",
              "        <script src=\"https://cdn.plot.ly/plotly-latest.min.js\"></script>    \n",
              "            <div id=\"de90f139-a05a-4bfd-b7c1-b54a52e334b2\" class=\"plotly-graph-div\" style=\"height:525px; width:600px;\"></div>\n",
              "            <script type=\"text/javascript\">\n",
              "                \n",
              "                    window.PLOTLYENV=window.PLOTLYENV || {};\n",
              "                    \n",
              "                if (document.getElementById(\"de90f139-a05a-4bfd-b7c1-b54a52e334b2\")) {\n",
              "                    Plotly.newPlot(\n",
              "                        'de90f139-a05a-4bfd-b7c1-b54a52e334b2',\n",
              "                        [{\"cells\": {\"values\": [[101323], [50753], [581], [19], [6604]]}, \"header\": {\"values\": [\"Dogs\", \"Cats\", \"Birds\", \"Livestock\", \"Other\"]}, \"type\": \"table\"}],\n",
              "                        {\"template\": {\"data\": {\"bar\": [{\"error_x\": {\"color\": \"#2a3f5f\"}, \"error_y\": {\"color\": \"#2a3f5f\"}, \"marker\": {\"line\": {\"color\": \"#E5ECF6\", \"width\": 0.5}}, \"type\": \"bar\"}], \"barpolar\": [{\"marker\": {\"line\": {\"color\": \"#E5ECF6\", \"width\": 0.5}}, \"type\": \"barpolar\"}], \"carpet\": [{\"aaxis\": {\"endlinecolor\": \"#2a3f5f\", \"gridcolor\": \"white\", \"linecolor\": \"white\", \"minorgridcolor\": \"white\", \"startlinecolor\": \"#2a3f5f\"}, \"baxis\": {\"endlinecolor\": \"#2a3f5f\", \"gridcolor\": \"white\", \"linecolor\": \"white\", \"minorgridcolor\": \"white\", \"startlinecolor\": \"#2a3f5f\"}, \"type\": \"carpet\"}], \"choropleth\": [{\"colorbar\": {\"outlinewidth\": 0, \"ticks\": \"\"}, \"type\": \"choropleth\"}], \"contour\": [{\"colorbar\": {\"outlinewidth\": 0, \"ticks\": \"\"}, \"colorscale\": [[0.0, \"#0d0887\"], [0.1111111111111111, \"#46039f\"], [0.2222222222222222, \"#7201a8\"], [0.3333333333333333, \"#9c179e\"], [0.4444444444444444, \"#bd3786\"], [0.5555555555555556, \"#d8576b\"], [0.6666666666666666, \"#ed7953\"], [0.7777777777777778, \"#fb9f3a\"], [0.8888888888888888, \"#fdca26\"], [1.0, \"#f0f921\"]], \"type\": \"contour\"}], \"contourcarpet\": [{\"colorbar\": {\"outlinewidth\": 0, \"ticks\": \"\"}, \"type\": \"contourcarpet\"}], \"heatmap\": [{\"colorbar\": {\"outlinewidth\": 0, \"ticks\": \"\"}, \"colorscale\": [[0.0, \"#0d0887\"], [0.1111111111111111, \"#46039f\"], [0.2222222222222222, \"#7201a8\"], [0.3333333333333333, \"#9c179e\"], [0.4444444444444444, \"#bd3786\"], [0.5555555555555556, \"#d8576b\"], [0.6666666666666666, \"#ed7953\"], [0.7777777777777778, \"#fb9f3a\"], [0.8888888888888888, \"#fdca26\"], [1.0, \"#f0f921\"]], \"type\": \"heatmap\"}], \"heatmapgl\": [{\"colorbar\": {\"outlinewidth\": 0, \"ticks\": \"\"}, \"colorscale\": [[0.0, \"#0d0887\"], [0.1111111111111111, \"#46039f\"], [0.2222222222222222, \"#7201a8\"], [0.3333333333333333, \"#9c179e\"], [0.4444444444444444, \"#bd3786\"], [0.5555555555555556, \"#d8576b\"], [0.6666666666666666, \"#ed7953\"], [0.7777777777777778, \"#fb9f3a\"], [0.8888888888888888, \"#fdca26\"], [1.0, \"#f0f921\"]], \"type\": \"heatmapgl\"}], \"histogram\": [{\"marker\": {\"colorbar\": {\"outlinewidth\": 0, \"ticks\": \"\"}}, \"type\": \"histogram\"}], \"histogram2d\": [{\"colorbar\": {\"outlinewidth\": 0, \"ticks\": \"\"}, \"colorscale\": [[0.0, \"#0d0887\"], [0.1111111111111111, \"#46039f\"], [0.2222222222222222, \"#7201a8\"], [0.3333333333333333, \"#9c179e\"], [0.4444444444444444, \"#bd3786\"], [0.5555555555555556, \"#d8576b\"], [0.6666666666666666, \"#ed7953\"], [0.7777777777777778, \"#fb9f3a\"], [0.8888888888888888, \"#fdca26\"], [1.0, \"#f0f921\"]], \"type\": \"histogram2d\"}], \"histogram2dcontour\": [{\"colorbar\": {\"outlinewidth\": 0, \"ticks\": \"\"}, \"colorscale\": [[0.0, \"#0d0887\"], [0.1111111111111111, \"#46039f\"], [0.2222222222222222, \"#7201a8\"], [0.3333333333333333, \"#9c179e\"], [0.4444444444444444, \"#bd3786\"], [0.5555555555555556, \"#d8576b\"], [0.6666666666666666, \"#ed7953\"], [0.7777777777777778, \"#fb9f3a\"], [0.8888888888888888, \"#fdca26\"], [1.0, \"#f0f921\"]], \"type\": \"histogram2dcontour\"}], \"mesh3d\": [{\"colorbar\": {\"outlinewidth\": 0, \"ticks\": \"\"}, \"type\": \"mesh3d\"}], \"parcoords\": [{\"line\": {\"colorbar\": {\"outlinewidth\": 0, \"ticks\": \"\"}}, \"type\": \"parcoords\"}], \"pie\": [{\"automargin\": true, \"type\": \"pie\"}], \"scatter\": [{\"marker\": {\"colorbar\": {\"outlinewidth\": 0, \"ticks\": \"\"}}, \"type\": \"scatter\"}], \"scatter3d\": [{\"line\": {\"colorbar\": {\"outlinewidth\": 0, \"ticks\": \"\"}}, \"marker\": {\"colorbar\": {\"outlinewidth\": 0, \"ticks\": \"\"}}, \"type\": \"scatter3d\"}], \"scattercarpet\": [{\"marker\": {\"colorbar\": {\"outlinewidth\": 0, \"ticks\": \"\"}}, \"type\": \"scattercarpet\"}], \"scattergeo\": [{\"marker\": {\"colorbar\": {\"outlinewidth\": 0, \"ticks\": \"\"}}, \"type\": \"scattergeo\"}], \"scattergl\": [{\"marker\": {\"colorbar\": {\"outlinewidth\": 0, \"ticks\": \"\"}}, \"type\": \"scattergl\"}], \"scattermapbox\": [{\"marker\": {\"colorbar\": {\"outlinewidth\": 0, \"ticks\": \"\"}}, \"type\": \"scattermapbox\"}], \"scatterpolar\": [{\"marker\": {\"colorbar\": {\"outlinewidth\": 0, \"ticks\": \"\"}}, \"type\": \"scatterpolar\"}], \"scatterpolargl\": [{\"marker\": {\"colorbar\": {\"outlinewidth\": 0, \"ticks\": \"\"}}, \"type\": \"scatterpolargl\"}], \"scatterternary\": [{\"marker\": {\"colorbar\": {\"outlinewidth\": 0, \"ticks\": \"\"}}, \"type\": \"scatterternary\"}], \"surface\": [{\"colorbar\": {\"outlinewidth\": 0, \"ticks\": \"\"}, \"colorscale\": [[0.0, \"#0d0887\"], [0.1111111111111111, \"#46039f\"], [0.2222222222222222, \"#7201a8\"], [0.3333333333333333, \"#9c179e\"], [0.4444444444444444, \"#bd3786\"], [0.5555555555555556, \"#d8576b\"], [0.6666666666666666, \"#ed7953\"], [0.7777777777777778, \"#fb9f3a\"], [0.8888888888888888, \"#fdca26\"], [1.0, \"#f0f921\"]], \"type\": \"surface\"}], \"table\": [{\"cells\": {\"fill\": {\"color\": \"#EBF0F8\"}, \"line\": {\"color\": \"white\"}}, \"header\": {\"fill\": {\"color\": \"#C8D4E3\"}, \"line\": {\"color\": \"white\"}}, \"type\": \"table\"}]}, \"layout\": {\"annotationdefaults\": {\"arrowcolor\": \"#2a3f5f\", \"arrowhead\": 0, \"arrowwidth\": 1}, \"coloraxis\": {\"colorbar\": {\"outlinewidth\": 0, \"ticks\": \"\"}}, \"colorscale\": {\"diverging\": [[0, \"#8e0152\"], [0.1, \"#c51b7d\"], [0.2, \"#de77ae\"], [0.3, \"#f1b6da\"], [0.4, \"#fde0ef\"], [0.5, \"#f7f7f7\"], [0.6, \"#e6f5d0\"], [0.7, \"#b8e186\"], [0.8, \"#7fbc41\"], [0.9, \"#4d9221\"], [1, \"#276419\"]], \"sequential\": [[0.0, \"#0d0887\"], [0.1111111111111111, \"#46039f\"], [0.2222222222222222, \"#7201a8\"], [0.3333333333333333, \"#9c179e\"], [0.4444444444444444, \"#bd3786\"], [0.5555555555555556, \"#d8576b\"], [0.6666666666666666, \"#ed7953\"], [0.7777777777777778, \"#fb9f3a\"], [0.8888888888888888, \"#fdca26\"], [1.0, \"#f0f921\"]], \"sequentialminus\": [[0.0, \"#0d0887\"], [0.1111111111111111, \"#46039f\"], [0.2222222222222222, \"#7201a8\"], [0.3333333333333333, \"#9c179e\"], [0.4444444444444444, \"#bd3786\"], [0.5555555555555556, \"#d8576b\"], [0.6666666666666666, \"#ed7953\"], [0.7777777777777778, \"#fb9f3a\"], [0.8888888888888888, \"#fdca26\"], [1.0, \"#f0f921\"]]}, \"colorway\": [\"#636efa\", \"#EF553B\", \"#00cc96\", \"#ab63fa\", \"#FFA15A\", \"#19d3f3\", \"#FF6692\", \"#B6E880\", \"#FF97FF\", \"#FECB52\"], \"font\": {\"color\": \"#2a3f5f\"}, \"geo\": {\"bgcolor\": \"white\", \"lakecolor\": \"white\", \"landcolor\": \"#E5ECF6\", \"showlakes\": true, \"showland\": true, \"subunitcolor\": \"white\"}, \"hoverlabel\": {\"align\": \"left\"}, \"hovermode\": \"closest\", \"mapbox\": {\"style\": \"light\"}, \"paper_bgcolor\": \"white\", \"plot_bgcolor\": \"#E5ECF6\", \"polar\": {\"angularaxis\": {\"gridcolor\": \"white\", \"linecolor\": \"white\", \"ticks\": \"\"}, \"bgcolor\": \"#E5ECF6\", \"radialaxis\": {\"gridcolor\": \"white\", \"linecolor\": \"white\", \"ticks\": \"\"}}, \"scene\": {\"xaxis\": {\"backgroundcolor\": \"#E5ECF6\", \"gridcolor\": \"white\", \"gridwidth\": 2, \"linecolor\": \"white\", \"showbackground\": true, \"ticks\": \"\", \"zerolinecolor\": \"white\"}, \"yaxis\": {\"backgroundcolor\": \"#E5ECF6\", \"gridcolor\": \"white\", \"gridwidth\": 2, \"linecolor\": \"white\", \"showbackground\": true, \"ticks\": \"\", \"zerolinecolor\": \"white\"}, \"zaxis\": {\"backgroundcolor\": \"#E5ECF6\", \"gridcolor\": \"white\", \"gridwidth\": 2, \"linecolor\": \"white\", \"showbackground\": true, \"ticks\": \"\", \"zerolinecolor\": \"white\"}}, \"shapedefaults\": {\"line\": {\"color\": \"#2a3f5f\"}}, \"ternary\": {\"aaxis\": {\"gridcolor\": \"white\", \"linecolor\": \"white\", \"ticks\": \"\"}, \"baxis\": {\"gridcolor\": \"white\", \"linecolor\": \"white\", \"ticks\": \"\"}, \"bgcolor\": \"#E5ECF6\", \"caxis\": {\"gridcolor\": \"white\", \"linecolor\": \"white\", \"ticks\": \"\"}}, \"title\": {\"x\": 0.05}, \"xaxis\": {\"automargin\": true, \"gridcolor\": \"white\", \"linecolor\": \"white\", \"ticks\": \"\", \"title\": {\"standoff\": 15}, \"zerolinecolor\": \"white\", \"zerolinewidth\": 2}, \"yaxis\": {\"automargin\": true, \"gridcolor\": \"white\", \"linecolor\": \"white\", \"ticks\": \"\", \"title\": {\"standoff\": 15}, \"zerolinecolor\": \"white\", \"zerolinewidth\": 2}}}, \"title\": {\"text\": \"Animal Types at AAC\"}, \"width\": 600},\n",
              "                        {\"responsive\": true}\n",
              "                    ).then(function(){\n",
              "                            \n",
              "var gd = document.getElementById('de90f139-a05a-4bfd-b7c1-b54a52e334b2');\n",
              "var x = new MutationObserver(function (mutations, observer) {{\n",
              "        var display = window.getComputedStyle(gd).display;\n",
              "        if (!display || display === 'none') {{\n",
              "            console.log([gd, 'removed!']);\n",
              "            Plotly.purge(gd);\n",
              "            observer.disconnect();\n",
              "        }}\n",
              "}});\n",
              "\n",
              "// Listen for the removal of the full notebook cells\n",
              "var notebookContainer = gd.closest('#notebook-container');\n",
              "if (notebookContainer) {{\n",
              "    x.observe(notebookContainer, {childList: true});\n",
              "}}\n",
              "\n",
              "// Listen for the clearing of the current output cell\n",
              "var outputEl = gd.closest('.output');\n",
              "if (outputEl) {{\n",
              "    x.observe(outputEl, {childList: true});\n",
              "}}\n",
              "\n",
              "                        })\n",
              "                };\n",
              "                \n",
              "            </script>\n",
              "        </div>\n",
              "</body>\n",
              "</html>"
            ]
          },
          "metadata": {
            "tags": []
          }
        }
      ]
    },
    {
      "cell_type": "code",
      "metadata": {
        "colab": {
          "base_uri": "https://localhost:8080/",
          "height": 0
        },
        "id": "SV55nF-1PFDl",
        "outputId": "dd66fdc9-25ca-4627-e75a-6d02e610bc6f"
      },
      "source": [
        "fig, ax = plt.subplots()\n",
        "\n",
        "plt.bar(x=['Other', 'Bird', 'Livestock'], height=[6604, 581, 19])\n",
        "\n",
        "ax.set_xlabel('Type of Animal', fontweight=\"bold\", fontsize=14, labelpad=15)\n",
        "ax.set_ylabel('Number of Animals', fontweight=\"bold\", fontsize=14, labelpad=10)\n",
        "ax.set_title('Lowest Number of\\nAnimal Types at AAC', fontweight='bold', fontsize=18, pad=15)\n",
        "ax.set_xticklabels(labels=['Other', 'Bird', 'Livestock'], fontsize=12)\n",
        "ax.set_yticklabels(labels=[0, 1000, 2000, 3000, 4000, 5000, 6000], fontsize=12)\n",
        "\n",
        "plt.show()"
      ],
      "execution_count": 223,
      "outputs": [
        {
          "output_type": "display_data",
          "data": {
            "image/png": "[encoded data removed]",
            "text/plain": [
              "<Figure size 432x288 with 1 Axes>"
            ]
          },
          "metadata": {
            "tags": [],
            "needs_background": "light"
          }
        }
      ]
    },
    {
      "cell_type": "code",
      "metadata": {
        "colab": {
          "base_uri": "https://localhost:8080/",
          "height": 0
        },
        "id": "_qG66r_JTTMT",
        "outputId": "a07d0ed1-36a6-4bd2-9b40-1168ceec9d24"
      },
      "source": [
        "other_animals = outcomes[(outcomes['Animal Type_x'] == 'Other')]\n",
        "other_animals.head(3)"
      ],
      "execution_count": 224,
      "outputs": [
        {
          "output_type": "execute_result",
          "data": {
            "text/html": [
              "<div>\n",
              "<style scoped>\n",
              "    .dataframe tbody tr th:only-of-type {\n",
              "        vertical-align: middle;\n",
              "    }\n",
              "\n",
              "    .dataframe tbody tr th {\n",
              "        vertical-align: top;\n",
              "    }\n",
              "\n",
              "    .dataframe thead th {\n",
              "        text-align: right;\n",
              "    }\n",
              "</style>\n",
              "<table border=\"1\" class=\"dataframe\">\n",
              "  <thead>\n",
              "    <tr style=\"text-align: right;\">\n",
              "      <th></th>\n",
              "      <th>index</th>\n",
              "      <th>Outcome Type</th>\n",
              "      <th>Outcome Subtype</th>\n",
              "      <th>Animal Type_x</th>\n",
              "      <th>Breed_x</th>\n",
              "    </tr>\n",
              "  </thead>\n",
              "  <tbody>\n",
              "    <tr>\n",
              "      <th>34</th>\n",
              "      <td>34</td>\n",
              "      <td>Disposal</td>\n",
              "      <td>NaN</td>\n",
              "      <td>Other</td>\n",
              "      <td>Bat</td>\n",
              "    </tr>\n",
              "    <tr>\n",
              "      <th>39</th>\n",
              "      <td>39</td>\n",
              "      <td>Euthanasia</td>\n",
              "      <td>Rabies Risk</td>\n",
              "      <td>Other</td>\n",
              "      <td>Bat Mix</td>\n",
              "    </tr>\n",
              "    <tr>\n",
              "      <th>107</th>\n",
              "      <td>107</td>\n",
              "      <td>Euthanasia</td>\n",
              "      <td>Suffering</td>\n",
              "      <td>Other</td>\n",
              "      <td>Hamster Mix</td>\n",
              "    </tr>\n",
              "  </tbody>\n",
              "</table>\n",
              "</div>"
            ],
            "text/plain": [
              "     index Outcome Type Outcome Subtype Animal Type_x      Breed_x\n",
              "34      34     Disposal             NaN         Other          Bat\n",
              "39      39   Euthanasia     Rabies Risk         Other      Bat Mix\n",
              "107    107   Euthanasia       Suffering         Other  Hamster Mix"
            ]
          },
          "metadata": {
            "tags": []
          },
          "execution_count": 224
        }
      ]
    },
    {
      "cell_type": "code",
      "metadata": {
        "colab": {
          "base_uri": "https://localhost:8080/"
        },
        "id": "11SjbXhAUsrk",
        "outputId": "b7aee8cc-b35c-46a2-bc52-988cc23f0e27"
      },
      "source": [
        "other_animals['Breed_x'].value_counts()"
      ],
      "execution_count": 225,
      "outputs": [
        {
          "output_type": "execute_result",
          "data": {
            "text/plain": [
              "Bat Mix            1760\n",
              "Bat                1455\n",
              "Raccoon Mix         539\n",
              "Raccoon             411\n",
              "Rabbit Sh Mix       343\n",
              "                   ... \n",
              "Dwarf Hotot           1\n",
              "Hermit Crab Mix       1\n",
              "Snake/Snake           1\n",
              "Polish Mix            1\n",
              "Prairie Dog Mix       1\n",
              "Name: Breed_x, Length: 120, dtype: int64"
            ]
          },
          "metadata": {
            "tags": []
          },
          "execution_count": 225
        }
      ]
    },
    {
      "cell_type": "markdown",
      "metadata": {
        "id": "tsni-9TgQAkX"
      },
      "source": [
        "###Animal Types at the Facility Whom were Euthanized"
      ]
    },
    {
      "cell_type": "code",
      "metadata": {
        "colab": {
          "base_uri": "https://localhost:8080/"
        },
        "id": "u2695BBWQQMT",
        "outputId": "fbbdddda-956e-4743-bf48-4ece5a3c8af2"
      },
      "source": [
        "euthanasia_subtypes['Animal Type_x'].value_counts()"
      ],
      "execution_count": 226,
      "outputs": [
        {
          "output_type": "execute_result",
          "data": {
            "text/plain": [
              "Other        4493\n",
              "Dog          2079\n",
              "Cat          1978\n",
              "Bird          117\n",
              "Livestock       1\n",
              "Name: Animal Type_x, dtype: int64"
            ]
          },
          "metadata": {
            "tags": []
          },
          "execution_count": 226
        }
      ]
    },
    {
      "cell_type": "code",
      "metadata": {
        "colab": {
          "base_uri": "https://localhost:8080/",
          "height": 0
        },
        "id": "Ph2YR2kDQFHx",
        "outputId": "fd14a64a-beef-4dfb-a53c-a069acb6222c"
      },
      "source": [
        "fig, ax = plt.subplots()\n",
        "\n",
        "plt.bar(x=['Other', 'Dog', 'Cat', 'Bird', 'Livestock'], height=euthanasia_subtypes['Animal Type_x'].value_counts())\n",
        "\n",
        "ax.set_xlabel('Type of Animal', fontweight=\"bold\", fontsize=14, labelpad=15)\n",
        "ax.set_ylabel('Number of Animals', fontweight=\"bold\", fontsize=14, labelpad=10)\n",
        "ax.set_title('Animal Types at the\\nFacility Euthanized', fontweight=\"bold\", fontsize=18, pad=15)\n",
        "ax.set_xticklabels(labels=['Other', 'Dog', 'Cat', 'Bird', 'Livestock'], fontsize=12)\n",
        "ax.set_yticklabels(labels=[0, 1000, 2000, 3000, 4000], fontsize=12)\n",
        "\n",
        "plt.show()"
      ],
      "execution_count": 227,
      "outputs": [
        {
          "output_type": "display_data",
          "data": {
            "image/png": "[encoded data removed]",
            "text/plain": [
              "<Figure size 432x288 with 1 Axes>"
            ]
          },
          "metadata": {
            "tags": [],
            "needs_background": "light"
          }
        }
      ]
    },
    {
      "cell_type": "code",
      "metadata": {
        "colab": {
          "base_uri": "https://localhost:8080/",
          "height": 0
        },
        "id": "sNNd2lF6eUi0",
        "outputId": "2a8713f3-6ec6-4593-fe9e-6c569f50c7b7"
      },
      "source": [
        "pd.DataFrame({'Dogs': [2079], 'Cats': [1978], 'Other':[4493] , 'Birds': [117], 'Livestock': [1]}, )"
      ],
      "execution_count": 228,
      "outputs": [
        {
          "output_type": "execute_result",
          "data": {
            "text/html": [
              "<div>\n",
              "<style scoped>\n",
              "    .dataframe tbody tr th:only-of-type {\n",
              "        vertical-align: middle;\n",
              "    }\n",
              "\n",
              "    .dataframe tbody tr th {\n",
              "        vertical-align: top;\n",
              "    }\n",
              "\n",
              "    .dataframe thead th {\n",
              "        text-align: right;\n",
              "    }\n",
              "</style>\n",
              "<table border=\"1\" class=\"dataframe\">\n",
              "  <thead>\n",
              "    <tr style=\"text-align: right;\">\n",
              "      <th></th>\n",
              "      <th>Dogs</th>\n",
              "      <th>Cats</th>\n",
              "      <th>Other</th>\n",
              "      <th>Birds</th>\n",
              "      <th>Livestock</th>\n",
              "    </tr>\n",
              "  </thead>\n",
              "  <tbody>\n",
              "    <tr>\n",
              "      <th>0</th>\n",
              "      <td>2079</td>\n",
              "      <td>1978</td>\n",
              "      <td>4493</td>\n",
              "      <td>117</td>\n",
              "      <td>1</td>\n",
              "    </tr>\n",
              "  </tbody>\n",
              "</table>\n",
              "</div>"
            ],
            "text/plain": [
              "   Dogs  Cats  Other  Birds  Livestock\n",
              "0  2079  1978   4493    117          1"
            ]
          },
          "metadata": {
            "tags": []
          },
          "execution_count": 228
        }
      ]
    },
    {
      "cell_type": "code",
      "metadata": {
        "colab": {
          "base_uri": "https://localhost:8080/",
          "height": 0
        },
        "id": "8W1FT_4xjDIO",
        "outputId": "a1094b8a-17c3-44a4-c391-c52ae45df787"
      },
      "source": [
        "fig = go.Figure(data=[go.Table(header=dict(values=['Dogs', 'Cats', 'Birds', 'Livestock', 'Other']),\n",
        "                               cells=dict(values=[[2079], [1978], [117], [1], [4493]])), \n",
        "                     ])\n",
        "fig.update_layout(width=600, title='Animal Types at the Facility Euthanized')\n",
        "\n",
        "fig.show()"
      ],
      "execution_count": 229,
      "outputs": [
        {
          "output_type": "display_data",
          "data": {
            "text/html": [
              "<html>\n",
              "<head><meta charset=\"utf-8\" /></head>\n",
              "<body>\n",
              "    <div>\n",
              "            <script src=\"https://cdnjs.cloudflare.com/ajax/libs/mathjax/2.7.5/MathJax.js?config=TeX-AMS-MML_SVG\"></script><script type=\"text/javascript\">if (window.MathJax) {MathJax.Hub.Config({SVG: {font: \"STIX-Web\"}});}</script>\n",
              "                <script type=\"text/javascript\">window.PlotlyConfig = {MathJaxConfig: 'local'};</script>\n",
              "        <script src=\"https://cdn.plot.ly/plotly-latest.min.js\"></script>    \n",
              "            <div id=\"c9e67eff-3c44-4f01-92c3-3804e3740155\" class=\"plotly-graph-div\" style=\"height:525px; width:600px;\"></div>\n",
              "            <script type=\"text/javascript\">\n",
              "                \n",
              "                    window.PLOTLYENV=window.PLOTLYENV || {};\n",
              "                    \n",
              "                if (document.getElementById(\"c9e67eff-3c44-4f01-92c3-3804e3740155\")) {\n",
              "                    Plotly.newPlot(\n",
              "                        'c9e67eff-3c44-4f01-92c3-3804e3740155',\n",
              "                        [{\"cells\": {\"values\": [[2079], [1978], [117], [1], [4493]]}, \"header\": {\"values\": [\"Dogs\", \"Cats\", \"Birds\", \"Livestock\", \"Other\"]}, \"type\": \"table\"}],\n",
              "                        {\"template\": {\"data\": {\"bar\": [{\"error_x\": {\"color\": \"#2a3f5f\"}, \"error_y\": {\"color\": \"#2a3f5f\"}, \"marker\": {\"line\": {\"color\": \"#E5ECF6\", \"width\": 0.5}}, \"type\": \"bar\"}], \"barpolar\": [{\"marker\": {\"line\": {\"color\": \"#E5ECF6\", \"width\": 0.5}}, \"type\": \"barpolar\"}], \"carpet\": [{\"aaxis\": {\"endlinecolor\": \"#2a3f5f\", \"gridcolor\": \"white\", \"linecolor\": \"white\", \"minorgridcolor\": \"white\", \"startlinecolor\": \"#2a3f5f\"}, \"baxis\": {\"endlinecolor\": \"#2a3f5f\", \"gridcolor\": \"white\", \"linecolor\": \"white\", \"minorgridcolor\": \"white\", \"startlinecolor\": \"#2a3f5f\"}, \"type\": \"carpet\"}], \"choropleth\": [{\"colorbar\": {\"outlinewidth\": 0, \"ticks\": \"\"}, \"type\": \"choropleth\"}], \"contour\": [{\"colorbar\": {\"outlinewidth\": 0, \"ticks\": \"\"}, \"colorscale\": [[0.0, \"#0d0887\"], [0.1111111111111111, \"#46039f\"], [0.2222222222222222, \"#7201a8\"], [0.3333333333333333, \"#9c179e\"], [0.4444444444444444, \"#bd3786\"], [0.5555555555555556, \"#d8576b\"], [0.6666666666666666, \"#ed7953\"], [0.7777777777777778, \"#fb9f3a\"], [0.8888888888888888, \"#fdca26\"], [1.0, \"#f0f921\"]], \"type\": \"contour\"}], \"contourcarpet\": [{\"colorbar\": {\"outlinewidth\": 0, \"ticks\": \"\"}, \"type\": \"contourcarpet\"}], \"heatmap\": [{\"colorbar\": {\"outlinewidth\": 0, \"ticks\": \"\"}, \"colorscale\": [[0.0, \"#0d0887\"], [0.1111111111111111, \"#46039f\"], [0.2222222222222222, \"#7201a8\"], [0.3333333333333333, \"#9c179e\"], [0.4444444444444444, \"#bd3786\"], [0.5555555555555556, \"#d8576b\"], [0.6666666666666666, \"#ed7953\"], [0.7777777777777778, \"#fb9f3a\"], [0.8888888888888888, \"#fdca26\"], [1.0, \"#f0f921\"]], \"type\": \"heatmap\"}], \"heatmapgl\": [{\"colorbar\": {\"outlinewidth\": 0, \"ticks\": \"\"}, \"colorscale\": [[0.0, \"#0d0887\"], [0.1111111111111111, \"#46039f\"], [0.2222222222222222, \"#7201a8\"], [0.3333333333333333, \"#9c179e\"], [0.4444444444444444, \"#bd3786\"], [0.5555555555555556, \"#d8576b\"], [0.6666666666666666, \"#ed7953\"], [0.7777777777777778, \"#fb9f3a\"], [0.8888888888888888, \"#fdca26\"], [1.0, \"#f0f921\"]], \"type\": \"heatmapgl\"}], \"histogram\": [{\"marker\": {\"colorbar\": {\"outlinewidth\": 0, \"ticks\": \"\"}}, \"type\": \"histogram\"}], \"histogram2d\": [{\"colorbar\": {\"outlinewidth\": 0, \"ticks\": \"\"}, \"colorscale\": [[0.0, \"#0d0887\"], [0.1111111111111111, \"#46039f\"], [0.2222222222222222, \"#7201a8\"], [0.3333333333333333, \"#9c179e\"], [0.4444444444444444, \"#bd3786\"], [0.5555555555555556, \"#d8576b\"], [0.6666666666666666, \"#ed7953\"], [0.7777777777777778, \"#fb9f3a\"], [0.8888888888888888, \"#fdca26\"], [1.0, \"#f0f921\"]], \"type\": \"histogram2d\"}], \"histogram2dcontour\": [{\"colorbar\": {\"outlinewidth\": 0, \"ticks\": \"\"}, \"colorscale\": [[0.0, \"#0d0887\"], [0.1111111111111111, \"#46039f\"], [0.2222222222222222, \"#7201a8\"], [0.3333333333333333, \"#9c179e\"], [0.4444444444444444, \"#bd3786\"], [0.5555555555555556, \"#d8576b\"], [0.6666666666666666, \"#ed7953\"], [0.7777777777777778, \"#fb9f3a\"], [0.8888888888888888, \"#fdca26\"], [1.0, \"#f0f921\"]], \"type\": \"histogram2dcontour\"}], \"mesh3d\": [{\"colorbar\": {\"outlinewidth\": 0, \"ticks\": \"\"}, \"type\": \"mesh3d\"}], \"parcoords\": [{\"line\": {\"colorbar\": {\"outlinewidth\": 0, \"ticks\": \"\"}}, \"type\": \"parcoords\"}], \"pie\": [{\"automargin\": true, \"type\": \"pie\"}], \"scatter\": [{\"marker\": {\"colorbar\": {\"outlinewidth\": 0, \"ticks\": \"\"}}, \"type\": \"scatter\"}], \"scatter3d\": [{\"line\": {\"colorbar\": {\"outlinewidth\": 0, \"ticks\": \"\"}}, \"marker\": {\"colorbar\": {\"outlinewidth\": 0, \"ticks\": \"\"}}, \"type\": \"scatter3d\"}], \"scattercarpet\": [{\"marker\": {\"colorbar\": {\"outlinewidth\": 0, \"ticks\": \"\"}}, \"type\": \"scattercarpet\"}], \"scattergeo\": [{\"marker\": {\"colorbar\": {\"outlinewidth\": 0, \"ticks\": \"\"}}, \"type\": \"scattergeo\"}], \"scattergl\": [{\"marker\": {\"colorbar\": {\"outlinewidth\": 0, \"ticks\": \"\"}}, \"type\": \"scattergl\"}], \"scattermapbox\": [{\"marker\": {\"colorbar\": {\"outlinewidth\": 0, \"ticks\": \"\"}}, \"type\": \"scattermapbox\"}], \"scatterpolar\": [{\"marker\": {\"colorbar\": {\"outlinewidth\": 0, \"ticks\": \"\"}}, \"type\": \"scatterpolar\"}], \"scatterpolargl\": [{\"marker\": {\"colorbar\": {\"outlinewidth\": 0, \"ticks\": \"\"}}, \"type\": \"scatterpolargl\"}], \"scatterternary\": [{\"marker\": {\"colorbar\": {\"outlinewidth\": 0, \"ticks\": \"\"}}, \"type\": \"scatterternary\"}], \"surface\": [{\"colorbar\": {\"outlinewidth\": 0, \"ticks\": \"\"}, \"colorscale\": [[0.0, \"#0d0887\"], [0.1111111111111111, \"#46039f\"], [0.2222222222222222, \"#7201a8\"], [0.3333333333333333, \"#9c179e\"], [0.4444444444444444, \"#bd3786\"], [0.5555555555555556, \"#d8576b\"], [0.6666666666666666, \"#ed7953\"], [0.7777777777777778, \"#fb9f3a\"], [0.8888888888888888, \"#fdca26\"], [1.0, \"#f0f921\"]], \"type\": \"surface\"}], \"table\": [{\"cells\": {\"fill\": {\"color\": \"#EBF0F8\"}, \"line\": {\"color\": \"white\"}}, \"header\": {\"fill\": {\"color\": \"#C8D4E3\"}, \"line\": {\"color\": \"white\"}}, \"type\": \"table\"}]}, \"layout\": {\"annotationdefaults\": {\"arrowcolor\": \"#2a3f5f\", \"arrowhead\": 0, \"arrowwidth\": 1}, \"coloraxis\": {\"colorbar\": {\"outlinewidth\": 0, \"ticks\": \"\"}}, \"colorscale\": {\"diverging\": [[0, \"#8e0152\"], [0.1, \"#c51b7d\"], [0.2, \"#de77ae\"], [0.3, \"#f1b6da\"], [0.4, \"#fde0ef\"], [0.5, \"#f7f7f7\"], [0.6, \"#e6f5d0\"], [0.7, \"#b8e186\"], [0.8, \"#7fbc41\"], [0.9, \"#4d9221\"], [1, \"#276419\"]], \"sequential\": [[0.0, \"#0d0887\"], [0.1111111111111111, \"#46039f\"], [0.2222222222222222, \"#7201a8\"], [0.3333333333333333, \"#9c179e\"], [0.4444444444444444, \"#bd3786\"], [0.5555555555555556, \"#d8576b\"], [0.6666666666666666, \"#ed7953\"], [0.7777777777777778, \"#fb9f3a\"], [0.8888888888888888, \"#fdca26\"], [1.0, \"#f0f921\"]], \"sequentialminus\": [[0.0, \"#0d0887\"], [0.1111111111111111, \"#46039f\"], [0.2222222222222222, \"#7201a8\"], [0.3333333333333333, \"#9c179e\"], [0.4444444444444444, \"#bd3786\"], [0.5555555555555556, \"#d8576b\"], [0.6666666666666666, \"#ed7953\"], [0.7777777777777778, \"#fb9f3a\"], [0.8888888888888888, \"#fdca26\"], [1.0, \"#f0f921\"]]}, \"colorway\": [\"#636efa\", \"#EF553B\", \"#00cc96\", \"#ab63fa\", \"#FFA15A\", \"#19d3f3\", \"#FF6692\", \"#B6E880\", \"#FF97FF\", \"#FECB52\"], \"font\": {\"color\": \"#2a3f5f\"}, \"geo\": {\"bgcolor\": \"white\", \"lakecolor\": \"white\", \"landcolor\": \"#E5ECF6\", \"showlakes\": true, \"showland\": true, \"subunitcolor\": \"white\"}, \"hoverlabel\": {\"align\": \"left\"}, \"hovermode\": \"closest\", \"mapbox\": {\"style\": \"light\"}, \"paper_bgcolor\": \"white\", \"plot_bgcolor\": \"#E5ECF6\", \"polar\": {\"angularaxis\": {\"gridcolor\": \"white\", \"linecolor\": \"white\", \"ticks\": \"\"}, \"bgcolor\": \"#E5ECF6\", \"radialaxis\": {\"gridcolor\": \"white\", \"linecolor\": \"white\", \"ticks\": \"\"}}, \"scene\": {\"xaxis\": {\"backgroundcolor\": \"#E5ECF6\", \"gridcolor\": \"white\", \"gridwidth\": 2, \"linecolor\": \"white\", \"showbackground\": true, \"ticks\": \"\", \"zerolinecolor\": \"white\"}, \"yaxis\": {\"backgroundcolor\": \"#E5ECF6\", \"gridcolor\": \"white\", \"gridwidth\": 2, \"linecolor\": \"white\", \"showbackground\": true, \"ticks\": \"\", \"zerolinecolor\": \"white\"}, \"zaxis\": {\"backgroundcolor\": \"#E5ECF6\", \"gridcolor\": \"white\", \"gridwidth\": 2, \"linecolor\": \"white\", \"showbackground\": true, \"ticks\": \"\", \"zerolinecolor\": \"white\"}}, \"shapedefaults\": {\"line\": {\"color\": \"#2a3f5f\"}}, \"ternary\": {\"aaxis\": {\"gridcolor\": \"white\", \"linecolor\": \"white\", \"ticks\": \"\"}, \"baxis\": {\"gridcolor\": \"white\", \"linecolor\": \"white\", \"ticks\": \"\"}, \"bgcolor\": \"#E5ECF6\", \"caxis\": {\"gridcolor\": \"white\", \"linecolor\": \"white\", \"ticks\": \"\"}}, \"title\": {\"x\": 0.05}, \"xaxis\": {\"automargin\": true, \"gridcolor\": \"white\", \"linecolor\": \"white\", \"ticks\": \"\", \"title\": {\"standoff\": 15}, \"zerolinecolor\": \"white\", \"zerolinewidth\": 2}, \"yaxis\": {\"automargin\": true, \"gridcolor\": \"white\", \"linecolor\": \"white\", \"ticks\": \"\", \"title\": {\"standoff\": 15}, \"zerolinecolor\": \"white\", \"zerolinewidth\": 2}}}, \"title\": {\"text\": \"Animal Types at the Facility Euthanized\"}, \"width\": 600},\n",
              "                        {\"responsive\": true}\n",
              "                    ).then(function(){\n",
              "                            \n",
              "var gd = document.getElementById('c9e67eff-3c44-4f01-92c3-3804e3740155');\n",
              "var x = new MutationObserver(function (mutations, observer) {{\n",
              "        var display = window.getComputedStyle(gd).display;\n",
              "        if (!display || display === 'none') {{\n",
              "            console.log([gd, 'removed!']);\n",
              "            Plotly.purge(gd);\n",
              "            observer.disconnect();\n",
              "        }}\n",
              "}});\n",
              "\n",
              "// Listen for the removal of the full notebook cells\n",
              "var notebookContainer = gd.closest('#notebook-container');\n",
              "if (notebookContainer) {{\n",
              "    x.observe(notebookContainer, {childList: true});\n",
              "}}\n",
              "\n",
              "// Listen for the clearing of the current output cell\n",
              "var outputEl = gd.closest('.output');\n",
              "if (outputEl) {{\n",
              "    x.observe(outputEl, {childList: true});\n",
              "}}\n",
              "\n",
              "                        })\n",
              "                };\n",
              "                \n",
              "            </script>\n",
              "        </div>\n",
              "</body>\n",
              "</html>"
            ]
          },
          "metadata": {
            "tags": []
          }
        }
      ]
    },
    {
      "cell_type": "code",
      "metadata": {
        "colab": {
          "base_uri": "https://localhost:8080/",
          "height": 0
        },
        "id": "osl6UHN9QUZs",
        "outputId": "7beecbe9-6cad-468a-bd01-472c37d4bb19"
      },
      "source": [
        "fig, ax = plt.subplots()\n",
        "\n",
        "plt.bar(x=['Bird', 'Livestock'], height=[117, 1])\n",
        "\n",
        "ax.set_xlabel('Type of Animal', fontweight=\"bold\", fontsize=14, labelpad=15)\n",
        "ax.set_ylabel('Number of Animals', fontweight='bold', fontsize=14, labelpad=10)\n",
        "ax.set_title('Animal Types at AAC\\nEuthanized', fontweight='bold', fontsize=18, pad=15)\n",
        "ax.set_xticklabels(labels=['Bird', 'Livestock'], fontsize=12)\n",
        "ax.set_yticklabels(labels=[0, 20, 40, 60, 80, 100, 120], fontsize=12)\n",
        "\n",
        "plt.show()"
      ],
      "execution_count": 230,
      "outputs": [
        {
          "output_type": "display_data",
          "data": {
            "image/png": "[encoded data removed]",
            "text/plain": [
              "<Figure size 432x288 with 1 Axes>"
            ]
          },
          "metadata": {
            "tags": [],
            "needs_background": "light"
          }
        }
      ]
    },
    {
      "cell_type": "markdown",
      "metadata": {
        "id": "mVFmuUoSPSkm"
      },
      "source": [
        "##Euthanization Timeline Dataframe"
      ]
    },
    {
      "cell_type": "code",
      "metadata": {
        "colab": {
          "base_uri": "https://localhost:8080/",
          "height": 0
        },
        "id": "FjMjuaQJPZpC",
        "outputId": "977afa30-3305-4e38-f908-f8b70fc9a752"
      },
      "source": [
        "animal_shelter.head()"
      ],
      "execution_count": 231,
      "outputs": [
        {
          "output_type": "execute_result",
          "data": {
            "text/html": [
              "<div>\n",
              "<style scoped>\n",
              "    .dataframe tbody tr th:only-of-type {\n",
              "        vertical-align: middle;\n",
              "    }\n",
              "\n",
              "    .dataframe tbody tr th {\n",
              "        vertical-align: top;\n",
              "    }\n",
              "\n",
              "    .dataframe thead th {\n",
              "        text-align: right;\n",
              "    }\n",
              "</style>\n",
              "<table border=\"1\" class=\"dataframe\">\n",
              "  <thead>\n",
              "    <tr style=\"text-align: right;\">\n",
              "      <th></th>\n",
              "      <th>Animal ID</th>\n",
              "      <th>Name Intake</th>\n",
              "      <th>Intake DateTime</th>\n",
              "      <th>Intake Type</th>\n",
              "      <th>Intake Condition</th>\n",
              "      <th>Animal Type_x</th>\n",
              "      <th>Sex Upon Intake</th>\n",
              "      <th>Age Upon Intake</th>\n",
              "      <th>Breed_x</th>\n",
              "      <th>Color_x</th>\n",
              "      <th>Name Outcome</th>\n",
              "      <th>Outcome DateTime</th>\n",
              "      <th>Date of Birth</th>\n",
              "      <th>Outcome Type</th>\n",
              "      <th>Outcome Subtype</th>\n",
              "      <th>Sex Upon Outcome</th>\n",
              "      <th>Age Upon Outcome</th>\n",
              "    </tr>\n",
              "  </thead>\n",
              "  <tbody>\n",
              "    <tr>\n",
              "      <th>0</th>\n",
              "      <td>A706918</td>\n",
              "      <td>Belle</td>\n",
              "      <td>07/05/2015 12:59:00 PM</td>\n",
              "      <td>Stray</td>\n",
              "      <td>Normal</td>\n",
              "      <td>Dog</td>\n",
              "      <td>Spayed Female</td>\n",
              "      <td>8 years</td>\n",
              "      <td>English Springer Spaniel</td>\n",
              "      <td>White/Liver</td>\n",
              "      <td>Belle</td>\n",
              "      <td>07/05/2015 03:13:00 PM</td>\n",
              "      <td>07/05/2007</td>\n",
              "      <td>Return to Owner</td>\n",
              "      <td>NaN</td>\n",
              "      <td>Spayed Female</td>\n",
              "      <td>8 years</td>\n",
              "    </tr>\n",
              "    <tr>\n",
              "      <th>1</th>\n",
              "      <td>A724273</td>\n",
              "      <td>Runster</td>\n",
              "      <td>04/14/2016 06:43:00 PM</td>\n",
              "      <td>Stray</td>\n",
              "      <td>Normal</td>\n",
              "      <td>Dog</td>\n",
              "      <td>Intact Male</td>\n",
              "      <td>11 months</td>\n",
              "      <td>Basenji Mix</td>\n",
              "      <td>Sable/White</td>\n",
              "      <td>Runster</td>\n",
              "      <td>04/21/2016 05:17:00 PM</td>\n",
              "      <td>04/17/2015</td>\n",
              "      <td>Return to Owner</td>\n",
              "      <td>NaN</td>\n",
              "      <td>Neutered Male</td>\n",
              "      <td>1 year</td>\n",
              "    </tr>\n",
              "    <tr>\n",
              "      <th>2</th>\n",
              "      <td>A665644</td>\n",
              "      <td>NaN</td>\n",
              "      <td>10/21/2013 07:59:00 AM</td>\n",
              "      <td>Stray</td>\n",
              "      <td>Sick</td>\n",
              "      <td>Cat</td>\n",
              "      <td>Intact Female</td>\n",
              "      <td>4 weeks</td>\n",
              "      <td>Domestic Shorthair Mix</td>\n",
              "      <td>Calico</td>\n",
              "      <td>NaN</td>\n",
              "      <td>10/21/2013 11:39:00 AM</td>\n",
              "      <td>09/21/2013</td>\n",
              "      <td>Transfer</td>\n",
              "      <td>Partner</td>\n",
              "      <td>Intact Female</td>\n",
              "      <td>4 weeks</td>\n",
              "    </tr>\n",
              "    <tr>\n",
              "      <th>3</th>\n",
              "      <td>A682524</td>\n",
              "      <td>Rio</td>\n",
              "      <td>06/29/2014 10:38:00 AM</td>\n",
              "      <td>Stray</td>\n",
              "      <td>Normal</td>\n",
              "      <td>Dog</td>\n",
              "      <td>Neutered Male</td>\n",
              "      <td>4 years</td>\n",
              "      <td>Doberman Pinsch/Australian Cattle Dog</td>\n",
              "      <td>Tan/Gray</td>\n",
              "      <td>Rio</td>\n",
              "      <td>07/02/2014 02:16:00 PM</td>\n",
              "      <td>06/29/2010</td>\n",
              "      <td>Return to Owner</td>\n",
              "      <td>NaN</td>\n",
              "      <td>Neutered Male</td>\n",
              "      <td>4 years</td>\n",
              "    </tr>\n",
              "    <tr>\n",
              "      <th>4</th>\n",
              "      <td>A743852</td>\n",
              "      <td>Odin</td>\n",
              "      <td>02/18/2017 12:46:00 PM</td>\n",
              "      <td>Owner Surrender</td>\n",
              "      <td>Normal</td>\n",
              "      <td>Dog</td>\n",
              "      <td>Neutered Male</td>\n",
              "      <td>2 years</td>\n",
              "      <td>Labrador Retriever Mix</td>\n",
              "      <td>Chocolate</td>\n",
              "      <td>Odin</td>\n",
              "      <td>02/21/2017 05:44:00 PM</td>\n",
              "      <td>02/18/2015</td>\n",
              "      <td>Return to Owner</td>\n",
              "      <td>NaN</td>\n",
              "      <td>Neutered Male</td>\n",
              "      <td>2 years</td>\n",
              "    </tr>\n",
              "  </tbody>\n",
              "</table>\n",
              "</div>"
            ],
            "text/plain": [
              "  Animal ID Name Intake  ... Sex Upon Outcome Age Upon Outcome\n",
              "0   A706918       Belle  ...    Spayed Female          8 years\n",
              "1   A724273     Runster  ...    Neutered Male           1 year\n",
              "2   A665644         NaN  ...    Intact Female          4 weeks\n",
              "3   A682524         Rio  ...    Neutered Male          4 years\n",
              "4   A743852        Odin  ...    Neutered Male          2 years\n",
              "\n",
              "[5 rows x 17 columns]"
            ]
          },
          "metadata": {
            "tags": []
          },
          "execution_count": 231
        }
      ]
    },
    {
      "cell_type": "code",
      "metadata": {
        "colab": {
          "base_uri": "https://localhost:8080/",
          "height": 0
        },
        "id": "fBvCwLH-U9V-",
        "outputId": "8542a9e9-abe3-4941-bb21-841418d3c7ef"
      },
      "source": [
        "animal_timeline = animal_shelter.drop(['Animal ID', 'Name Intake', 'Intake Type', 'Intake Condition', \t\n",
        "                                      'Sex Upon Intake', 'Age Upon Intake', 'Name Outcome',\t\n",
        "                                      'Date of Birth', 'Sex Upon Outcome', 'Age Upon Outcome'], axis=1)\n",
        "animal_timeline.head()"
      ],
      "execution_count": 232,
      "outputs": [
        {
          "output_type": "execute_result",
          "data": {
            "text/html": [
              "<div>\n",
              "<style scoped>\n",
              "    .dataframe tbody tr th:only-of-type {\n",
              "        vertical-align: middle;\n",
              "    }\n",
              "\n",
              "    .dataframe tbody tr th {\n",
              "        vertical-align: top;\n",
              "    }\n",
              "\n",
              "    .dataframe thead th {\n",
              "        text-align: right;\n",
              "    }\n",
              "</style>\n",
              "<table border=\"1\" class=\"dataframe\">\n",
              "  <thead>\n",
              "    <tr style=\"text-align: right;\">\n",
              "      <th></th>\n",
              "      <th>Intake DateTime</th>\n",
              "      <th>Animal Type_x</th>\n",
              "      <th>Breed_x</th>\n",
              "      <th>Color_x</th>\n",
              "      <th>Outcome DateTime</th>\n",
              "      <th>Outcome Type</th>\n",
              "      <th>Outcome Subtype</th>\n",
              "    </tr>\n",
              "  </thead>\n",
              "  <tbody>\n",
              "    <tr>\n",
              "      <th>0</th>\n",
              "      <td>07/05/2015 12:59:00 PM</td>\n",
              "      <td>Dog</td>\n",
              "      <td>English Springer Spaniel</td>\n",
              "      <td>White/Liver</td>\n",
              "      <td>07/05/2015 03:13:00 PM</td>\n",
              "      <td>Return to Owner</td>\n",
              "      <td>NaN</td>\n",
              "    </tr>\n",
              "    <tr>\n",
              "      <th>1</th>\n",
              "      <td>04/14/2016 06:43:00 PM</td>\n",
              "      <td>Dog</td>\n",
              "      <td>Basenji Mix</td>\n",
              "      <td>Sable/White</td>\n",
              "      <td>04/21/2016 05:17:00 PM</td>\n",
              "      <td>Return to Owner</td>\n",
              "      <td>NaN</td>\n",
              "    </tr>\n",
              "    <tr>\n",
              "      <th>2</th>\n",
              "      <td>10/21/2013 07:59:00 AM</td>\n",
              "      <td>Cat</td>\n",
              "      <td>Domestic Shorthair Mix</td>\n",
              "      <td>Calico</td>\n",
              "      <td>10/21/2013 11:39:00 AM</td>\n",
              "      <td>Transfer</td>\n",
              "      <td>Partner</td>\n",
              "    </tr>\n",
              "    <tr>\n",
              "      <th>3</th>\n",
              "      <td>06/29/2014 10:38:00 AM</td>\n",
              "      <td>Dog</td>\n",
              "      <td>Doberman Pinsch/Australian Cattle Dog</td>\n",
              "      <td>Tan/Gray</td>\n",
              "      <td>07/02/2014 02:16:00 PM</td>\n",
              "      <td>Return to Owner</td>\n",
              "      <td>NaN</td>\n",
              "    </tr>\n",
              "    <tr>\n",
              "      <th>4</th>\n",
              "      <td>02/18/2017 12:46:00 PM</td>\n",
              "      <td>Dog</td>\n",
              "      <td>Labrador Retriever Mix</td>\n",
              "      <td>Chocolate</td>\n",
              "      <td>02/21/2017 05:44:00 PM</td>\n",
              "      <td>Return to Owner</td>\n",
              "      <td>NaN</td>\n",
              "    </tr>\n",
              "  </tbody>\n",
              "</table>\n",
              "</div>"
            ],
            "text/plain": [
              "          Intake DateTime Animal Type_x  ...     Outcome Type Outcome Subtype\n",
              "0  07/05/2015 12:59:00 PM           Dog  ...  Return to Owner             NaN\n",
              "1  04/14/2016 06:43:00 PM           Dog  ...  Return to Owner             NaN\n",
              "2  10/21/2013 07:59:00 AM           Cat  ...         Transfer         Partner\n",
              "3  06/29/2014 10:38:00 AM           Dog  ...  Return to Owner             NaN\n",
              "4  02/18/2017 12:46:00 PM           Dog  ...  Return to Owner             NaN\n",
              "\n",
              "[5 rows x 7 columns]"
            ]
          },
          "metadata": {
            "tags": []
          },
          "execution_count": 232
        }
      ]
    },
    {
      "cell_type": "code",
      "metadata": {
        "colab": {
          "base_uri": "https://localhost:8080/",
          "height": 0
        },
        "id": "5Ke42wlpWmKg",
        "outputId": "9b3ae8ce-4771-43ac-eee1-cf5fadb9ec0b"
      },
      "source": [
        "euth_datetime = animal_timeline[(animal_timeline['Outcome Type'] == 'Euthanasia')].reset_index()\n",
        "euth_datetime = euth_datetime.drop('index', axis=1)\n",
        "euth_datetime.head()"
      ],
      "execution_count": 233,
      "outputs": [
        {
          "output_type": "execute_result",
          "data": {
            "text/html": [
              "<div>\n",
              "<style scoped>\n",
              "    .dataframe tbody tr th:only-of-type {\n",
              "        vertical-align: middle;\n",
              "    }\n",
              "\n",
              "    .dataframe tbody tr th {\n",
              "        vertical-align: top;\n",
              "    }\n",
              "\n",
              "    .dataframe thead th {\n",
              "        text-align: right;\n",
              "    }\n",
              "</style>\n",
              "<table border=\"1\" class=\"dataframe\">\n",
              "  <thead>\n",
              "    <tr style=\"text-align: right;\">\n",
              "      <th></th>\n",
              "      <th>Intake DateTime</th>\n",
              "      <th>Animal Type_x</th>\n",
              "      <th>Breed_x</th>\n",
              "      <th>Color_x</th>\n",
              "      <th>Outcome DateTime</th>\n",
              "      <th>Outcome Type</th>\n",
              "      <th>Outcome Subtype</th>\n",
              "    </tr>\n",
              "  </thead>\n",
              "  <tbody>\n",
              "    <tr>\n",
              "      <th>0</th>\n",
              "      <td>02/04/2017 10:10:00 AM</td>\n",
              "      <td>Cat</td>\n",
              "      <td>Domestic Shorthair Mix</td>\n",
              "      <td>Black/White</td>\n",
              "      <td>02/04/2017 10:48:00 AM</td>\n",
              "      <td>Euthanasia</td>\n",
              "      <td>Suffering</td>\n",
              "    </tr>\n",
              "    <tr>\n",
              "      <th>1</th>\n",
              "      <td>03/24/2016 04:39:00 PM</td>\n",
              "      <td>Other</td>\n",
              "      <td>Bat Mix</td>\n",
              "      <td>Brown</td>\n",
              "      <td>03/24/2016 05:17:00 PM</td>\n",
              "      <td>Euthanasia</td>\n",
              "      <td>Rabies Risk</td>\n",
              "    </tr>\n",
              "    <tr>\n",
              "      <th>2</th>\n",
              "      <td>09/02/2019 11:52:00 AM</td>\n",
              "      <td>Dog</td>\n",
              "      <td>Boxer Mix</td>\n",
              "      <td>White</td>\n",
              "      <td>09/02/2019 01:12:00 PM</td>\n",
              "      <td>Euthanasia</td>\n",
              "      <td>Suffering</td>\n",
              "    </tr>\n",
              "    <tr>\n",
              "      <th>3</th>\n",
              "      <td>05/06/2019 09:30:00 PM</td>\n",
              "      <td>Dog</td>\n",
              "      <td>Boxer Mix</td>\n",
              "      <td>White</td>\n",
              "      <td>09/02/2019 01:12:00 PM</td>\n",
              "      <td>Euthanasia</td>\n",
              "      <td>Suffering</td>\n",
              "    </tr>\n",
              "    <tr>\n",
              "      <th>4</th>\n",
              "      <td>07/16/2019 10:35:00 AM</td>\n",
              "      <td>Dog</td>\n",
              "      <td>Boxer Mix</td>\n",
              "      <td>White</td>\n",
              "      <td>09/02/2019 01:12:00 PM</td>\n",
              "      <td>Euthanasia</td>\n",
              "      <td>Suffering</td>\n",
              "    </tr>\n",
              "  </tbody>\n",
              "</table>\n",
              "</div>"
            ],
            "text/plain": [
              "          Intake DateTime Animal Type_x  ... Outcome Type Outcome Subtype\n",
              "0  02/04/2017 10:10:00 AM           Cat  ...   Euthanasia       Suffering\n",
              "1  03/24/2016 04:39:00 PM         Other  ...   Euthanasia     Rabies Risk\n",
              "2  09/02/2019 11:52:00 AM           Dog  ...   Euthanasia       Suffering\n",
              "3  05/06/2019 09:30:00 PM           Dog  ...   Euthanasia       Suffering\n",
              "4  07/16/2019 10:35:00 AM           Dog  ...   Euthanasia       Suffering\n",
              "\n",
              "[5 rows x 7 columns]"
            ]
          },
          "metadata": {
            "tags": []
          },
          "execution_count": 233
        }
      ]
    },
    {
      "cell_type": "code",
      "metadata": {
        "colab": {
          "base_uri": "https://localhost:8080/",
          "height": 0
        },
        "id": "9EYQ63jlUUeS",
        "outputId": "47e07e09-0a42-4203-cccd-966dbd77a2f8"
      },
      "source": [
        "euth_datetime = euth_datetime.reset_index()\n",
        "euth_datetime.head()"
      ],
      "execution_count": 234,
      "outputs": [
        {
          "output_type": "execute_result",
          "data": {
            "text/html": [
              "<div>\n",
              "<style scoped>\n",
              "    .dataframe tbody tr th:only-of-type {\n",
              "        vertical-align: middle;\n",
              "    }\n",
              "\n",
              "    .dataframe tbody tr th {\n",
              "        vertical-align: top;\n",
              "    }\n",
              "\n",
              "    .dataframe thead th {\n",
              "        text-align: right;\n",
              "    }\n",
              "</style>\n",
              "<table border=\"1\" class=\"dataframe\">\n",
              "  <thead>\n",
              "    <tr style=\"text-align: right;\">\n",
              "      <th></th>\n",
              "      <th>index</th>\n",
              "      <th>Intake DateTime</th>\n",
              "      <th>Animal Type_x</th>\n",
              "      <th>Breed_x</th>\n",
              "      <th>Color_x</th>\n",
              "      <th>Outcome DateTime</th>\n",
              "      <th>Outcome Type</th>\n",
              "      <th>Outcome Subtype</th>\n",
              "    </tr>\n",
              "  </thead>\n",
              "  <tbody>\n",
              "    <tr>\n",
              "      <th>0</th>\n",
              "      <td>0</td>\n",
              "      <td>02/04/2017 10:10:00 AM</td>\n",
              "      <td>Cat</td>\n",
              "      <td>Domestic Shorthair Mix</td>\n",
              "      <td>Black/White</td>\n",
              "      <td>02/04/2017 10:48:00 AM</td>\n",
              "      <td>Euthanasia</td>\n",
              "      <td>Suffering</td>\n",
              "    </tr>\n",
              "    <tr>\n",
              "      <th>1</th>\n",
              "      <td>1</td>\n",
              "      <td>03/24/2016 04:39:00 PM</td>\n",
              "      <td>Other</td>\n",
              "      <td>Bat Mix</td>\n",
              "      <td>Brown</td>\n",
              "      <td>03/24/2016 05:17:00 PM</td>\n",
              "      <td>Euthanasia</td>\n",
              "      <td>Rabies Risk</td>\n",
              "    </tr>\n",
              "    <tr>\n",
              "      <th>2</th>\n",
              "      <td>2</td>\n",
              "      <td>09/02/2019 11:52:00 AM</td>\n",
              "      <td>Dog</td>\n",
              "      <td>Boxer Mix</td>\n",
              "      <td>White</td>\n",
              "      <td>09/02/2019 01:12:00 PM</td>\n",
              "      <td>Euthanasia</td>\n",
              "      <td>Suffering</td>\n",
              "    </tr>\n",
              "    <tr>\n",
              "      <th>3</th>\n",
              "      <td>3</td>\n",
              "      <td>05/06/2019 09:30:00 PM</td>\n",
              "      <td>Dog</td>\n",
              "      <td>Boxer Mix</td>\n",
              "      <td>White</td>\n",
              "      <td>09/02/2019 01:12:00 PM</td>\n",
              "      <td>Euthanasia</td>\n",
              "      <td>Suffering</td>\n",
              "    </tr>\n",
              "    <tr>\n",
              "      <th>4</th>\n",
              "      <td>4</td>\n",
              "      <td>07/16/2019 10:35:00 AM</td>\n",
              "      <td>Dog</td>\n",
              "      <td>Boxer Mix</td>\n",
              "      <td>White</td>\n",
              "      <td>09/02/2019 01:12:00 PM</td>\n",
              "      <td>Euthanasia</td>\n",
              "      <td>Suffering</td>\n",
              "    </tr>\n",
              "  </tbody>\n",
              "</table>\n",
              "</div>"
            ],
            "text/plain": [
              "   index         Intake DateTime  ... Outcome Type Outcome Subtype\n",
              "0      0  02/04/2017 10:10:00 AM  ...   Euthanasia       Suffering\n",
              "1      1  03/24/2016 04:39:00 PM  ...   Euthanasia     Rabies Risk\n",
              "2      2  09/02/2019 11:52:00 AM  ...   Euthanasia       Suffering\n",
              "3      3  05/06/2019 09:30:00 PM  ...   Euthanasia       Suffering\n",
              "4      4  07/16/2019 10:35:00 AM  ...   Euthanasia       Suffering\n",
              "\n",
              "[5 rows x 8 columns]"
            ]
          },
          "metadata": {
            "tags": []
          },
          "execution_count": 234
        }
      ]
    },
    {
      "cell_type": "code",
      "metadata": {
        "id": "OrOfnxYagD_U"
      },
      "source": [
        "euth_datetime['Intake DateTime'] = pd.to_datetime(euth_datetime['Intake DateTime'])\n",
        "euth_datetime['Outcome DateTime'] =  pd.to_datetime(euth_datetime['Outcome DateTime'])"
      ],
      "execution_count": 235,
      "outputs": []
    },
    {
      "cell_type": "code",
      "metadata": {
        "colab": {
          "base_uri": "https://localhost:8080/",
          "height": 0
        },
        "id": "FinrTaHgjU1S",
        "outputId": "7dba67d5-7f6e-4fdd-8428-fe586ba74dd8"
      },
      "source": [
        "euth_in_date = euth_datetime['Intake DateTime'].dt.date.reset_index()\n",
        "euth_in_time = euth_datetime['Intake DateTime'].dt.time.reset_index()\n",
        "euth_out_date = euth_datetime['Outcome DateTime'].dt.date.reset_index()\n",
        "euth_out_time = euth_datetime['Outcome DateTime'].dt.time.reset_index()\n",
        "\n",
        "euth_in_date.head()"
      ],
      "execution_count": 236,
      "outputs": [
        {
          "output_type": "execute_result",
          "data": {
            "text/html": [
              "<div>\n",
              "<style scoped>\n",
              "    .dataframe tbody tr th:only-of-type {\n",
              "        vertical-align: middle;\n",
              "    }\n",
              "\n",
              "    .dataframe tbody tr th {\n",
              "        vertical-align: top;\n",
              "    }\n",
              "\n",
              "    .dataframe thead th {\n",
              "        text-align: right;\n",
              "    }\n",
              "</style>\n",
              "<table border=\"1\" class=\"dataframe\">\n",
              "  <thead>\n",
              "    <tr style=\"text-align: right;\">\n",
              "      <th></th>\n",
              "      <th>index</th>\n",
              "      <th>Intake DateTime</th>\n",
              "    </tr>\n",
              "  </thead>\n",
              "  <tbody>\n",
              "    <tr>\n",
              "      <th>0</th>\n",
              "      <td>0</td>\n",
              "      <td>2017-02-04</td>\n",
              "    </tr>\n",
              "    <tr>\n",
              "      <th>1</th>\n",
              "      <td>1</td>\n",
              "      <td>2016-03-24</td>\n",
              "    </tr>\n",
              "    <tr>\n",
              "      <th>2</th>\n",
              "      <td>2</td>\n",
              "      <td>2019-09-02</td>\n",
              "    </tr>\n",
              "    <tr>\n",
              "      <th>3</th>\n",
              "      <td>3</td>\n",
              "      <td>2019-05-06</td>\n",
              "    </tr>\n",
              "    <tr>\n",
              "      <th>4</th>\n",
              "      <td>4</td>\n",
              "      <td>2019-07-16</td>\n",
              "    </tr>\n",
              "  </tbody>\n",
              "</table>\n",
              "</div>"
            ],
            "text/plain": [
              "   index Intake DateTime\n",
              "0      0      2017-02-04\n",
              "1      1      2016-03-24\n",
              "2      2      2019-09-02\n",
              "3      3      2019-05-06\n",
              "4      4      2019-07-16"
            ]
          },
          "metadata": {
            "tags": []
          },
          "execution_count": 236
        }
      ]
    },
    {
      "cell_type": "code",
      "metadata": {
        "colab": {
          "base_uri": "https://localhost:8080/",
          "height": 0
        },
        "id": "KVaRIzb6kyUB",
        "outputId": "a17f9c10-7a13-4ffd-eea1-91691a3ca89c"
      },
      "source": [
        "euth_in_datetime = pd.merge(euth_in_date, euth_in_time, on='index')\n",
        "euth_in_datetime.head()"
      ],
      "execution_count": 237,
      "outputs": [
        {
          "output_type": "execute_result",
          "data": {
            "text/html": [
              "<div>\n",
              "<style scoped>\n",
              "    .dataframe tbody tr th:only-of-type {\n",
              "        vertical-align: middle;\n",
              "    }\n",
              "\n",
              "    .dataframe tbody tr th {\n",
              "        vertical-align: top;\n",
              "    }\n",
              "\n",
              "    .dataframe thead th {\n",
              "        text-align: right;\n",
              "    }\n",
              "</style>\n",
              "<table border=\"1\" class=\"dataframe\">\n",
              "  <thead>\n",
              "    <tr style=\"text-align: right;\">\n",
              "      <th></th>\n",
              "      <th>index</th>\n",
              "      <th>Intake DateTime_x</th>\n",
              "      <th>Intake DateTime_y</th>\n",
              "    </tr>\n",
              "  </thead>\n",
              "  <tbody>\n",
              "    <tr>\n",
              "      <th>0</th>\n",
              "      <td>0</td>\n",
              "      <td>2017-02-04</td>\n",
              "      <td>10:10:00</td>\n",
              "    </tr>\n",
              "    <tr>\n",
              "      <th>1</th>\n",
              "      <td>1</td>\n",
              "      <td>2016-03-24</td>\n",
              "      <td>16:39:00</td>\n",
              "    </tr>\n",
              "    <tr>\n",
              "      <th>2</th>\n",
              "      <td>2</td>\n",
              "      <td>2019-09-02</td>\n",
              "      <td>11:52:00</td>\n",
              "    </tr>\n",
              "    <tr>\n",
              "      <th>3</th>\n",
              "      <td>3</td>\n",
              "      <td>2019-05-06</td>\n",
              "      <td>21:30:00</td>\n",
              "    </tr>\n",
              "    <tr>\n",
              "      <th>4</th>\n",
              "      <td>4</td>\n",
              "      <td>2019-07-16</td>\n",
              "      <td>10:35:00</td>\n",
              "    </tr>\n",
              "  </tbody>\n",
              "</table>\n",
              "</div>"
            ],
            "text/plain": [
              "   index Intake DateTime_x Intake DateTime_y\n",
              "0      0        2017-02-04          10:10:00\n",
              "1      1        2016-03-24          16:39:00\n",
              "2      2        2019-09-02          11:52:00\n",
              "3      3        2019-05-06          21:30:00\n",
              "4      4        2019-07-16          10:35:00"
            ]
          },
          "metadata": {
            "tags": []
          },
          "execution_count": 237
        }
      ]
    },
    {
      "cell_type": "code",
      "metadata": {
        "colab": {
          "base_uri": "https://localhost:8080/",
          "height": 0
        },
        "id": "ymkAOfm3lcKd",
        "outputId": "e849cc0e-02b9-425e-ffb5-50ccbdeaad7a"
      },
      "source": [
        "euth_out_datetime = pd.merge(euth_out_date, euth_out_time, on='index')\n",
        "euth_out_datetime.head()"
      ],
      "execution_count": 238,
      "outputs": [
        {
          "output_type": "execute_result",
          "data": {
            "text/html": [
              "<div>\n",
              "<style scoped>\n",
              "    .dataframe tbody tr th:only-of-type {\n",
              "        vertical-align: middle;\n",
              "    }\n",
              "\n",
              "    .dataframe tbody tr th {\n",
              "        vertical-align: top;\n",
              "    }\n",
              "\n",
              "    .dataframe thead th {\n",
              "        text-align: right;\n",
              "    }\n",
              "</style>\n",
              "<table border=\"1\" class=\"dataframe\">\n",
              "  <thead>\n",
              "    <tr style=\"text-align: right;\">\n",
              "      <th></th>\n",
              "      <th>index</th>\n",
              "      <th>Outcome DateTime_x</th>\n",
              "      <th>Outcome DateTime_y</th>\n",
              "    </tr>\n",
              "  </thead>\n",
              "  <tbody>\n",
              "    <tr>\n",
              "      <th>0</th>\n",
              "      <td>0</td>\n",
              "      <td>2017-02-04</td>\n",
              "      <td>10:48:00</td>\n",
              "    </tr>\n",
              "    <tr>\n",
              "      <th>1</th>\n",
              "      <td>1</td>\n",
              "      <td>2016-03-24</td>\n",
              "      <td>17:17:00</td>\n",
              "    </tr>\n",
              "    <tr>\n",
              "      <th>2</th>\n",
              "      <td>2</td>\n",
              "      <td>2019-09-02</td>\n",
              "      <td>13:12:00</td>\n",
              "    </tr>\n",
              "    <tr>\n",
              "      <th>3</th>\n",
              "      <td>3</td>\n",
              "      <td>2019-09-02</td>\n",
              "      <td>13:12:00</td>\n",
              "    </tr>\n",
              "    <tr>\n",
              "      <th>4</th>\n",
              "      <td>4</td>\n",
              "      <td>2019-09-02</td>\n",
              "      <td>13:12:00</td>\n",
              "    </tr>\n",
              "  </tbody>\n",
              "</table>\n",
              "</div>"
            ],
            "text/plain": [
              "   index Outcome DateTime_x Outcome DateTime_y\n",
              "0      0         2017-02-04           10:48:00\n",
              "1      1         2016-03-24           17:17:00\n",
              "2      2         2019-09-02           13:12:00\n",
              "3      3         2019-09-02           13:12:00\n",
              "4      4         2019-09-02           13:12:00"
            ]
          },
          "metadata": {
            "tags": []
          },
          "execution_count": 238
        }
      ]
    },
    {
      "cell_type": "code",
      "metadata": {
        "colab": {
          "base_uri": "https://localhost:8080/",
          "height": 0
        },
        "id": "faEkfRrmlsm0",
        "outputId": "fec6aec3-1af3-48bc-e409-8311d302a4c6"
      },
      "source": [
        "euth_time = pd.merge(euth_in_datetime, euth_out_datetime, on='index')\n",
        "euth_time.head()"
      ],
      "execution_count": 239,
      "outputs": [
        {
          "output_type": "execute_result",
          "data": {
            "text/html": [
              "<div>\n",
              "<style scoped>\n",
              "    .dataframe tbody tr th:only-of-type {\n",
              "        vertical-align: middle;\n",
              "    }\n",
              "\n",
              "    .dataframe tbody tr th {\n",
              "        vertical-align: top;\n",
              "    }\n",
              "\n",
              "    .dataframe thead th {\n",
              "        text-align: right;\n",
              "    }\n",
              "</style>\n",
              "<table border=\"1\" class=\"dataframe\">\n",
              "  <thead>\n",
              "    <tr style=\"text-align: right;\">\n",
              "      <th></th>\n",
              "      <th>index</th>\n",
              "      <th>Intake DateTime_x</th>\n",
              "      <th>Intake DateTime_y</th>\n",
              "      <th>Outcome DateTime_x</th>\n",
              "      <th>Outcome DateTime_y</th>\n",
              "    </tr>\n",
              "  </thead>\n",
              "  <tbody>\n",
              "    <tr>\n",
              "      <th>0</th>\n",
              "      <td>0</td>\n",
              "      <td>2017-02-04</td>\n",
              "      <td>10:10:00</td>\n",
              "      <td>2017-02-04</td>\n",
              "      <td>10:48:00</td>\n",
              "    </tr>\n",
              "    <tr>\n",
              "      <th>1</th>\n",
              "      <td>1</td>\n",
              "      <td>2016-03-24</td>\n",
              "      <td>16:39:00</td>\n",
              "      <td>2016-03-24</td>\n",
              "      <td>17:17:00</td>\n",
              "    </tr>\n",
              "    <tr>\n",
              "      <th>2</th>\n",
              "      <td>2</td>\n",
              "      <td>2019-09-02</td>\n",
              "      <td>11:52:00</td>\n",
              "      <td>2019-09-02</td>\n",
              "      <td>13:12:00</td>\n",
              "    </tr>\n",
              "    <tr>\n",
              "      <th>3</th>\n",
              "      <td>3</td>\n",
              "      <td>2019-05-06</td>\n",
              "      <td>21:30:00</td>\n",
              "      <td>2019-09-02</td>\n",
              "      <td>13:12:00</td>\n",
              "    </tr>\n",
              "    <tr>\n",
              "      <th>4</th>\n",
              "      <td>4</td>\n",
              "      <td>2019-07-16</td>\n",
              "      <td>10:35:00</td>\n",
              "      <td>2019-09-02</td>\n",
              "      <td>13:12:00</td>\n",
              "    </tr>\n",
              "  </tbody>\n",
              "</table>\n",
              "</div>"
            ],
            "text/plain": [
              "   index Intake DateTime_x  ... Outcome DateTime_x Outcome DateTime_y\n",
              "0      0        2017-02-04  ...         2017-02-04           10:48:00\n",
              "1      1        2016-03-24  ...         2016-03-24           17:17:00\n",
              "2      2        2019-09-02  ...         2019-09-02           13:12:00\n",
              "3      3        2019-05-06  ...         2019-09-02           13:12:00\n",
              "4      4        2019-07-16  ...         2019-09-02           13:12:00\n",
              "\n",
              "[5 rows x 5 columns]"
            ]
          },
          "metadata": {
            "tags": []
          },
          "execution_count": 239
        }
      ]
    },
    {
      "cell_type": "code",
      "metadata": {
        "colab": {
          "base_uri": "https://localhost:8080/",
          "height": 0
        },
        "id": "yv07Hfiiatmk",
        "outputId": "9ca52796-bb33-448c-a92e-a5a33f3b56e1"
      },
      "source": [
        "euth_time.columns = ['index','Intake Date','Intake Time', 'Outcome Date','Outcome Time']\n",
        "euth_time.head()"
      ],
      "execution_count": 240,
      "outputs": [
        {
          "output_type": "execute_result",
          "data": {
            "text/html": [
              "<div>\n",
              "<style scoped>\n",
              "    .dataframe tbody tr th:only-of-type {\n",
              "        vertical-align: middle;\n",
              "    }\n",
              "\n",
              "    .dataframe tbody tr th {\n",
              "        vertical-align: top;\n",
              "    }\n",
              "\n",
              "    .dataframe thead th {\n",
              "        text-align: right;\n",
              "    }\n",
              "</style>\n",
              "<table border=\"1\" class=\"dataframe\">\n",
              "  <thead>\n",
              "    <tr style=\"text-align: right;\">\n",
              "      <th></th>\n",
              "      <th>index</th>\n",
              "      <th>Intake Date</th>\n",
              "      <th>Intake Time</th>\n",
              "      <th>Outcome Date</th>\n",
              "      <th>Outcome Time</th>\n",
              "    </tr>\n",
              "  </thead>\n",
              "  <tbody>\n",
              "    <tr>\n",
              "      <th>0</th>\n",
              "      <td>0</td>\n",
              "      <td>2017-02-04</td>\n",
              "      <td>10:10:00</td>\n",
              "      <td>2017-02-04</td>\n",
              "      <td>10:48:00</td>\n",
              "    </tr>\n",
              "    <tr>\n",
              "      <th>1</th>\n",
              "      <td>1</td>\n",
              "      <td>2016-03-24</td>\n",
              "      <td>16:39:00</td>\n",
              "      <td>2016-03-24</td>\n",
              "      <td>17:17:00</td>\n",
              "    </tr>\n",
              "    <tr>\n",
              "      <th>2</th>\n",
              "      <td>2</td>\n",
              "      <td>2019-09-02</td>\n",
              "      <td>11:52:00</td>\n",
              "      <td>2019-09-02</td>\n",
              "      <td>13:12:00</td>\n",
              "    </tr>\n",
              "    <tr>\n",
              "      <th>3</th>\n",
              "      <td>3</td>\n",
              "      <td>2019-05-06</td>\n",
              "      <td>21:30:00</td>\n",
              "      <td>2019-09-02</td>\n",
              "      <td>13:12:00</td>\n",
              "    </tr>\n",
              "    <tr>\n",
              "      <th>4</th>\n",
              "      <td>4</td>\n",
              "      <td>2019-07-16</td>\n",
              "      <td>10:35:00</td>\n",
              "      <td>2019-09-02</td>\n",
              "      <td>13:12:00</td>\n",
              "    </tr>\n",
              "  </tbody>\n",
              "</table>\n",
              "</div>"
            ],
            "text/plain": [
              "   index Intake Date Intake Time Outcome Date Outcome Time\n",
              "0      0  2017-02-04    10:10:00   2017-02-04     10:48:00\n",
              "1      1  2016-03-24    16:39:00   2016-03-24     17:17:00\n",
              "2      2  2019-09-02    11:52:00   2019-09-02     13:12:00\n",
              "3      3  2019-05-06    21:30:00   2019-09-02     13:12:00\n",
              "4      4  2019-07-16    10:35:00   2019-09-02     13:12:00"
            ]
          },
          "metadata": {
            "tags": []
          },
          "execution_count": 240
        }
      ]
    },
    {
      "cell_type": "code",
      "metadata": {
        "colab": {
          "base_uri": "https://localhost:8080/",
          "height": 0
        },
        "id": "KQStATqZdywu",
        "outputId": "95dd0fc5-e477-4332-c64b-8b66fbecb1a8"
      },
      "source": [
        "euth_timeline = pd.merge(euth_datetime, euth_time, on='index')\n",
        "euth_timeline = euth_timeline.drop('index', axis=1)\n",
        "euth_timeline.head()"
      ],
      "execution_count": 241,
      "outputs": [
        {
          "output_type": "execute_result",
          "data": {
            "text/html": [
              "<div>\n",
              "<style scoped>\n",
              "    .dataframe tbody tr th:only-of-type {\n",
              "        vertical-align: middle;\n",
              "    }\n",
              "\n",
              "    .dataframe tbody tr th {\n",
              "        vertical-align: top;\n",
              "    }\n",
              "\n",
              "    .dataframe thead th {\n",
              "        text-align: right;\n",
              "    }\n",
              "</style>\n",
              "<table border=\"1\" class=\"dataframe\">\n",
              "  <thead>\n",
              "    <tr style=\"text-align: right;\">\n",
              "      <th></th>\n",
              "      <th>Intake DateTime</th>\n",
              "      <th>Animal Type_x</th>\n",
              "      <th>Breed_x</th>\n",
              "      <th>Color_x</th>\n",
              "      <th>Outcome DateTime</th>\n",
              "      <th>Outcome Type</th>\n",
              "      <th>Outcome Subtype</th>\n",
              "      <th>Intake Date</th>\n",
              "      <th>Intake Time</th>\n",
              "      <th>Outcome Date</th>\n",
              "      <th>Outcome Time</th>\n",
              "    </tr>\n",
              "  </thead>\n",
              "  <tbody>\n",
              "    <tr>\n",
              "      <th>0</th>\n",
              "      <td>2017-02-04 10:10:00</td>\n",
              "      <td>Cat</td>\n",
              "      <td>Domestic Shorthair Mix</td>\n",
              "      <td>Black/White</td>\n",
              "      <td>2017-02-04 10:48:00</td>\n",
              "      <td>Euthanasia</td>\n",
              "      <td>Suffering</td>\n",
              "      <td>2017-02-04</td>\n",
              "      <td>10:10:00</td>\n",
              "      <td>2017-02-04</td>\n",
              "      <td>10:48:00</td>\n",
              "    </tr>\n",
              "    <tr>\n",
              "      <th>1</th>\n",
              "      <td>2016-03-24 16:39:00</td>\n",
              "      <td>Other</td>\n",
              "      <td>Bat Mix</td>\n",
              "      <td>Brown</td>\n",
              "      <td>2016-03-24 17:17:00</td>\n",
              "      <td>Euthanasia</td>\n",
              "      <td>Rabies Risk</td>\n",
              "      <td>2016-03-24</td>\n",
              "      <td>16:39:00</td>\n",
              "      <td>2016-03-24</td>\n",
              "      <td>17:17:00</td>\n",
              "    </tr>\n",
              "    <tr>\n",
              "      <th>2</th>\n",
              "      <td>2019-09-02 11:52:00</td>\n",
              "      <td>Dog</td>\n",
              "      <td>Boxer Mix</td>\n",
              "      <td>White</td>\n",
              "      <td>2019-09-02 13:12:00</td>\n",
              "      <td>Euthanasia</td>\n",
              "      <td>Suffering</td>\n",
              "      <td>2019-09-02</td>\n",
              "      <td>11:52:00</td>\n",
              "      <td>2019-09-02</td>\n",
              "      <td>13:12:00</td>\n",
              "    </tr>\n",
              "    <tr>\n",
              "      <th>3</th>\n",
              "      <td>2019-05-06 21:30:00</td>\n",
              "      <td>Dog</td>\n",
              "      <td>Boxer Mix</td>\n",
              "      <td>White</td>\n",
              "      <td>2019-09-02 13:12:00</td>\n",
              "      <td>Euthanasia</td>\n",
              "      <td>Suffering</td>\n",
              "      <td>2019-05-06</td>\n",
              "      <td>21:30:00</td>\n",
              "      <td>2019-09-02</td>\n",
              "      <td>13:12:00</td>\n",
              "    </tr>\n",
              "    <tr>\n",
              "      <th>4</th>\n",
              "      <td>2019-07-16 10:35:00</td>\n",
              "      <td>Dog</td>\n",
              "      <td>Boxer Mix</td>\n",
              "      <td>White</td>\n",
              "      <td>2019-09-02 13:12:00</td>\n",
              "      <td>Euthanasia</td>\n",
              "      <td>Suffering</td>\n",
              "      <td>2019-07-16</td>\n",
              "      <td>10:35:00</td>\n",
              "      <td>2019-09-02</td>\n",
              "      <td>13:12:00</td>\n",
              "    </tr>\n",
              "  </tbody>\n",
              "</table>\n",
              "</div>"
            ],
            "text/plain": [
              "      Intake DateTime Animal Type_x  ... Outcome Date Outcome Time\n",
              "0 2017-02-04 10:10:00           Cat  ...   2017-02-04     10:48:00\n",
              "1 2016-03-24 16:39:00         Other  ...   2016-03-24     17:17:00\n",
              "2 2019-09-02 11:52:00           Dog  ...   2019-09-02     13:12:00\n",
              "3 2019-05-06 21:30:00           Dog  ...   2019-09-02     13:12:00\n",
              "4 2019-07-16 10:35:00           Dog  ...   2019-09-02     13:12:00\n",
              "\n",
              "[5 rows x 11 columns]"
            ]
          },
          "metadata": {
            "tags": []
          },
          "execution_count": 241
        }
      ]
    },
    {
      "cell_type": "code",
      "metadata": {
        "colab": {
          "base_uri": "https://localhost:8080/",
          "height": 0
        },
        "id": "xTUBQ9I5YusS",
        "outputId": "b6702133-ffda-4150-b0d7-190498f46541"
      },
      "source": [
        "euth_timeline['Days to Euth'] = (euth_timeline['Outcome Date'] - euth_timeline['Intake Date']).dt.days\n",
        "euth_timeline.head(3)"
      ],
      "execution_count": 242,
      "outputs": [
        {
          "output_type": "execute_result",
          "data": {
            "text/html": [
              "<div>\n",
              "<style scoped>\n",
              "    .dataframe tbody tr th:only-of-type {\n",
              "        vertical-align: middle;\n",
              "    }\n",
              "\n",
              "    .dataframe tbody tr th {\n",
              "        vertical-align: top;\n",
              "    }\n",
              "\n",
              "    .dataframe thead th {\n",
              "        text-align: right;\n",
              "    }\n",
              "</style>\n",
              "<table border=\"1\" class=\"dataframe\">\n",
              "  <thead>\n",
              "    <tr style=\"text-align: right;\">\n",
              "      <th></th>\n",
              "      <th>Intake DateTime</th>\n",
              "      <th>Animal Type_x</th>\n",
              "      <th>Breed_x</th>\n",
              "      <th>Color_x</th>\n",
              "      <th>Outcome DateTime</th>\n",
              "      <th>Outcome Type</th>\n",
              "      <th>Outcome Subtype</th>\n",
              "      <th>Intake Date</th>\n",
              "      <th>Intake Time</th>\n",
              "      <th>Outcome Date</th>\n",
              "      <th>Outcome Time</th>\n",
              "      <th>Days to Euth</th>\n",
              "    </tr>\n",
              "  </thead>\n",
              "  <tbody>\n",
              "    <tr>\n",
              "      <th>0</th>\n",
              "      <td>2017-02-04 10:10:00</td>\n",
              "      <td>Cat</td>\n",
              "      <td>Domestic Shorthair Mix</td>\n",
              "      <td>Black/White</td>\n",
              "      <td>2017-02-04 10:48:00</td>\n",
              "      <td>Euthanasia</td>\n",
              "      <td>Suffering</td>\n",
              "      <td>2017-02-04</td>\n",
              "      <td>10:10:00</td>\n",
              "      <td>2017-02-04</td>\n",
              "      <td>10:48:00</td>\n",
              "      <td>0</td>\n",
              "    </tr>\n",
              "    <tr>\n",
              "      <th>1</th>\n",
              "      <td>2016-03-24 16:39:00</td>\n",
              "      <td>Other</td>\n",
              "      <td>Bat Mix</td>\n",
              "      <td>Brown</td>\n",
              "      <td>2016-03-24 17:17:00</td>\n",
              "      <td>Euthanasia</td>\n",
              "      <td>Rabies Risk</td>\n",
              "      <td>2016-03-24</td>\n",
              "      <td>16:39:00</td>\n",
              "      <td>2016-03-24</td>\n",
              "      <td>17:17:00</td>\n",
              "      <td>0</td>\n",
              "    </tr>\n",
              "    <tr>\n",
              "      <th>2</th>\n",
              "      <td>2019-09-02 11:52:00</td>\n",
              "      <td>Dog</td>\n",
              "      <td>Boxer Mix</td>\n",
              "      <td>White</td>\n",
              "      <td>2019-09-02 13:12:00</td>\n",
              "      <td>Euthanasia</td>\n",
              "      <td>Suffering</td>\n",
              "      <td>2019-09-02</td>\n",
              "      <td>11:52:00</td>\n",
              "      <td>2019-09-02</td>\n",
              "      <td>13:12:00</td>\n",
              "      <td>0</td>\n",
              "    </tr>\n",
              "  </tbody>\n",
              "</table>\n",
              "</div>"
            ],
            "text/plain": [
              "      Intake DateTime Animal Type_x  ... Outcome Time Days to Euth\n",
              "0 2017-02-04 10:10:00           Cat  ...     10:48:00            0\n",
              "1 2016-03-24 16:39:00         Other  ...     17:17:00            0\n",
              "2 2019-09-02 11:52:00           Dog  ...     13:12:00            0\n",
              "\n",
              "[3 rows x 12 columns]"
            ]
          },
          "metadata": {
            "tags": []
          },
          "execution_count": 242
        }
      ]
    },
    {
      "cell_type": "markdown",
      "metadata": {
        "id": "3T23aEhCjJdX"
      },
      "source": [
        "##Euthanization Graph Based on Intake to Outcome Days for Dogs"
      ]
    },
    {
      "cell_type": "code",
      "metadata": {
        "colab": {
          "base_uri": "https://localhost:8080/",
          "height": 0
        },
        "id": "lLHxxfVQ8508",
        "outputId": "e9d45093-dcb5-4e96-ddbd-eef9bc49a11a"
      },
      "source": [
        "euth_dogs = euth_timeline[(euth_timeline['Animal Type_x'] == 'Dog')].reset_index()\n",
        "euth_dogs = euth_dogs.drop('index', axis=1)\n",
        "euth_dogs.head()"
      ],
      "execution_count": 243,
      "outputs": [
        {
          "output_type": "execute_result",
          "data": {
            "text/html": [
              "<div>\n",
              "<style scoped>\n",
              "    .dataframe tbody tr th:only-of-type {\n",
              "        vertical-align: middle;\n",
              "    }\n",
              "\n",
              "    .dataframe tbody tr th {\n",
              "        vertical-align: top;\n",
              "    }\n",
              "\n",
              "    .dataframe thead th {\n",
              "        text-align: right;\n",
              "    }\n",
              "</style>\n",
              "<table border=\"1\" class=\"dataframe\">\n",
              "  <thead>\n",
              "    <tr style=\"text-align: right;\">\n",
              "      <th></th>\n",
              "      <th>Intake DateTime</th>\n",
              "      <th>Animal Type_x</th>\n",
              "      <th>Breed_x</th>\n",
              "      <th>Color_x</th>\n",
              "      <th>Outcome DateTime</th>\n",
              "      <th>Outcome Type</th>\n",
              "      <th>Outcome Subtype</th>\n",
              "      <th>Intake Date</th>\n",
              "      <th>Intake Time</th>\n",
              "      <th>Outcome Date</th>\n",
              "      <th>Outcome Time</th>\n",
              "      <th>Days to Euth</th>\n",
              "    </tr>\n",
              "  </thead>\n",
              "  <tbody>\n",
              "    <tr>\n",
              "      <th>0</th>\n",
              "      <td>2019-09-02 11:52:00</td>\n",
              "      <td>Dog</td>\n",
              "      <td>Boxer Mix</td>\n",
              "      <td>White</td>\n",
              "      <td>2019-09-02 13:12:00</td>\n",
              "      <td>Euthanasia</td>\n",
              "      <td>Suffering</td>\n",
              "      <td>2019-09-02</td>\n",
              "      <td>11:52:00</td>\n",
              "      <td>2019-09-02</td>\n",
              "      <td>13:12:00</td>\n",
              "      <td>0</td>\n",
              "    </tr>\n",
              "    <tr>\n",
              "      <th>1</th>\n",
              "      <td>2019-05-06 21:30:00</td>\n",
              "      <td>Dog</td>\n",
              "      <td>Boxer Mix</td>\n",
              "      <td>White</td>\n",
              "      <td>2019-09-02 13:12:00</td>\n",
              "      <td>Euthanasia</td>\n",
              "      <td>Suffering</td>\n",
              "      <td>2019-05-06</td>\n",
              "      <td>21:30:00</td>\n",
              "      <td>2019-09-02</td>\n",
              "      <td>13:12:00</td>\n",
              "      <td>119</td>\n",
              "    </tr>\n",
              "    <tr>\n",
              "      <th>2</th>\n",
              "      <td>2019-07-16 10:35:00</td>\n",
              "      <td>Dog</td>\n",
              "      <td>Boxer Mix</td>\n",
              "      <td>White</td>\n",
              "      <td>2019-09-02 13:12:00</td>\n",
              "      <td>Euthanasia</td>\n",
              "      <td>Suffering</td>\n",
              "      <td>2019-07-16</td>\n",
              "      <td>10:35:00</td>\n",
              "      <td>2019-09-02</td>\n",
              "      <td>13:12:00</td>\n",
              "      <td>48</td>\n",
              "    </tr>\n",
              "    <tr>\n",
              "      <th>3</th>\n",
              "      <td>2016-06-07 17:51:00</td>\n",
              "      <td>Dog</td>\n",
              "      <td>Wire Hair Fox Terrier Mix</td>\n",
              "      <td>White/Brown</td>\n",
              "      <td>2016-06-07 18:00:00</td>\n",
              "      <td>Euthanasia</td>\n",
              "      <td>Suffering</td>\n",
              "      <td>2016-06-07</td>\n",
              "      <td>17:51:00</td>\n",
              "      <td>2016-06-07</td>\n",
              "      <td>18:00:00</td>\n",
              "      <td>0</td>\n",
              "    </tr>\n",
              "    <tr>\n",
              "      <th>4</th>\n",
              "      <td>2015-01-23 12:13:00</td>\n",
              "      <td>Dog</td>\n",
              "      <td>Pit Bull Mix</td>\n",
              "      <td>White/Brown Brindle</td>\n",
              "      <td>2015-01-24 08:46:00</td>\n",
              "      <td>Euthanasia</td>\n",
              "      <td>Aggressive</td>\n",
              "      <td>2015-01-23</td>\n",
              "      <td>12:13:00</td>\n",
              "      <td>2015-01-24</td>\n",
              "      <td>08:46:00</td>\n",
              "      <td>1</td>\n",
              "    </tr>\n",
              "  </tbody>\n",
              "</table>\n",
              "</div>"
            ],
            "text/plain": [
              "      Intake DateTime Animal Type_x  ... Outcome Time Days to Euth\n",
              "0 2019-09-02 11:52:00           Dog  ...     13:12:00            0\n",
              "1 2019-05-06 21:30:00           Dog  ...     13:12:00          119\n",
              "2 2019-07-16 10:35:00           Dog  ...     13:12:00           48\n",
              "3 2016-06-07 17:51:00           Dog  ...     18:00:00            0\n",
              "4 2015-01-23 12:13:00           Dog  ...     08:46:00            1\n",
              "\n",
              "[5 rows x 12 columns]"
            ]
          },
          "metadata": {
            "tags": []
          },
          "execution_count": 243
        }
      ]
    },
    {
      "cell_type": "code",
      "metadata": {
        "colab": {
          "base_uri": "https://localhost:8080/"
        },
        "id": "dLEBaStKGW1R",
        "outputId": "9199d609-eb11-4c68-d92b-d603ec0c3d53"
      },
      "source": [
        "euth_dogs['Days to Euth'].value_counts().sort_index()"
      ],
      "execution_count": 244,
      "outputs": [
        {
          "output_type": "execute_result",
          "data": {
            "text/plain": [
              "-506       1\n",
              " 0       543\n",
              " 1       189\n",
              " 2        96\n",
              " 3        86\n",
              "        ... \n",
              " 1894      1\n",
              " 1971      1\n",
              " 2055      1\n",
              " 2061      1\n",
              " 2123      1\n",
              "Name: Days to Euth, Length: 283, dtype: int64"
            ]
          },
          "metadata": {
            "tags": []
          },
          "execution_count": 244
        }
      ]
    },
    {
      "cell_type": "code",
      "metadata": {
        "colab": {
          "base_uri": "https://localhost:8080/"
        },
        "id": "rS9z_3LWPlrU",
        "outputId": "3c150132-1aaa-44e1-f1a4-894631ce29b0"
      },
      "source": [
        "days_to_euth = (euth_dogs['Outcome Date'] - euth_dogs['Intake Date']).dt.days.tolist()\n",
        "days_to_euth.index(-506)"
      ],
      "execution_count": 245,
      "outputs": [
        {
          "output_type": "execute_result",
          "data": {
            "text/plain": [
              "1032"
            ]
          },
          "metadata": {
            "tags": []
          },
          "execution_count": 245
        }
      ]
    },
    {
      "cell_type": "code",
      "metadata": {
        "colab": {
          "base_uri": "https://localhost:8080/",
          "height": 0
        },
        "id": "M_GUwS-gRW1m",
        "outputId": "cafcd7ee-afdb-45f2-8c9d-e9c711fefd55"
      },
      "source": [
        "euth_dogs = euth_dogs.drop(labels=[1032], axis=0)\n",
        "euth_dogs.head()"
      ],
      "execution_count": 246,
      "outputs": [
        {
          "output_type": "execute_result",
          "data": {
            "text/html": [
              "<div>\n",
              "<style scoped>\n",
              "    .dataframe tbody tr th:only-of-type {\n",
              "        vertical-align: middle;\n",
              "    }\n",
              "\n",
              "    .dataframe tbody tr th {\n",
              "        vertical-align: top;\n",
              "    }\n",
              "\n",
              "    .dataframe thead th {\n",
              "        text-align: right;\n",
              "    }\n",
              "</style>\n",
              "<table border=\"1\" class=\"dataframe\">\n",
              "  <thead>\n",
              "    <tr style=\"text-align: right;\">\n",
              "      <th></th>\n",
              "      <th>Intake DateTime</th>\n",
              "      <th>Animal Type_x</th>\n",
              "      <th>Breed_x</th>\n",
              "      <th>Color_x</th>\n",
              "      <th>Outcome DateTime</th>\n",
              "      <th>Outcome Type</th>\n",
              "      <th>Outcome Subtype</th>\n",
              "      <th>Intake Date</th>\n",
              "      <th>Intake Time</th>\n",
              "      <th>Outcome Date</th>\n",
              "      <th>Outcome Time</th>\n",
              "      <th>Days to Euth</th>\n",
              "    </tr>\n",
              "  </thead>\n",
              "  <tbody>\n",
              "    <tr>\n",
              "      <th>0</th>\n",
              "      <td>2019-09-02 11:52:00</td>\n",
              "      <td>Dog</td>\n",
              "      <td>Boxer Mix</td>\n",
              "      <td>White</td>\n",
              "      <td>2019-09-02 13:12:00</td>\n",
              "      <td>Euthanasia</td>\n",
              "      <td>Suffering</td>\n",
              "      <td>2019-09-02</td>\n",
              "      <td>11:52:00</td>\n",
              "      <td>2019-09-02</td>\n",
              "      <td>13:12:00</td>\n",
              "      <td>0</td>\n",
              "    </tr>\n",
              "    <tr>\n",
              "      <th>1</th>\n",
              "      <td>2019-05-06 21:30:00</td>\n",
              "      <td>Dog</td>\n",
              "      <td>Boxer Mix</td>\n",
              "      <td>White</td>\n",
              "      <td>2019-09-02 13:12:00</td>\n",
              "      <td>Euthanasia</td>\n",
              "      <td>Suffering</td>\n",
              "      <td>2019-05-06</td>\n",
              "      <td>21:30:00</td>\n",
              "      <td>2019-09-02</td>\n",
              "      <td>13:12:00</td>\n",
              "      <td>119</td>\n",
              "    </tr>\n",
              "    <tr>\n",
              "      <th>2</th>\n",
              "      <td>2019-07-16 10:35:00</td>\n",
              "      <td>Dog</td>\n",
              "      <td>Boxer Mix</td>\n",
              "      <td>White</td>\n",
              "      <td>2019-09-02 13:12:00</td>\n",
              "      <td>Euthanasia</td>\n",
              "      <td>Suffering</td>\n",
              "      <td>2019-07-16</td>\n",
              "      <td>10:35:00</td>\n",
              "      <td>2019-09-02</td>\n",
              "      <td>13:12:00</td>\n",
              "      <td>48</td>\n",
              "    </tr>\n",
              "    <tr>\n",
              "      <th>3</th>\n",
              "      <td>2016-06-07 17:51:00</td>\n",
              "      <td>Dog</td>\n",
              "      <td>Wire Hair Fox Terrier Mix</td>\n",
              "      <td>White/Brown</td>\n",
              "      <td>2016-06-07 18:00:00</td>\n",
              "      <td>Euthanasia</td>\n",
              "      <td>Suffering</td>\n",
              "      <td>2016-06-07</td>\n",
              "      <td>17:51:00</td>\n",
              "      <td>2016-06-07</td>\n",
              "      <td>18:00:00</td>\n",
              "      <td>0</td>\n",
              "    </tr>\n",
              "    <tr>\n",
              "      <th>4</th>\n",
              "      <td>2015-01-23 12:13:00</td>\n",
              "      <td>Dog</td>\n",
              "      <td>Pit Bull Mix</td>\n",
              "      <td>White/Brown Brindle</td>\n",
              "      <td>2015-01-24 08:46:00</td>\n",
              "      <td>Euthanasia</td>\n",
              "      <td>Aggressive</td>\n",
              "      <td>2015-01-23</td>\n",
              "      <td>12:13:00</td>\n",
              "      <td>2015-01-24</td>\n",
              "      <td>08:46:00</td>\n",
              "      <td>1</td>\n",
              "    </tr>\n",
              "  </tbody>\n",
              "</table>\n",
              "</div>"
            ],
            "text/plain": [
              "      Intake DateTime Animal Type_x  ... Outcome Time Days to Euth\n",
              "0 2019-09-02 11:52:00           Dog  ...     13:12:00            0\n",
              "1 2019-05-06 21:30:00           Dog  ...     13:12:00          119\n",
              "2 2019-07-16 10:35:00           Dog  ...     13:12:00           48\n",
              "3 2016-06-07 17:51:00           Dog  ...     18:00:00            0\n",
              "4 2015-01-23 12:13:00           Dog  ...     08:46:00            1\n",
              "\n",
              "[5 rows x 12 columns]"
            ]
          },
          "metadata": {
            "tags": []
          },
          "execution_count": 246
        }
      ]
    },
    {
      "cell_type": "code",
      "metadata": {
        "colab": {
          "base_uri": "https://localhost:8080/"
        },
        "id": "GNlNzUZgRjl3",
        "outputId": "823d8d2d-53f1-4541-b4e6-841c21a2c76c"
      },
      "source": [
        "euth_dogs['Days to Euth'].value_counts().sort_index()"
      ],
      "execution_count": 247,
      "outputs": [
        {
          "output_type": "execute_result",
          "data": {
            "text/plain": [
              "0       543\n",
              "1       189\n",
              "2        96\n",
              "3        86\n",
              "4       125\n",
              "       ... \n",
              "1894      1\n",
              "1971      1\n",
              "2055      1\n",
              "2061      1\n",
              "2123      1\n",
              "Name: Days to Euth, Length: 282, dtype: int64"
            ]
          },
          "metadata": {
            "tags": []
          },
          "execution_count": 247
        }
      ]
    },
    {
      "cell_type": "code",
      "metadata": {
        "colab": {
          "base_uri": "https://localhost:8080/",
          "height": 0
        },
        "id": "I-XdeAZrqsLv",
        "outputId": "41747515-b2a1-437a-9985-700863193167"
      },
      "source": [
        "fig, ax = plt.subplots(figsize=(2, 6))\n",
        "\n",
        "ax.boxplot(x=euth_dogs['Days to Euth'])\n",
        "\n",
        "ax.set_title('Days at Facility Before\\nEuthenization', fontweight='bold', fontsize=16, pad=15)\n",
        "ax.set_ylabel('Day', fontweight='bold', fontsize=14, labelpad=10)\n",
        "ax.set_xlabel('Dogs', fontweight='bold', fontsize=14, labelpad=10)\n",
        "ax.set_yticks([0, 250, 500, 750, 1000, 1250, 1500, 1750, 2000, 2250])\n",
        "ax.set_yticklabels(labels=[0, 250, 500, 750, 1000, 1250, 1500, 1750, 2000, 2250], fontsize=12)\n",
        "\n",
        "\n",
        "plt.grid(True)\n",
        "plt.show()"
      ],
      "execution_count": 248,
      "outputs": [
        {
          "output_type": "display_data",
          "data": {
            "image/png": "[encoded data removed]",
            "text/plain": [
              "<Figure size 144x432 with 1 Axes>"
            ]
          },
          "metadata": {
            "tags": [],
            "needs_background": "light"
          }
        }
      ]
    },
    {
      "cell_type": "code",
      "metadata": {
        "colab": {
          "base_uri": "https://localhost:8080/",
          "height": 0
        },
        "id": "fLxDuHKmTCFV",
        "outputId": "9d0f786c-4040-4b18-ea1e-b29544dd92b6"
      },
      "source": [
        "fig, ax = plt.subplots(figsize=(2, 6))\n",
        "\n",
        "ax.boxplot(x=euth_dogs['Days to Euth'])\n",
        "\n",
        "ax.set_title('Days at Facility Before\\nEuthenization', fontweight='bold', fontsize=16, pad=15)\n",
        "ax.set_ylabel('Day', fontweight='bold', fontsize=14, labelpad=10)\n",
        "ax.set_xlabel('Dogs', fontweight='bold', fontsize=14, labelpad=10)\n",
        "ax.set_yticks([0, 5, 10, 15, 20, 25, 30, 35, 40, 45, 50, 55, 60])\n",
        "ax.set_yticklabels(labels=[0, 5, 10, 15, 20, 25, 30, 35, 40, 45, 50, 55, 60], fontsize=12)\n",
        "ax.set_ylim(-5,60)\n",
        "\n",
        "plt.grid(True)\n",
        "plt.show()"
      ],
      "execution_count": 249,
      "outputs": [
        {
          "output_type": "display_data",
          "data": {
            "image/png": "[encoded data removed]",
            "text/plain": [
              "<Figure size 144x432 with 1 Axes>"
            ]
          },
          "metadata": {
            "tags": [],
            "needs_background": "light"
          }
        }
      ]
    },
    {
      "cell_type": "markdown",
      "metadata": {
        "id": "wmmac6Gt8fmw"
      },
      "source": [
        "##Euthanization Graph Based on Intake to Outcome Days for Cats"
      ]
    },
    {
      "cell_type": "code",
      "metadata": {
        "colab": {
          "base_uri": "https://localhost:8080/",
          "height": 0
        },
        "id": "zbmY4Y5-8ppn",
        "outputId": "11764a3a-1e11-4334-bc8c-d30baf288eb7"
      },
      "source": [
        "euth_cats = euth_timeline[(euth_timeline['Animal Type_x'] == 'Cat')].reset_index()\n",
        "euth_cats = euth_cats.drop('index', axis=1)\n",
        "euth_cats.head()"
      ],
      "execution_count": 250,
      "outputs": [
        {
          "output_type": "execute_result",
          "data": {
            "text/html": [
              "<div>\n",
              "<style scoped>\n",
              "    .dataframe tbody tr th:only-of-type {\n",
              "        vertical-align: middle;\n",
              "    }\n",
              "\n",
              "    .dataframe tbody tr th {\n",
              "        vertical-align: top;\n",
              "    }\n",
              "\n",
              "    .dataframe thead th {\n",
              "        text-align: right;\n",
              "    }\n",
              "</style>\n",
              "<table border=\"1\" class=\"dataframe\">\n",
              "  <thead>\n",
              "    <tr style=\"text-align: right;\">\n",
              "      <th></th>\n",
              "      <th>Intake DateTime</th>\n",
              "      <th>Animal Type_x</th>\n",
              "      <th>Breed_x</th>\n",
              "      <th>Color_x</th>\n",
              "      <th>Outcome DateTime</th>\n",
              "      <th>Outcome Type</th>\n",
              "      <th>Outcome Subtype</th>\n",
              "      <th>Intake Date</th>\n",
              "      <th>Intake Time</th>\n",
              "      <th>Outcome Date</th>\n",
              "      <th>Outcome Time</th>\n",
              "      <th>Days to Euth</th>\n",
              "    </tr>\n",
              "  </thead>\n",
              "  <tbody>\n",
              "    <tr>\n",
              "      <th>0</th>\n",
              "      <td>2017-02-04 10:10:00</td>\n",
              "      <td>Cat</td>\n",
              "      <td>Domestic Shorthair Mix</td>\n",
              "      <td>Black/White</td>\n",
              "      <td>2017-02-04 10:48:00</td>\n",
              "      <td>Euthanasia</td>\n",
              "      <td>Suffering</td>\n",
              "      <td>2017-02-04</td>\n",
              "      <td>10:10:00</td>\n",
              "      <td>2017-02-04</td>\n",
              "      <td>10:48:00</td>\n",
              "      <td>0</td>\n",
              "    </tr>\n",
              "    <tr>\n",
              "      <th>1</th>\n",
              "      <td>2019-04-02 07:16:00</td>\n",
              "      <td>Cat</td>\n",
              "      <td>Domestic Shorthair Mix</td>\n",
              "      <td>Brown Tabby</td>\n",
              "      <td>2019-04-02 08:52:00</td>\n",
              "      <td>Euthanasia</td>\n",
              "      <td>At Vet</td>\n",
              "      <td>2019-04-02</td>\n",
              "      <td>07:16:00</td>\n",
              "      <td>2019-04-02</td>\n",
              "      <td>08:52:00</td>\n",
              "      <td>0</td>\n",
              "    </tr>\n",
              "    <tr>\n",
              "      <th>2</th>\n",
              "      <td>2016-06-19 16:13:00</td>\n",
              "      <td>Cat</td>\n",
              "      <td>Domestic Shorthair Mix</td>\n",
              "      <td>Black</td>\n",
              "      <td>2016-06-19 16:30:00</td>\n",
              "      <td>Euthanasia</td>\n",
              "      <td>Suffering</td>\n",
              "      <td>2016-06-19</td>\n",
              "      <td>16:13:00</td>\n",
              "      <td>2016-06-19</td>\n",
              "      <td>16:30:00</td>\n",
              "      <td>0</td>\n",
              "    </tr>\n",
              "    <tr>\n",
              "      <th>3</th>\n",
              "      <td>2020-01-16 12:08:00</td>\n",
              "      <td>Cat</td>\n",
              "      <td>Domestic Longhair</td>\n",
              "      <td>Black/White</td>\n",
              "      <td>2020-01-25 11:57:00</td>\n",
              "      <td>Euthanasia</td>\n",
              "      <td>Suffering</td>\n",
              "      <td>2020-01-16</td>\n",
              "      <td>12:08:00</td>\n",
              "      <td>2020-01-25</td>\n",
              "      <td>11:57:00</td>\n",
              "      <td>9</td>\n",
              "    </tr>\n",
              "    <tr>\n",
              "      <th>4</th>\n",
              "      <td>2014-12-26 11:39:00</td>\n",
              "      <td>Cat</td>\n",
              "      <td>Domestic Shorthair Mix</td>\n",
              "      <td>Black/White</td>\n",
              "      <td>2014-12-26 13:59:00</td>\n",
              "      <td>Euthanasia</td>\n",
              "      <td>Suffering</td>\n",
              "      <td>2014-12-26</td>\n",
              "      <td>11:39:00</td>\n",
              "      <td>2014-12-26</td>\n",
              "      <td>13:59:00</td>\n",
              "      <td>0</td>\n",
              "    </tr>\n",
              "  </tbody>\n",
              "</table>\n",
              "</div>"
            ],
            "text/plain": [
              "      Intake DateTime Animal Type_x  ... Outcome Time Days to Euth\n",
              "0 2017-02-04 10:10:00           Cat  ...     10:48:00            0\n",
              "1 2019-04-02 07:16:00           Cat  ...     08:52:00            0\n",
              "2 2016-06-19 16:13:00           Cat  ...     16:30:00            0\n",
              "3 2020-01-16 12:08:00           Cat  ...     11:57:00            9\n",
              "4 2014-12-26 11:39:00           Cat  ...     13:59:00            0\n",
              "\n",
              "[5 rows x 12 columns]"
            ]
          },
          "metadata": {
            "tags": []
          },
          "execution_count": 250
        }
      ]
    },
    {
      "cell_type": "code",
      "metadata": {
        "colab": {
          "base_uri": "https://localhost:8080/"
        },
        "id": "dhrcIhCcupJ0",
        "outputId": "6a3cb9c0-d2ae-4392-ccca-5435d377a68d"
      },
      "source": [
        "euth_cats['Days to Euth'].value_counts().sort_index()"
      ],
      "execution_count": 251,
      "outputs": [
        {
          "output_type": "execute_result",
          "data": {
            "text/plain": [
              "0       1053\n",
              "1        231\n",
              "2         83\n",
              "3         68\n",
              "4        138\n",
              "        ... \n",
              "1433       1\n",
              "1685       1\n",
              "1724       1\n",
              "1935       1\n",
              "2020       1\n",
              "Name: Days to Euth, Length: 126, dtype: int64"
            ]
          },
          "metadata": {
            "tags": []
          },
          "execution_count": 251
        }
      ]
    },
    {
      "cell_type": "code",
      "metadata": {
        "colab": {
          "base_uri": "https://localhost:8080/",
          "height": 0
        },
        "id": "LyqD-qmguop_",
        "outputId": "5e2469c6-26ee-4189-faf7-aed2edc823bd"
      },
      "source": [
        "fig, ax = plt.subplots(figsize=(2, 6))\n",
        "\n",
        "ax.boxplot(x=euth_cats['Days to Euth'])\n",
        "\n",
        "ax.set_title('Days at Facility Before\\nEuthenization', fontweight='bold', fontsize=16, pad=15)\n",
        "ax.set_ylabel('Day', fontweight='bold', fontsize=14, labelpad=10)\n",
        "ax.set_xlabel('Cats', fontweight='bold', fontsize=14, labelpad=15)\n",
        "ax.set_yticks([0, 250, 500, 750, 1000, 1250, 1500, 1750, 2000, 2250])\n",
        "ax.set_yticklabels(labels=[0, 250, 500, 750, 1000, 1250, 1500, 1750, 2000, 2250], fontsize=12)\n",
        "\n",
        "plt.grid(True)\n",
        "plt.show()"
      ],
      "execution_count": 252,
      "outputs": [
        {
          "output_type": "display_data",
          "data": {
            "image/png": "[encoded data removed]",
            "text/plain": [
              "<Figure size 144x432 with 1 Axes>"
            ]
          },
          "metadata": {
            "tags": [],
            "needs_background": "light"
          }
        }
      ]
    },
    {
      "cell_type": "code",
      "metadata": {
        "colab": {
          "base_uri": "https://localhost:8080/",
          "height": 0
        },
        "id": "a9wJGz5Huo8L",
        "outputId": "bd2d3c32-5f8d-4584-b4c0-63fabb34ac46"
      },
      "source": [
        "fig, ax = plt.subplots(figsize=(2, 6))\n",
        "\n",
        "ax.boxplot(x=euth_cats['Days to Euth'])\n",
        "\n",
        "ax.set_title('Days at Facility Before\\nEuthenization', fontweight='bold', fontsize=16, pad=15)\n",
        "ax.set_ylabel('Day', fontweight='bold', fontsize=14, labelpad=10)\n",
        "ax.set_xlabel('Cats', fontweight='bold', fontsize=14, labelpad=15)\n",
        "ax.set_ylim(-2, 20)\n",
        "ax.set_yticklabels(labels=[(),0, 2.5, 5, 7.5, 10, 12.5, 15, 17.5, 20], fontsize=12)\n",
        "\n",
        "plt.grid(True)\n",
        "plt.show()"
      ],
      "execution_count": 253,
      "outputs": [
        {
          "output_type": "display_data",
          "data": {
            "image/png": "[encoded data removed]",
            "text/plain": [
              "<Figure size 144x432 with 1 Axes>"
            ]
          },
          "metadata": {
            "tags": [],
            "needs_background": "light"
          }
        }
      ]
    },
    {
      "cell_type": "markdown",
      "metadata": {
        "id": "WppAm0L48Alw"
      },
      "source": [
        "##Euthanization Boxplot Graph for Cats and Dogs Comparing Intake to Outcome Days"
      ]
    },
    {
      "cell_type": "code",
      "metadata": {
        "colab": {
          "base_uri": "https://localhost:8080/",
          "height": 0
        },
        "id": "FL9Q7HEGjci6",
        "outputId": "73d04a86-3815-4009-9226-45954ddefc4f"
      },
      "source": [
        "fig, (ax1, ax2) = plt.subplots(1, 2, figsize=(8, 6))\n",
        "\n",
        "fig.suptitle('Days at Facility Before Euthenization', fontweight='bold', fontsize=16, verticalalignment='top', horizontalalignment='center')\n",
        "\n",
        "ax1.boxplot(x=euth_dogs['Days to Euth'])\n",
        "\n",
        "ax1.set_ylabel('Day', fontweight='bold', fontsize=14, labelpad=10)\n",
        "ax1.set_xlabel('Dogs', fontweight='bold', fontsize=14, labelpad=10)\n",
        "ax1.set_yticks([0, 250, 500, 750, 1000, 1250, 1500, 1750, 2000, 2250])\n",
        "ax1.set_yticklabels(labels=[0, 250, 500, 750, 1000, 1250, 1500, 1750, 2000, 2250], fontsize=12)\n",
        "ax1.grid(True)\n",
        "\n",
        "ax2.boxplot(x=euth_cats['Days to Euth'])\n",
        "\n",
        "ax2.set_xlabel('Cats', fontweight='bold', fontsize=14, labelpad=15)\n",
        "ax2.set_yticks([0, 250, 500, 750, 1000, 1250, 1500, 1750, 2000, 2250])\n",
        "ax2.set_yticklabels(labels=[0, 250, 500, 750, 1000, 1250, 1500, 1750, 2000, 2250], fontsize=12)\n",
        "ax2.grid(True)\n",
        "\n",
        "plt.show()"
      ],
      "execution_count": 254,
      "outputs": [
        {
          "output_type": "display_data",
          "data": {
            "image/png": "[encoded data removed]",
            "text/plain": [
              "<Figure size 576x432 with 2 Axes>"
            ]
          },
          "metadata": {
            "tags": [],
            "needs_background": "light"
          }
        }
      ]
    },
    {
      "cell_type": "code",
      "metadata": {
        "colab": {
          "base_uri": "https://localhost:8080/",
          "height": 0
        },
        "id": "QI5KNfzH763l",
        "outputId": "63213010-c6e2-4032-8d0e-fab94c7ab9cf"
      },
      "source": [
        "fig, ax = plt.subplots(nrows=1, ncols=3, figsize=(12, 6))\n",
        "\n",
        "fig.suptitle('Days at Facility Before Euthenization', fontweight='bold', fontsize=16, verticalalignment='top', horizontalalignment='center')\n",
        "\n",
        "ax[0].boxplot(x=euth_timeline['Days to Euth'])\n",
        "\n",
        "ax[0].set_ylabel('Day', fontweight='bold', fontsize=14, labelpad=10)\n",
        "ax[0].set_xlabel('All Animals', fontweight='bold', fontsize=14, labelpad=15)\n",
        "ax[0].set_yticks([0, 250, 500, 750, 1000, 1250, 1500, 1750, 2000, 2250])\n",
        "ax[0].set_yticklabels(labels=[0, 250, 500, 750, 1000, 1250, 1500, 1750, 2000, 2250], fontsize=12)\n",
        "ax[0].grid(True)\n",
        "\n",
        "ax[1].boxplot(x=euth_dogs['Days to Euth'])\n",
        "\n",
        "ax[1].set_xlabel('Dogs', fontweight='bold', fontsize=14, labelpad=10)\n",
        "ax[1].set_yticks([0, 250, 500, 750, 1000, 1250, 1500, 1750, 2000, 2250])\n",
        "ax[1].set_yticklabels(labels=[0, 250, 500, 750, 1000, 1250, 1500, 1750, 2000, 2250], fontsize=12)\n",
        "ax[1].grid(True)\n",
        "\n",
        "ax[2].boxplot(x=euth_cats['Days to Euth'])\n",
        "\n",
        "ax[2].set_xlabel('Cats', fontweight='bold', fontsize=14, labelpad=15)\n",
        "ax[2].set_yticks([0, 250, 500, 750, 1000, 1250, 1500, 1750, 2000, 2250])\n",
        "ax[2].set_yticklabels(labels=[0, 250, 500, 750, 1000, 1250, 1500, 1750, 2000, 2250], fontsize=12)\n",
        "ax[2].grid(True)\n",
        "\n",
        "plt.show()"
      ],
      "execution_count": 255,
      "outputs": [
        {
          "output_type": "display_data",
          "data": {
            "image/png": "[encoded data removed]",
            "text/plain": [
              "<Figure size 864x432 with 3 Axes>"
            ]
          },
          "metadata": {
            "tags": [],
            "needs_background": "light"
          }
        }
      ]
    },
    {
      "cell_type": "code",
      "metadata": {
        "colab": {
          "base_uri": "https://localhost:8080/",
          "height": 0
        },
        "id": "ZYT1pNkU8EuE",
        "outputId": "459d62b7-ab11-4b1a-c2ec-78d441bf4286"
      },
      "source": [
        "fig, (ax1, ax2) = plt.subplots(1, 2,  figsize=(8, 6))\n",
        "fig.suptitle('Days at Facility Before Euthenization - Zoomed', fontweight='bold', fontsize=16, verticalalignment='top', horizontalalignment='center')\n",
        "\n",
        "ax1.boxplot(x=euth_dogs['Days to Euth'])\n",
        "\n",
        "ax1.set_ylabel('Day', fontweight='bold', fontsize=14, labelpad=10)\n",
        "ax1.set_xlabel('Dogs', fontweight='bold', fontsize=14, labelpad=15)\n",
        "ax1.set_yticks([0, 5, 10, 15, 20, 25, 30, 35, 40, 45, 50, 55, 60])\n",
        "ax1.set_yticklabels(labels=[0, 5, 10, 15, 20, 25, 30, 35, 40, 45, 50, 55, 60], fontsize=12)\n",
        "ax1.set_ylim(-2,60)\n",
        "ax1.grid()\n",
        "\n",
        "ax2.boxplot(x=euth_cats['Days to Euth'])\n",
        "\n",
        "ax2.set_xlabel('Cats', fontweight='bold', fontsize=14, labelpad=15)\n",
        "ax2.set_ylim(-1, 20)\n",
        "ax2.set_yticklabels(labels=[(),0, 2.5, 5, 7.5, 10, 12.5, 15, 17.5, 20], fontsize=12)\n",
        "ax2.grid()\n",
        "\n",
        "plt.show()"
      ],
      "execution_count": 256,
      "outputs": [
        {
          "output_type": "display_data",
          "data": {
            "image/png": "[encoded data removed]",
            "text/plain": [
              "<Figure size 576x432 with 2 Axes>"
            ]
          },
          "metadata": {
            "tags": [],
            "needs_background": "light"
          }
        }
      ]
    },
    {
      "cell_type": "code",
      "metadata": {
        "colab": {
          "base_uri": "https://localhost:8080/",
          "height": 0
        },
        "id": "aruhxekf70qb",
        "outputId": "55e37eb3-7bca-4b56-eb08-8f6ef6a00a95"
      },
      "source": [
        "fig, ax = plt.subplots(nrows=1, ncols=3, figsize=(12, 6))\n",
        "fig.suptitle('Days at Facility Before Euthenization - Zoomed', fontweight='bold', fontsize=16, verticalalignment='top', horizontalalignment='center')\n",
        "\n",
        "ax[0].boxplot(x=euth_timeline['Days to Euth'])\n",
        "\n",
        "ax[0].set_ylabel('Day', fontweight='bold', fontsize=14, labelpad=10)\n",
        "ax[0].set_xlabel('All Animals', fontweight='bold', fontsize=14, labelpad=15)\n",
        "ax[0].set_ylim(-1, 20)\n",
        "ax[0].set_yticklabels(labels=[(),0, 2.5, 5, 7.5, 10, 12.5, 15, 17.5, 20], fontsize=12)\n",
        "ax[0].grid()\n",
        "\n",
        "ax[1].boxplot(x=euth_dogs['Days to Euth'])\n",
        "\n",
        "ax[1].set_xlabel('Dogs', fontweight='bold', fontsize=14, labelpad=15)\n",
        "ax[1].set_yticks([0, 5, 10, 15, 20, 25, 30, 35, 40, 45, 50, 55, 60])\n",
        "ax[1].set_yticklabels(labels=[0, 5, 10, 15, 20, 25, 30, 35, 40, 45, 50, 55, 60], fontsize=12)\n",
        "ax[1].set_ylim(-2,60)\n",
        "ax[1].grid()\n",
        "\n",
        "ax[2].boxplot(x=euth_cats['Days to Euth'])\n",
        "\n",
        "ax[2].set_xlabel('Cats', fontweight='bold', fontsize=14, labelpad=15)\n",
        "ax[2].set_ylim(-1, 20)\n",
        "ax[2].set_yticklabels(labels=[(),0, 2.5, 5, 7.5, 10, 12.5, 15, 17.5, 20], fontsize=12)\n",
        "ax[2].grid()\n",
        "\n",
        "\n",
        "plt.show()"
      ],
      "execution_count": 257,
      "outputs": [
        {
          "output_type": "display_data",
          "data": {
            "image/png": "[encoded data removed]",
            "text/plain": [
              "<Figure size 864x432 with 3 Axes>"
            ]
          },
          "metadata": {
            "tags": [],
            "needs_background": "light"
          }
        }
      ]
    },
    {
      "cell_type": "code",
      "metadata": {
        "colab": {
          "base_uri": "https://localhost:8080/",
          "height": 0
        },
        "id": "f3K8kZ7bgSTm",
        "outputId": "b31ef516-f883-427d-dcc3-0edb0a6bcc35"
      },
      "source": [
        "euth_dogs.describe()"
      ],
      "execution_count": 258,
      "outputs": [
        {
          "output_type": "execute_result",
          "data": {
            "text/html": [
              "<div>\n",
              "<style scoped>\n",
              "    .dataframe tbody tr th:only-of-type {\n",
              "        vertical-align: middle;\n",
              "    }\n",
              "\n",
              "    .dataframe tbody tr th {\n",
              "        vertical-align: top;\n",
              "    }\n",
              "\n",
              "    .dataframe thead th {\n",
              "        text-align: right;\n",
              "    }\n",
              "</style>\n",
              "<table border=\"1\" class=\"dataframe\">\n",
              "  <thead>\n",
              "    <tr style=\"text-align: right;\">\n",
              "      <th></th>\n",
              "      <th>Days to Euth</th>\n",
              "    </tr>\n",
              "  </thead>\n",
              "  <tbody>\n",
              "    <tr>\n",
              "      <th>count</th>\n",
              "      <td>2078.000000</td>\n",
              "    </tr>\n",
              "    <tr>\n",
              "      <th>mean</th>\n",
              "      <td>60.288739</td>\n",
              "    </tr>\n",
              "    <tr>\n",
              "      <th>std</th>\n",
              "      <td>197.638892</td>\n",
              "    </tr>\n",
              "    <tr>\n",
              "      <th>min</th>\n",
              "      <td>0.000000</td>\n",
              "    </tr>\n",
              "    <tr>\n",
              "      <th>25%</th>\n",
              "      <td>0.000000</td>\n",
              "    </tr>\n",
              "    <tr>\n",
              "      <th>50%</th>\n",
              "      <td>4.500000</td>\n",
              "    </tr>\n",
              "    <tr>\n",
              "      <th>75%</th>\n",
              "      <td>23.000000</td>\n",
              "    </tr>\n",
              "    <tr>\n",
              "      <th>max</th>\n",
              "      <td>2123.000000</td>\n",
              "    </tr>\n",
              "  </tbody>\n",
              "</table>\n",
              "</div>"
            ],
            "text/plain": [
              "       Days to Euth\n",
              "count   2078.000000\n",
              "mean      60.288739\n",
              "std      197.638892\n",
              "min        0.000000\n",
              "25%        0.000000\n",
              "50%        4.500000\n",
              "75%       23.000000\n",
              "max     2123.000000"
            ]
          },
          "metadata": {
            "tags": []
          },
          "execution_count": 258
        }
      ]
    },
    {
      "cell_type": "code",
      "metadata": {
        "colab": {
          "base_uri": "https://localhost:8080/",
          "height": 0
        },
        "id": "HtEHEB1agX_g",
        "outputId": "d9ca63c2-4dc7-44af-fe4f-3a250d2a097d"
      },
      "source": [
        "euth_cats.describe()"
      ],
      "execution_count": 259,
      "outputs": [
        {
          "output_type": "execute_result",
          "data": {
            "text/html": [
              "<div>\n",
              "<style scoped>\n",
              "    .dataframe tbody tr th:only-of-type {\n",
              "        vertical-align: middle;\n",
              "    }\n",
              "\n",
              "    .dataframe tbody tr th {\n",
              "        vertical-align: top;\n",
              "    }\n",
              "\n",
              "    .dataframe thead th {\n",
              "        text-align: right;\n",
              "    }\n",
              "</style>\n",
              "<table border=\"1\" class=\"dataframe\">\n",
              "  <thead>\n",
              "    <tr style=\"text-align: right;\">\n",
              "      <th></th>\n",
              "      <th>Days to Euth</th>\n",
              "    </tr>\n",
              "  </thead>\n",
              "  <tbody>\n",
              "    <tr>\n",
              "      <th>count</th>\n",
              "      <td>1978.000000</td>\n",
              "    </tr>\n",
              "    <tr>\n",
              "      <th>mean</th>\n",
              "      <td>16.512133</td>\n",
              "    </tr>\n",
              "    <tr>\n",
              "      <th>std</th>\n",
              "      <td>108.308347</td>\n",
              "    </tr>\n",
              "    <tr>\n",
              "      <th>min</th>\n",
              "      <td>0.000000</td>\n",
              "    </tr>\n",
              "    <tr>\n",
              "      <th>25%</th>\n",
              "      <td>0.000000</td>\n",
              "    </tr>\n",
              "    <tr>\n",
              "      <th>50%</th>\n",
              "      <td>0.000000</td>\n",
              "    </tr>\n",
              "    <tr>\n",
              "      <th>75%</th>\n",
              "      <td>4.000000</td>\n",
              "    </tr>\n",
              "    <tr>\n",
              "      <th>max</th>\n",
              "      <td>2020.000000</td>\n",
              "    </tr>\n",
              "  </tbody>\n",
              "</table>\n",
              "</div>"
            ],
            "text/plain": [
              "       Days to Euth\n",
              "count   1978.000000\n",
              "mean      16.512133\n",
              "std      108.308347\n",
              "min        0.000000\n",
              "25%        0.000000\n",
              "50%        0.000000\n",
              "75%        4.000000\n",
              "max     2020.000000"
            ]
          },
          "metadata": {
            "tags": []
          },
          "execution_count": 259
        }
      ]
    },
    {
      "cell_type": "markdown",
      "metadata": {
        "id": "MwTeHd5sNcs8"
      },
      "source": [
        "##Euthanization Timeline Boxplot Graph for All Animals"
      ]
    },
    {
      "cell_type": "code",
      "metadata": {
        "colab": {
          "base_uri": "https://localhost:8080/"
        },
        "id": "6thY1qpWPbZF",
        "outputId": "7caefd40-1429-4acd-c225-341c9ff43011"
      },
      "source": [
        "euth_timeline['Days to Euth'].value_counts().sort_index()"
      ],
      "execution_count": 260,
      "outputs": [
        {
          "output_type": "execute_result",
          "data": {
            "text/plain": [
              "-506        1\n",
              " 0       4370\n",
              " 1       1753\n",
              " 2        422\n",
              " 3        240\n",
              "         ... \n",
              " 1971       1\n",
              " 2020       1\n",
              " 2055       1\n",
              " 2061       1\n",
              " 2123       1\n",
              "Name: Days to Euth, Length: 325, dtype: int64"
            ]
          },
          "metadata": {
            "tags": []
          },
          "execution_count": 260
        }
      ]
    },
    {
      "cell_type": "code",
      "metadata": {
        "colab": {
          "base_uri": "https://localhost:8080/"
        },
        "id": "3LUV2QOZOr_2",
        "outputId": "77a1573f-d823-4d16-862c-a89e0275eca1"
      },
      "source": [
        "days_to_euth2 = (euth_timeline['Outcome Date'] - euth_timeline['Intake Date']).dt.days.tolist()\n",
        "days_to_euth2.index(-506)"
      ],
      "execution_count": 261,
      "outputs": [
        {
          "output_type": "execute_result",
          "data": {
            "text/plain": [
              "3845"
            ]
          },
          "metadata": {
            "tags": []
          },
          "execution_count": 261
        }
      ]
    },
    {
      "cell_type": "code",
      "metadata": {
        "colab": {
          "base_uri": "https://localhost:8080/"
        },
        "id": "o_kr2SopOkGr",
        "outputId": "df6eebd9-ce7f-4587-c87b-e08dd2b0b86f"
      },
      "source": [
        "euth_timeline = euth_timeline.drop(labels=[3845], axis=0)\n",
        "euth_timeline['Days to Euth'].value_counts().sort_index()"
      ],
      "execution_count": 262,
      "outputs": [
        {
          "output_type": "execute_result",
          "data": {
            "text/plain": [
              "0       4370\n",
              "1       1753\n",
              "2        422\n",
              "3        240\n",
              "4        352\n",
              "        ... \n",
              "1971       1\n",
              "2020       1\n",
              "2055       1\n",
              "2061       1\n",
              "2123       1\n",
              "Name: Days to Euth, Length: 324, dtype: int64"
            ]
          },
          "metadata": {
            "tags": []
          },
          "execution_count": 262
        }
      ]
    },
    {
      "cell_type": "code",
      "metadata": {
        "colab": {
          "base_uri": "https://localhost:8080/",
          "height": 0
        },
        "id": "WL2pHKU9NbRT",
        "outputId": "b15ee94b-5b2a-45c3-a378-4392e2cbe252"
      },
      "source": [
        "fig, ax = plt.subplots(figsize=(2, 6))\n",
        "\n",
        "ax.boxplot(x=euth_timeline['Days to Euth'])\n",
        "\n",
        "ax.set_title('Days at Facility Before\\nEuthenization', fontweight='bold', fontsize=16, pad=15)\n",
        "ax.set_ylabel('Day', fontweight='bold', fontsize=14, labelpad=10)\n",
        "ax.set_xlabel('All Animals', fontweight='bold', fontsize=14, labelpad=15)\n",
        "ax.set_yticks([0, 250, 500, 750, 1000, 1250, 1500, 1750, 2000, 2250])\n",
        "ax.set_yticklabels(labels=[0, 250, 500, 750, 1000, 1250, 1500, 1750, 2000, 2250], fontsize=12)\n",
        "\n",
        "plt.grid(True)\n",
        "plt.show()"
      ],
      "execution_count": 263,
      "outputs": [
        {
          "output_type": "display_data",
          "data": {
            "image/png": "[encoded data removed]",
            "text/plain": [
              "<Figure size 144x432 with 1 Axes>"
            ]
          },
          "metadata": {
            "tags": [],
            "needs_background": "light"
          }
        }
      ]
    },
    {
      "cell_type": "code",
      "metadata": {
        "colab": {
          "base_uri": "https://localhost:8080/",
          "height": 0
        },
        "id": "XZa1lVjaQvNa",
        "outputId": "65be081b-ee7a-4a24-8c32-52772eb57202"
      },
      "source": [
        "fig, ax = plt.subplots(figsize=(2, 6))\n",
        "\n",
        "ax.boxplot(x=euth_timeline['Days to Euth'])\n",
        "\n",
        "ax.set_title('Days at Facility Before\\nEuthenization', fontweight='bold', fontsize=16, pad=15)\n",
        "ax.set_ylabel('Day', fontweight='bold', fontsize=14, labelpad=10)\n",
        "ax.set_xlabel('All Animals', fontweight='bold', fontsize=14, labelpad=15)\n",
        "ax.set_ylim(-1, 20)\n",
        "ax.set_yticklabels(labels=[(),0, 2.5, 5, 7.5, 10, 12.5, 15, 17.5, 20], fontsize=12)\n",
        "\n",
        "ax.grid()\n",
        "\n",
        "plt.show()"
      ],
      "execution_count": 264,
      "outputs": [
        {
          "output_type": "display_data",
          "data": {
            "image/png": "[encoded data removed]",
            "text/plain": [
              "<Figure size 144x432 with 1 Axes>"
            ]
          },
          "metadata": {
            "tags": [],
            "needs_background": "light"
          }
        }
      ]
    },
    {
      "cell_type": "markdown",
      "metadata": {
        "id": "Rg6bKrKiXRRH"
      },
      "source": [
        "###Euthanization Timeline Boxplot for \"Other\" Animals"
      ]
    },
    {
      "cell_type": "code",
      "metadata": {
        "colab": {
          "base_uri": "https://localhost:8080/",
          "height": 0
        },
        "id": "Spw-OYIIXVSE",
        "outputId": "9bea7a36-a925-4340-a44a-b1c913570456"
      },
      "source": [
        "euth_other = euth_timeline[(euth_timeline['Animal Type_x'] == 'Other')].reset_index()\n",
        "euth_other = euth_other.drop('index', axis=1)\n",
        "euth_other.head()"
      ],
      "execution_count": 265,
      "outputs": [
        {
          "output_type": "execute_result",
          "data": {
            "text/html": [
              "<div>\n",
              "<style scoped>\n",
              "    .dataframe tbody tr th:only-of-type {\n",
              "        vertical-align: middle;\n",
              "    }\n",
              "\n",
              "    .dataframe tbody tr th {\n",
              "        vertical-align: top;\n",
              "    }\n",
              "\n",
              "    .dataframe thead th {\n",
              "        text-align: right;\n",
              "    }\n",
              "</style>\n",
              "<table border=\"1\" class=\"dataframe\">\n",
              "  <thead>\n",
              "    <tr style=\"text-align: right;\">\n",
              "      <th></th>\n",
              "      <th>Intake DateTime</th>\n",
              "      <th>Animal Type_x</th>\n",
              "      <th>Breed_x</th>\n",
              "      <th>Color_x</th>\n",
              "      <th>Outcome DateTime</th>\n",
              "      <th>Outcome Type</th>\n",
              "      <th>Outcome Subtype</th>\n",
              "      <th>Intake Date</th>\n",
              "      <th>Intake Time</th>\n",
              "      <th>Outcome Date</th>\n",
              "      <th>Outcome Time</th>\n",
              "      <th>Days to Euth</th>\n",
              "    </tr>\n",
              "  </thead>\n",
              "  <tbody>\n",
              "    <tr>\n",
              "      <th>0</th>\n",
              "      <td>2016-03-24 16:39:00</td>\n",
              "      <td>Other</td>\n",
              "      <td>Bat Mix</td>\n",
              "      <td>Brown</td>\n",
              "      <td>2016-03-24 17:17:00</td>\n",
              "      <td>Euthanasia</td>\n",
              "      <td>Rabies Risk</td>\n",
              "      <td>2016-03-24</td>\n",
              "      <td>16:39:00</td>\n",
              "      <td>2016-03-24</td>\n",
              "      <td>17:17:00</td>\n",
              "      <td>0</td>\n",
              "    </tr>\n",
              "    <tr>\n",
              "      <th>1</th>\n",
              "      <td>2015-05-19 13:23:00</td>\n",
              "      <td>Other</td>\n",
              "      <td>Hamster Mix</td>\n",
              "      <td>White/Gray</td>\n",
              "      <td>2015-05-19 15:56:00</td>\n",
              "      <td>Euthanasia</td>\n",
              "      <td>Suffering</td>\n",
              "      <td>2015-05-19</td>\n",
              "      <td>13:23:00</td>\n",
              "      <td>2015-05-19</td>\n",
              "      <td>15:56:00</td>\n",
              "      <td>0</td>\n",
              "    </tr>\n",
              "    <tr>\n",
              "      <th>2</th>\n",
              "      <td>2018-08-30 11:21:00</td>\n",
              "      <td>Other</td>\n",
              "      <td>Raccoon</td>\n",
              "      <td>Gray/Black</td>\n",
              "      <td>2018-08-30 14:09:00</td>\n",
              "      <td>Euthanasia</td>\n",
              "      <td>Suffering</td>\n",
              "      <td>2018-08-30</td>\n",
              "      <td>11:21:00</td>\n",
              "      <td>2018-08-30</td>\n",
              "      <td>14:09:00</td>\n",
              "      <td>0</td>\n",
              "    </tr>\n",
              "    <tr>\n",
              "      <th>3</th>\n",
              "      <td>2014-05-09 09:05:00</td>\n",
              "      <td>Other</td>\n",
              "      <td>Raccoon Mix</td>\n",
              "      <td>Gray/Black</td>\n",
              "      <td>2014-05-09 09:53:00</td>\n",
              "      <td>Euthanasia</td>\n",
              "      <td>Suffering</td>\n",
              "      <td>2014-05-09</td>\n",
              "      <td>09:05:00</td>\n",
              "      <td>2014-05-09</td>\n",
              "      <td>09:53:00</td>\n",
              "      <td>0</td>\n",
              "    </tr>\n",
              "    <tr>\n",
              "      <th>4</th>\n",
              "      <td>2015-01-16 16:11:00</td>\n",
              "      <td>Other</td>\n",
              "      <td>Bat Mix</td>\n",
              "      <td>Brown</td>\n",
              "      <td>2015-01-18 09:05:00</td>\n",
              "      <td>Euthanasia</td>\n",
              "      <td>Rabies Risk</td>\n",
              "      <td>2015-01-16</td>\n",
              "      <td>16:11:00</td>\n",
              "      <td>2015-01-18</td>\n",
              "      <td>09:05:00</td>\n",
              "      <td>2</td>\n",
              "    </tr>\n",
              "  </tbody>\n",
              "</table>\n",
              "</div>"
            ],
            "text/plain": [
              "      Intake DateTime Animal Type_x  ... Outcome Time Days to Euth\n",
              "0 2016-03-24 16:39:00         Other  ...     17:17:00            0\n",
              "1 2015-05-19 13:23:00         Other  ...     15:56:00            0\n",
              "2 2018-08-30 11:21:00         Other  ...     14:09:00            0\n",
              "3 2014-05-09 09:05:00         Other  ...     09:53:00            0\n",
              "4 2015-01-16 16:11:00         Other  ...     09:05:00            2\n",
              "\n",
              "[5 rows x 12 columns]"
            ]
          },
          "metadata": {
            "tags": []
          },
          "execution_count": 265
        }
      ]
    },
    {
      "cell_type": "code",
      "metadata": {
        "colab": {
          "base_uri": "https://localhost:8080/"
        },
        "id": "D8wSLK6iYFCT",
        "outputId": "f7cb9dad-eca0-446d-8369-fbf9275dc12c"
      },
      "source": [
        "euth_other['Days to Euth'].value_counts().sort_index().head(5)"
      ],
      "execution_count": 266,
      "outputs": [
        {
          "output_type": "execute_result",
          "data": {
            "text/plain": [
              "0    2680\n",
              "1    1332\n",
              "2     240\n",
              "3      84\n",
              "4      84\n",
              "Name: Days to Euth, dtype: int64"
            ]
          },
          "metadata": {
            "tags": []
          },
          "execution_count": 266
        }
      ]
    },
    {
      "cell_type": "code",
      "metadata": {
        "colab": {
          "base_uri": "https://localhost:8080/",
          "height": 0
        },
        "id": "lVP1qlpvYEQX",
        "outputId": "c1546263-424c-430c-9802-02c7864f0a90"
      },
      "source": [
        "fig, ax = plt.subplots(figsize=(2, 6))\n",
        "\n",
        "ax.boxplot(x=euth_other['Days to Euth'])\n",
        "\n",
        "ax.set_title('Days at Facility Before\\nEuthenization', fontweight='bold', fontsize=16, pad=15)\n",
        "ax.set_ylabel('Day', fontweight='bold', fontsize=14, labelpad=10)\n",
        "ax.set_xlabel('Other Animals', fontweight='bold', fontsize=14, labelpad=15)\n",
        "ax.set_yticks([0, 50, 100, 150, 200, 250, 300, 350, 400])\n",
        "ax.set_yticklabels(labels=[0, 50, 100, 150, 200, 250, 300, 350, 400], fontsize=12)\n",
        "\n",
        "plt.grid(True)\n",
        "plt.show()"
      ],
      "execution_count": 267,
      "outputs": [
        {
          "output_type": "display_data",
          "data": {
            "image/png": "[encoded data removed]",
            "text/plain": [
              "<Figure size 144x432 with 1 Axes>"
            ]
          },
          "metadata": {
            "tags": [],
            "needs_background": "light"
          }
        }
      ]
    },
    {
      "cell_type": "code",
      "metadata": {
        "colab": {
          "base_uri": "https://localhost:8080/",
          "height": 0
        },
        "id": "pH2BJ4efYj1r",
        "outputId": "14d816e2-5059-4a8c-8d76-c3e66281f236"
      },
      "source": [
        "fig, ax = plt.subplots(figsize=(2, 6))\n",
        "\n",
        "ax.boxplot(x=euth_other['Days to Euth'])\n",
        "\n",
        "ax.set_title('Days at Facility Before\\nEuthenization', fontweight='bold', fontsize=16, pad=15)\n",
        "ax.set_ylabel('Day', fontweight='bold', fontsize=14, labelpad=10)\n",
        "ax.set_xlabel('Other Animals', fontweight='bold', fontsize=14, labelpad=15)\n",
        "ax.set_yticks([0, 2, 4, 6, 8, 10, 12, 14, 16, 18, 20])\n",
        "\n",
        "ax.set_ylim(-1,20)\n",
        "\n",
        "plt.grid(True)\n",
        "plt.show()"
      ],
      "execution_count": 268,
      "outputs": [
        {
          "output_type": "display_data",
          "data": {
            "image/png": "[encoded data removed]",
            "text/plain": [
              "<Figure size 144x432 with 1 Axes>"
            ]
          },
          "metadata": {
            "tags": [],
            "needs_background": "light"
          }
        }
      ]
    },
    {
      "cell_type": "code",
      "metadata": {
        "colab": {
          "base_uri": "https://localhost:8080/",
          "height": 0
        },
        "id": "C6wFLJSTggRo",
        "outputId": "f8858d4b-3624-48ba-db38-104472fd44fd"
      },
      "source": [
        "euth_other.describe()"
      ],
      "execution_count": 269,
      "outputs": [
        {
          "output_type": "execute_result",
          "data": {
            "text/html": [
              "<div>\n",
              "<style scoped>\n",
              "    .dataframe tbody tr th:only-of-type {\n",
              "        vertical-align: middle;\n",
              "    }\n",
              "\n",
              "    .dataframe tbody tr th {\n",
              "        vertical-align: top;\n",
              "    }\n",
              "\n",
              "    .dataframe thead th {\n",
              "        text-align: right;\n",
              "    }\n",
              "</style>\n",
              "<table border=\"1\" class=\"dataframe\">\n",
              "  <thead>\n",
              "    <tr style=\"text-align: right;\">\n",
              "      <th></th>\n",
              "      <th>Days to Euth</th>\n",
              "    </tr>\n",
              "  </thead>\n",
              "  <tbody>\n",
              "    <tr>\n",
              "      <th>count</th>\n",
              "      <td>4493.000000</td>\n",
              "    </tr>\n",
              "    <tr>\n",
              "      <th>mean</th>\n",
              "      <td>0.896283</td>\n",
              "    </tr>\n",
              "    <tr>\n",
              "      <th>std</th>\n",
              "      <td>8.162307</td>\n",
              "    </tr>\n",
              "    <tr>\n",
              "      <th>min</th>\n",
              "      <td>0.000000</td>\n",
              "    </tr>\n",
              "    <tr>\n",
              "      <th>25%</th>\n",
              "      <td>0.000000</td>\n",
              "    </tr>\n",
              "    <tr>\n",
              "      <th>50%</th>\n",
              "      <td>0.000000</td>\n",
              "    </tr>\n",
              "    <tr>\n",
              "      <th>75%</th>\n",
              "      <td>1.000000</td>\n",
              "    </tr>\n",
              "    <tr>\n",
              "      <th>max</th>\n",
              "      <td>386.000000</td>\n",
              "    </tr>\n",
              "  </tbody>\n",
              "</table>\n",
              "</div>"
            ],
            "text/plain": [
              "       Days to Euth\n",
              "count   4493.000000\n",
              "mean       0.896283\n",
              "std        8.162307\n",
              "min        0.000000\n",
              "25%        0.000000\n",
              "50%        0.000000\n",
              "75%        1.000000\n",
              "max      386.000000"
            ]
          },
          "metadata": {
            "tags": []
          },
          "execution_count": 269
        }
      ]
    },
    {
      "cell_type": "markdown",
      "metadata": {
        "id": "6y4-b9VQaccQ"
      },
      "source": [
        "##Euthanization Comparison Graph Based on Subtypes for \"Other\" Animals"
      ]
    },
    {
      "cell_type": "code",
      "metadata": {
        "colab": {
          "base_uri": "https://localhost:8080/"
        },
        "id": "qeOZ3Xy2aipH",
        "outputId": "7d6b29fa-673e-4b67-985c-a4546b5d602e"
      },
      "source": [
        "euth_other['Outcome Subtype'].value_counts()"
      ],
      "execution_count": 270,
      "outputs": [
        {
          "output_type": "execute_result",
          "data": {
            "text/plain": [
              "Rabies Risk    3482\n",
              "Suffering       623\n",
              "Medical         149\n",
              "Underage         34\n",
              "At Vet           10\n",
              "Aggressive        1\n",
              "Name: Outcome Subtype, dtype: int64"
            ]
          },
          "metadata": {
            "tags": []
          },
          "execution_count": 270
        }
      ]
    },
    {
      "cell_type": "code",
      "metadata": {
        "colab": {
          "base_uri": "https://localhost:8080/"
        },
        "id": "p95lUmn2anZT",
        "outputId": "b200ac29-7154-46f7-fb3c-1a560f6e935c"
      },
      "source": [
        "euth_other['Outcome Subtype'].isnull().sum()"
      ],
      "execution_count": 271,
      "outputs": [
        {
          "output_type": "execute_result",
          "data": {
            "text/plain": [
              "194"
            ]
          },
          "metadata": {
            "tags": []
          },
          "execution_count": 271
        }
      ]
    },
    {
      "cell_type": "code",
      "metadata": {
        "colab": {
          "base_uri": "https://localhost:8080/",
          "height": 0
        },
        "id": "Ln1NVo9marx-",
        "outputId": "8f89df8d-c7bc-44e2-9959-6f50abc574e5"
      },
      "source": [
        "other_labels = ['Rabies Risk', 'Suffering', 'At Vet', 'Medical', 'Underage', 'No Subtype', 'Aggressive']\n",
        "other_sizes = (3482, 623, 10, 149, 34, 194, 1)\n",
        "\n",
        "fig, ax = plt.subplots()\n",
        "\n",
        "ax.pie(x=other_sizes, labels=other_labels, radius=2, autopct='%1.1f%%', explode=[0.05, 0, 0, 0, 0, 0, 0], startangle=25,\n",
        "       colors=['royalblue', 'darkorange', 'slateblue', 'limegreen', 'teal', 'grey', 'red'], textprops={'fontsize': 13})\n",
        "      \n",
        "ax.set_title('\"Other\" Animal Euthanization Subtypes', fontweight='bold', y=1.45, loc='center', fontsize=18)\n",
        "\n",
        "plt.show()"
      ],
      "execution_count": 272,
      "outputs": [
        {
          "output_type": "display_data",
          "data": {
            "image/png": "[encoded data removed]",
            "text/plain": [
              "<Figure size 432x288 with 1 Axes>"
            ]
          },
          "metadata": {
            "tags": []
          }
        }
      ]
    },
    {
      "cell_type": "markdown",
      "metadata": {
        "id": "fTVOmV5Aj3ml"
      },
      "source": [
        "##Euthanization Comparison Graph Based on Subtype for Dogs"
      ]
    },
    {
      "cell_type": "code",
      "metadata": {
        "colab": {
          "base_uri": "https://localhost:8080/"
        },
        "id": "IZGr0JjGj7hY",
        "outputId": "14e864f6-19b7-4291-a3f4-5126ff3dcbbf"
      },
      "source": [
        "euth_dogs['Outcome Subtype'].value_counts()"
      ],
      "execution_count": 273,
      "outputs": [
        {
          "output_type": "execute_result",
          "data": {
            "text/plain": [
              "Suffering              889\n",
              "Aggressive             683\n",
              "Behavior               183\n",
              "Rabies Risk            114\n",
              "Medical                 79\n",
              "At Vet                  65\n",
              "Court/Investigation     52\n",
              "Name: Outcome Subtype, dtype: int64"
            ]
          },
          "metadata": {
            "tags": []
          },
          "execution_count": 273
        }
      ]
    },
    {
      "cell_type": "code",
      "metadata": {
        "colab": {
          "base_uri": "https://localhost:8080/"
        },
        "id": "zumDt08rV_jZ",
        "outputId": "86f1ae1a-6a01-4a1e-e605-1c525be693f0"
      },
      "source": [
        "euth_dogs['Outcome Subtype'].isnull().sum()"
      ],
      "execution_count": 274,
      "outputs": [
        {
          "output_type": "execute_result",
          "data": {
            "text/plain": [
              "13"
            ]
          },
          "metadata": {
            "tags": []
          },
          "execution_count": 274
        }
      ]
    },
    {
      "cell_type": "code",
      "metadata": {
        "colab": {
          "base_uri": "https://localhost:8080/",
          "height": 0
        },
        "id": "BBwUIQqaWF50",
        "outputId": "9168fa1b-4e2d-4914-af0b-65e12fd51855"
      },
      "source": [
        "dog_labels = ['Suffering', 'Aggressive', 'No Subtype', 'Behavior', 'Rabies Risk', 'Medical', 'At Vet', 'Court/Investigation']\n",
        "dog_sizes = (890, 683, 13, 183, 114, 79, 65, 52)\n",
        "\n",
        "fig, ax = plt.subplots()\n",
        "\n",
        "ax.pie(x=dog_sizes, labels=dog_labels, radius=2, autopct='%1.1f%%', explode=[0.05, 0.05, 0, 0, 0, 0, 0, 0], startangle=25, \n",
        "       colors=['darkorange', 'red', 'grey', 'gold', 'royalblue', 'limegreen', 'slateblue', 'hotpink'], textprops={'fontsize': 13})\n",
        "ax.set_title('Dog Euthanization Subtypes', fontweight='bold', y=1.45, loc='center', fontsize=18)\n",
        "\n",
        "plt.show()"
      ],
      "execution_count": 275,
      "outputs": [
        {
          "output_type": "display_data",
          "data": {
            "image/png": "[encoded data removed]",
            "text/plain": [
              "<Figure size 432x288 with 1 Axes>"
            ]
          },
          "metadata": {
            "tags": []
          }
        }
      ]
    },
    {
      "cell_type": "markdown",
      "metadata": {
        "id": "5MUpJ3Gh8m3V"
      },
      "source": [
        "##Euthanization Comparison Graph Based on Subtype for Cats"
      ]
    },
    {
      "cell_type": "code",
      "metadata": {
        "colab": {
          "base_uri": "https://localhost:8080/"
        },
        "id": "EGtB3cin8o5Z",
        "outputId": "dbb9c159-bfd3-4fb2-9096-df309979dcdb"
      },
      "source": [
        "euth_cats['Outcome Subtype'].value_counts()"
      ],
      "execution_count": 276,
      "outputs": [
        {
          "output_type": "execute_result",
          "data": {
            "text/plain": [
              "Suffering      1693\n",
              "At Vet          103\n",
              "Rabies Risk      87\n",
              "Medical          74\n",
              "Aggressive        4\n",
              "Underage          1\n",
              "Name: Outcome Subtype, dtype: int64"
            ]
          },
          "metadata": {
            "tags": []
          },
          "execution_count": 276
        }
      ]
    },
    {
      "cell_type": "code",
      "metadata": {
        "colab": {
          "base_uri": "https://localhost:8080/"
        },
        "id": "9XYW-mkGZEfF",
        "outputId": "efdc4796-cf84-41eb-f0e7-9910e2cdc956"
      },
      "source": [
        "euth_cats['Outcome Subtype'].isnull().sum()"
      ],
      "execution_count": 277,
      "outputs": [
        {
          "output_type": "execute_result",
          "data": {
            "text/plain": [
              "16"
            ]
          },
          "metadata": {
            "tags": []
          },
          "execution_count": 277
        }
      ]
    },
    {
      "cell_type": "code",
      "metadata": {
        "colab": {
          "base_uri": "https://localhost:8080/",
          "height": 0
        },
        "id": "4dpm-D4OZJCa",
        "outputId": "0b8ac59e-b7cf-491c-af74-442bdbd4a79a"
      },
      "source": [
        "cat_labels = ['Suffering', 'Aggressive', 'At Vet', 'Rabies Risk', 'Underage', 'Medical', 'No Subtype']\n",
        "cat_sizes = (1693, 4, 103, 87, 1, 74, 16)\n",
        "\n",
        "fig, ax = plt.subplots()\n",
        "\n",
        "ax.pie(x=cat_sizes, labels=cat_labels, radius=2, autopct='%1.1f%%', explode=[0.05, 0.05, 0, 0, 0, 0, 0], startangle=25,\n",
        "       colors=['darkorange', 'red', 'slateblue', 'royalblue', 'teal', 'limegreen', 'grey'], textprops={'fontsize':13})\n",
        "ax.set_title('Cat Euthanization Subtypes', fontweight='bold', y=1.45, loc='center', fontsize=18)\n",
        "\n",
        "plt.show()"
      ],
      "execution_count": 278,
      "outputs": [
        {
          "output_type": "display_data",
          "data": {
            "image/png": "[encoded data removed]",
            "text/plain": [
              "<Figure size 432x288 with 1 Axes>"
            ]
          },
          "metadata": {
            "tags": []
          }
        }
      ]
    },
    {
      "cell_type": "markdown",
      "metadata": {
        "id": "UIVNbY3y_nuW"
      },
      "source": [
        "##Euthanization Subtype Pie Graph Comparing Dogs and Cats"
      ]
    },
    {
      "cell_type": "code",
      "metadata": {
        "colab": {
          "base_uri": "https://localhost:8080/",
          "height": 0
        },
        "id": "W5Fi_7UH_4MS",
        "outputId": "95c33074-1d65-453b-fef2-37ddf5a80459"
      },
      "source": [
        "dog_labels = ['Suffering', 'Aggressive', 'No Subtype', 'Behavior', 'Rabies Risk', 'Medical', 'At Vet', 'Court/Investigation']\n",
        "dog_sizes = (890, 683, 13, 183, 114, 79, 65, 52)\n",
        "\n",
        "cat_labels = ['Suffering', 'Aggressive', 'At Vet', 'Rabies Risk', 'Underage', 'Medical', 'No Subtype']\n",
        "cat_sizes = (1693, 4, 103, 87, 1, 74, 16)\n",
        "\n",
        "\n",
        "fig, (ax1, ax2) = plt.subplots(1, 2, figsize=(20, 20))\n",
        "\n",
        "ax1.pie(x=dog_sizes, labels=dog_labels, radius=2, autopct='%1.1f%%', explode=[0.05, 0.05, 0, 0, 0, 0, 0, 0], startangle=25, \n",
        "       colors=['darkorange', 'red', 'grey', 'gold', 'royalblue', 'limegreen', 'slateblue', 'hotpink'], textprops={'fontsize': 13})\n",
        "ax1.set_title('Dog Euthanization Subtypes', fontweight='bold', y=1.45, loc='center', fontsize=18)\n",
        "\n",
        "\n",
        "ax2.pie(x=cat_sizes, labels=cat_labels, radius=2, autopct='%1.1f%%', explode=[0.05, 0.05, 0, 0, 0, 0, 0], startangle=25,\n",
        "       colors=['darkorange', 'red', 'slateblue', 'royalblue', 'teal', 'limegreen', 'grey'], textprops={'fontsize':13})\n",
        "ax2.set_title('Cat Euthanization Subtypes', fontweight='bold', y=1.45, loc='center', fontsize=18)\n",
        "\n",
        "\n",
        "plt.tight_layout()\n",
        "plt.show()"
      ],
      "execution_count": 279,
      "outputs": [
        {
          "output_type": "display_data",
          "data": {
            "image/png": "[encoded data removed]",
            "text/plain": [
              "<Figure size 1440x1440 with 2 Axes>"
            ]
          },
          "metadata": {
            "tags": []
          }
        }
      ]
    },
    {
      "cell_type": "markdown",
      "metadata": {
        "id": "BSqP4acVdZeM"
      },
      "source": [
        "##Are 90% of animals not euthanized? Do they go to a home?"
      ]
    },
    {
      "cell_type": "code",
      "metadata": {
        "colab": {
          "base_uri": "https://localhost:8080/",
          "height": 142
        },
        "id": "ktivBrA53qdk",
        "outputId": "b65c2921-dc42-43e9-ce3f-25e416368f52"
      },
      "source": [
        "outcome_no_index = outcome.drop('index', axis=1)\n",
        "outcome_no_index.head(3)"
      ],
      "execution_count": 280,
      "outputs": [
        {
          "output_type": "execute_result",
          "data": {
            "text/html": [
              "<div>\n",
              "<style scoped>\n",
              "    .dataframe tbody tr th:only-of-type {\n",
              "        vertical-align: middle;\n",
              "    }\n",
              "\n",
              "    .dataframe tbody tr th {\n",
              "        vertical-align: top;\n",
              "    }\n",
              "\n",
              "    .dataframe thead th {\n",
              "        text-align: right;\n",
              "    }\n",
              "</style>\n",
              "<table border=\"1\" class=\"dataframe\">\n",
              "  <thead>\n",
              "    <tr style=\"text-align: right;\">\n",
              "      <th></th>\n",
              "      <th>Outcome Type</th>\n",
              "    </tr>\n",
              "  </thead>\n",
              "  <tbody>\n",
              "    <tr>\n",
              "      <th>0</th>\n",
              "      <td>Return to Owner</td>\n",
              "    </tr>\n",
              "    <tr>\n",
              "      <th>1</th>\n",
              "      <td>Return to Owner</td>\n",
              "    </tr>\n",
              "    <tr>\n",
              "      <th>2</th>\n",
              "      <td>Transfer</td>\n",
              "    </tr>\n",
              "  </tbody>\n",
              "</table>\n",
              "</div>"
            ],
            "text/plain": [
              "      Outcome Type\n",
              "0  Return to Owner\n",
              "1  Return to Owner\n",
              "2         Transfer"
            ]
          },
          "metadata": {
            "tags": []
          },
          "execution_count": 280
        }
      ]
    },
    {
      "cell_type": "code",
      "metadata": {
        "colab": {
          "base_uri": "https://localhost:8080/"
        },
        "id": "JSKGUa9V30-A",
        "outputId": "a1dfec4d-3273-483b-fbb8-312da4e08868"
      },
      "source": [
        "outcome_no_index.isnull().sum()"
      ],
      "execution_count": 281,
      "outputs": [
        {
          "output_type": "execute_result",
          "data": {
            "text/plain": [
              "Outcome Type    16\n",
              "dtype: int64"
            ]
          },
          "metadata": {
            "tags": []
          },
          "execution_count": 281
        }
      ]
    },
    {
      "cell_type": "code",
      "metadata": {
        "colab": {
          "base_uri": "https://localhost:8080/",
          "height": 373
        },
        "id": "ZfG9-nxE4B-d",
        "outputId": "8eb0293d-bacf-4f30-de76-af46a109e991"
      },
      "source": [
        "fig, ax = plt.subplots()\n",
        "\n",
        "plt.bar(x=['Adoption', 'Transfer', 'Return to Owner', 'Euthanize', 'RTO Adoption', 'Died', 'Disposal', 'Missing'],\n",
        "        height=animal_shelter['Outcome Type'].value_counts())\n",
        "\n",
        "plt.xlabel('Outcome Type', fontweight=\"bold\", fontsize=14, labelpad=15)\n",
        "plt.ylabel('Number of Animals', fontweight=\"bold\", fontsize=14, labelpad=15)\n",
        "plt.title('AAC Outcomes for Animals\\nthat Entered Facility', fontweight='bold', fontsize=18, pad=15)\n",
        "\n",
        "ax.set_yticks([0, 10000, 20000, 30000, 40000, 50000, 60000, 70000])\n",
        "ax.set_yticks([5000, 15000, 25000, 35000, 45000, 55000, 65000], minor=True)\n",
        "\n",
        "ax.set_xticklabels(labels=['Adoption', 'Transfer', 'Return to Owner', 'Euthanize', 'RTO Adoption', 'Died', 'Disposal', 'Missing'],\n",
        "                   fontsize=12)\n",
        "ax.set_yticklabels(labels=[0, 10000, 20000, 30000, 40000, 50000, 60000, 70000], fontsize=12)\n",
        "\n",
        "fig.autofmt_xdate()\n",
        "\n",
        "plt.show()"
      ],
      "execution_count": 284,
      "outputs": [
        {
          "output_type": "display_data",
          "data": {
            "image/png": "[encoded data removed]",
            "text/plain": [
              "<Figure size 432x288 with 1 Axes>"
            ]
          },
          "metadata": {
            "tags": [],
            "needs_background": "light"
          }
        }
      ]
    },
    {
      "cell_type": "code",
      "metadata": {
        "colab": {
          "base_uri": "https://localhost:8080/"
        },
        "id": "PcB8M9kcXT5w",
        "outputId": "7e6bf34d-aa92-4f18-c716-ca9bc4af777f"
      },
      "source": [
        "outcome_no_index.value_counts()"
      ],
      "execution_count": 285,
      "outputs": [
        {
          "output_type": "execute_result",
          "data": {
            "text/plain": [
              "Outcome Type   \n",
              "Adoption           71803\n",
              "Transfer           39844\n",
              "Return to Owner    35793\n",
              "Euthanasia          8668\n",
              "Rto-Adopt           1312\n",
              "Died                1187\n",
              "Disposal             566\n",
              "Missing               91\n",
              "dtype: int64"
            ]
          },
          "metadata": {
            "tags": []
          },
          "execution_count": 285
        }
      ]
    },
    {
      "cell_type": "code",
      "metadata": {
        "colab": {
          "base_uri": "https://localhost:8080/"
        },
        "id": "pFKNHuyw36K3",
        "outputId": "b28adcab-04c4-472b-dabb-ed424025d35c"
      },
      "source": [
        "outcome_no_index.value_counts().sum() + outcome_no_index.isnull().sum()"
      ],
      "execution_count": 286,
      "outputs": [
        {
          "output_type": "execute_result",
          "data": {
            "text/plain": [
              "Outcome Type    159280\n",
              "dtype: int64"
            ]
          },
          "metadata": {
            "tags": []
          },
          "execution_count": 286
        }
      ]
    },
    {
      "cell_type": "code",
      "metadata": {
        "id": "KHnVGaJE4swc"
      },
      "source": [
        "#For comparison purposes, I will find out what percent are not euthenized AND what percent have died in general (euthenization, died at facility, \n",
        "#and disposal)\n",
        "#I will also find out what percent are adopted and returned to their owner."
      ],
      "execution_count": 287,
      "outputs": []
    },
    {
      "cell_type": "code",
      "metadata": {
        "id": "s9Q8VLBDVL1Z"
      },
      "source": [
        "def percentage(a, b):\n",
        "    return round(a / b * 100, 2)"
      ],
      "execution_count": 288,
      "outputs": []
    },
    {
      "cell_type": "code",
      "metadata": {
        "colab": {
          "base_uri": "https://localhost:8080/"
        },
        "id": "AY5fhni5C1Y1",
        "outputId": "0711ee50-7b64-4b59-932a-f63750f59708"
      },
      "source": [
        "#Percentage of all euthanizations\n",
        "percentage(8668, 159280)"
      ],
      "execution_count": 289,
      "outputs": [
        {
          "output_type": "execute_result",
          "data": {
            "text/plain": [
              "5.44"
            ]
          },
          "metadata": {
            "tags": []
          },
          "execution_count": 289
        }
      ]
    },
    {
      "cell_type": "code",
      "metadata": {
        "colab": {
          "base_uri": "https://localhost:8080/"
        },
        "id": "O2tzBzU4Xk9v",
        "outputId": "ea541f79-ee58-4e36-8660-93d4ef32339a"
      },
      "source": [
        "#Percentage of all generalized \"died\" - died, disposal, and euthanized\n",
        "general_died = 1187 + 566 + 8668\n",
        "percentage(general_died, 159280)"
      ],
      "execution_count": 290,
      "outputs": [
        {
          "output_type": "execute_result",
          "data": {
            "text/plain": [
              "6.54"
            ]
          },
          "metadata": {
            "tags": []
          },
          "execution_count": 290
        }
      ]
    },
    {
      "cell_type": "code",
      "metadata": {
        "colab": {
          "base_uri": "https://localhost:8080/"
        },
        "id": "vRqto-b87x1a",
        "outputId": "afd53b00-95f6-44ef-dfb9-59d602cb7035"
      },
      "source": [
        "#Percent that have not generally died\n",
        "100 - 6.54"
      ],
      "execution_count": 291,
      "outputs": [
        {
          "output_type": "execute_result",
          "data": {
            "text/plain": [
              "93.46"
            ]
          },
          "metadata": {
            "tags": []
          },
          "execution_count": 291
        }
      ]
    },
    {
      "cell_type": "code",
      "metadata": {
        "colab": {
          "base_uri": "https://localhost:8080/"
        },
        "id": "g9L_BzW4XNRO",
        "outputId": "6308b653-ee61-40cc-a4bd-bdc83ae9bf96"
      },
      "source": [
        "#Percentage of just Adoption + RTO adopt\n",
        "percentage((71803+1312), 159280)"
      ],
      "execution_count": 292,
      "outputs": [
        {
          "output_type": "execute_result",
          "data": {
            "text/plain": [
              "45.9"
            ]
          },
          "metadata": {
            "tags": []
          },
          "execution_count": 292
        }
      ]
    },
    {
      "cell_type": "code",
      "metadata": {
        "colab": {
          "base_uri": "https://localhost:8080/"
        },
        "id": "lDkedqgMY6ve",
        "outputId": "e3cde4cb-07c9-462e-b96a-44eb0003a14a"
      },
      "source": [
        "#Percentage of adoption, return to owner, and rto-adopt\n",
        "any_adoption = 71803 + 35793 + 1312\n",
        "percentage(any_adoption, 159280)"
      ],
      "execution_count": 293,
      "outputs": [
        {
          "output_type": "execute_result",
          "data": {
            "text/plain": [
              "68.38"
            ]
          },
          "metadata": {
            "tags": []
          },
          "execution_count": 293
        }
      ]
    },
    {
      "cell_type": "code",
      "metadata": {
        "colab": {
          "base_uri": "https://localhost:8080/"
        },
        "id": "CaLiBmTfDCt7",
        "outputId": "d2310c76-b6c3-46b5-f7cd-2dd0eff40302"
      },
      "source": [
        "#Percent of transfers\n",
        "percentage(39844, 159280)"
      ],
      "execution_count": 302,
      "outputs": [
        {
          "output_type": "execute_result",
          "data": {
            "text/plain": [
              "25.02"
            ]
          },
          "metadata": {
            "tags": []
          },
          "execution_count": 302
        }
      ]
    },
    {
      "cell_type": "code",
      "metadata": {
        "colab": {
          "base_uri": "https://localhost:8080/"
        },
        "id": "k1OG0EHeDp5g",
        "outputId": "9220d801-5421-409f-c53f-b272041f0b85"
      },
      "source": [
        "#Percent of missing\n",
        "percentage((91), 159280)"
      ],
      "execution_count": 303,
      "outputs": [
        {
          "output_type": "execute_result",
          "data": {
            "text/plain": [
              "0.06"
            ]
          },
          "metadata": {
            "tags": []
          },
          "execution_count": 303
        }
      ]
    },
    {
      "cell_type": "code",
      "metadata": {
        "colab": {
          "base_uri": "https://localhost:8080/"
        },
        "id": "pOpjh2SLYtls",
        "outputId": "bb94f36e-aaa5-4c84-d2ad-51ad93d7001b"
      },
      "source": [
        "#Percentage of all other outcomes besides euthanasia\n",
        "all_not_euth = 159280 - 8668\n",
        "percentage(all_not_euth, 159280)"
      ],
      "execution_count": 296,
      "outputs": [
        {
          "output_type": "execute_result",
          "data": {
            "text/plain": [
              "94.56"
            ]
          },
          "metadata": {
            "tags": []
          },
          "execution_count": 296
        }
      ]
    },
    {
      "cell_type": "code",
      "metadata": {
        "colab": {
          "base_uri": "https://localhost:8080/"
        },
        "id": "-ZVwkOFwmyc5",
        "outputId": "4ca36b94-1600-4c42-8122-1452abf899eb"
      },
      "source": [
        "#Animals \"Killed\" as described by Best Friends Animal Society\n",
        "#\"Sum of each shelter's non-live outcomes [(Died in Care) + (Lost in Care) + (Shelter Deaths)] - 10% of total intake\"\n",
        "died = general_died + 91\n",
        "ten_perc_intake = 123365 * .10\n",
        "non_live_outcomes = died - ten_perc_intake\n",
        "non_live_outcomes"
      ],
      "execution_count": 304,
      "outputs": [
        {
          "output_type": "execute_result",
          "data": {
            "text/plain": [
              "-1824.5"
            ]
          },
          "metadata": {
            "tags": []
          },
          "execution_count": 304
        }
      ]
    },
    {
      "cell_type": "code",
      "metadata": {
        "id": "OmrLmMvzFnGz"
      },
      "source": [
        "#Best friends Animal Society, the no-kill gap\n",
        "#(Died in Care + Lost in Care + Shelter Deaths*) – (Live Intakes *10%)\n"
      ],
      "execution_count": 298,
      "outputs": []
    },
    {
      "cell_type": "code",
      "metadata": {
        "colab": {
          "base_uri": "https://localhost:8080/"
        },
        "id": "fLWJ7VQWqOlx",
        "outputId": "5d0064c4-8ee3-4138-ada5-4af07a6db2bf"
      },
      "source": [
        "#Percent of Animals saves via Best Friends Animal Society\n",
        "#[(Live Intakes) - (Lost in Care) - (Shelter Deaths*)] divided by (Live Intakes)\n",
        "(123365 - died)/123365 * 100"
      ],
      "execution_count": 305,
      "outputs": [
        {
          "output_type": "execute_result",
          "data": {
            "text/plain": [
              "91.47894459530661"
            ]
          },
          "metadata": {
            "tags": []
          },
          "execution_count": 305
        }
      ]
    },
    {
      "cell_type": "code",
      "metadata": {
        "colab": {
          "base_uri": "https://localhost:8080/",
          "height": 277
        },
        "id": "sm7d7gaAmTYC",
        "outputId": "69ea0ce5-a93a-4b1e-bd60-afd19b8ef677"
      },
      "source": [
        "data_matrix = [['Type of Outcome', 'Percent (%)'],\n",
        "               ['All Adoptions', '45.9'],\n",
        "               ['All Adoptions + Returned to Owner', '68.38'],\n",
        "               ['Transfers', '25.02'],\n",
        "               ['Died', '6.54'],\n",
        "               ['Euthanasia', '5.44'],\n",
        "               ['Missing', '0.06']]\n",
        "\n",
        "fig =  ff.create_table(data_matrix )\n",
        "fig.update_layout(width=550)\n",
        "fig.show()"
      ],
      "execution_count": 306,
      "outputs": [
        {
          "output_type": "display_data",
          "data": {
            "text/html": [
              "<html>\n",
              "<head><meta charset=\"utf-8\" /></head>\n",
              "<body>\n",
              "    <div>\n",
              "            <script src=\"https://cdnjs.cloudflare.com/ajax/libs/mathjax/2.7.5/MathJax.js?config=TeX-AMS-MML_SVG\"></script><script type=\"text/javascript\">if (window.MathJax) {MathJax.Hub.Config({SVG: {font: \"STIX-Web\"}});}</script>\n",
              "                <script type=\"text/javascript\">window.PlotlyConfig = {MathJaxConfig: 'local'};</script>\n",
              "        <script src=\"https://cdn.plot.ly/plotly-latest.min.js\"></script>    \n",
              "            <div id=\"de7cea04-7b87-4785-8860-6e6af87743c3\" class=\"plotly-graph-div\" style=\"height:260px; width:550px;\"></div>\n",
              "            <script type=\"text/javascript\">\n",
              "                \n",
              "                    window.PLOTLYENV=window.PLOTLYENV || {};\n",
              "                    \n",
              "                if (document.getElementById(\"de7cea04-7b87-4785-8860-6e6af87743c3\")) {\n",
              "                    Plotly.newPlot(\n",
              "                        'de7cea04-7b87-4785-8860-6e6af87743c3',\n",
              "                        [{\"colorscale\": [[0, \"#00083e\"], [0.5, \"#ededee\"], [1, \"#ffffff\"]], \"hoverinfo\": \"none\", \"opacity\": 0.75, \"showscale\": false, \"type\": \"heatmap\", \"z\": [[0, 0], [0.5, 0.5], [1, 1], [0.5, 0.5], [1, 1], [0.5, 0.5], [1, 1]]}],\n",
              "                        {\"annotations\": [{\"align\": \"left\", \"font\": {\"color\": \"#ffffff\"}, \"showarrow\": false, \"text\": \"<b>Type of Outcome</b>\", \"x\": -0.45, \"xanchor\": \"left\", \"xref\": \"x\", \"y\": 0, \"yref\": \"y\"}, {\"align\": \"left\", \"font\": {\"color\": \"#ffffff\"}, \"showarrow\": false, \"text\": \"<b>Percent (%)</b>\", \"x\": 0.55, \"xanchor\": \"left\", \"xref\": \"x\", \"y\": 0, \"yref\": \"y\"}, {\"align\": \"left\", \"font\": {\"color\": \"#000000\"}, \"showarrow\": false, \"text\": \"All Adoptions\", \"x\": -0.45, \"xanchor\": \"left\", \"xref\": \"x\", \"y\": 1, \"yref\": \"y\"}, {\"align\": \"left\", \"font\": {\"color\": \"#000000\"}, \"showarrow\": false, \"text\": \"45.9\", \"x\": 0.55, \"xanchor\": \"left\", \"xref\": \"x\", \"y\": 1, \"yref\": \"y\"}, {\"align\": \"left\", \"font\": {\"color\": \"#000000\"}, \"showarrow\": false, \"text\": \"All Adoptions + Returned to Owner\", \"x\": -0.45, \"xanchor\": \"left\", \"xref\": \"x\", \"y\": 2, \"yref\": \"y\"}, {\"align\": \"left\", \"font\": {\"color\": \"#000000\"}, \"showarrow\": false, \"text\": \"68.38\", \"x\": 0.55, \"xanchor\": \"left\", \"xref\": \"x\", \"y\": 2, \"yref\": \"y\"}, {\"align\": \"left\", \"font\": {\"color\": \"#000000\"}, \"showarrow\": false, \"text\": \"Transfers\", \"x\": -0.45, \"xanchor\": \"left\", \"xref\": \"x\", \"y\": 3, \"yref\": \"y\"}, {\"align\": \"left\", \"font\": {\"color\": \"#000000\"}, \"showarrow\": false, \"text\": \"25.02\", \"x\": 0.55, \"xanchor\": \"left\", \"xref\": \"x\", \"y\": 3, \"yref\": \"y\"}, {\"align\": \"left\", \"font\": {\"color\": \"#000000\"}, \"showarrow\": false, \"text\": \"Died\", \"x\": -0.45, \"xanchor\": \"left\", \"xref\": \"x\", \"y\": 4, \"yref\": \"y\"}, {\"align\": \"left\", \"font\": {\"color\": \"#000000\"}, \"showarrow\": false, \"text\": \"6.54\", \"x\": 0.55, \"xanchor\": \"left\", \"xref\": \"x\", \"y\": 4, \"yref\": \"y\"}, {\"align\": \"left\", \"font\": {\"color\": \"#000000\"}, \"showarrow\": false, \"text\": \"Euthanasia\", \"x\": -0.45, \"xanchor\": \"left\", \"xref\": \"x\", \"y\": 5, \"yref\": \"y\"}, {\"align\": \"left\", \"font\": {\"color\": \"#000000\"}, \"showarrow\": false, \"text\": \"5.44\", \"x\": 0.55, \"xanchor\": \"left\", \"xref\": \"x\", \"y\": 5, \"yref\": \"y\"}, {\"align\": \"left\", \"font\": {\"color\": \"#000000\"}, \"showarrow\": false, \"text\": \"Missing\", \"x\": -0.45, \"xanchor\": \"left\", \"xref\": \"x\", \"y\": 6, \"yref\": \"y\"}, {\"align\": \"left\", \"font\": {\"color\": \"#000000\"}, \"showarrow\": false, \"text\": \"0.06\", \"x\": 0.55, \"xanchor\": \"left\", \"xref\": \"x\", \"y\": 6, \"yref\": \"y\"}], \"height\": 260, \"margin\": {\"b\": 0, \"l\": 0, \"r\": 0, \"t\": 0}, \"template\": {\"data\": {\"bar\": [{\"error_x\": {\"color\": \"#2a3f5f\"}, \"error_y\": {\"color\": \"#2a3f5f\"}, \"marker\": {\"line\": {\"color\": \"#E5ECF6\", \"width\": 0.5}}, \"type\": \"bar\"}], \"barpolar\": [{\"marker\": {\"line\": {\"color\": \"#E5ECF6\", \"width\": 0.5}}, \"type\": \"barpolar\"}], \"carpet\": [{\"aaxis\": {\"endlinecolor\": \"#2a3f5f\", \"gridcolor\": \"white\", \"linecolor\": \"white\", \"minorgridcolor\": \"white\", \"startlinecolor\": \"#2a3f5f\"}, \"baxis\": {\"endlinecolor\": \"#2a3f5f\", \"gridcolor\": \"white\", \"linecolor\": \"white\", \"minorgridcolor\": \"white\", \"startlinecolor\": \"#2a3f5f\"}, \"type\": \"carpet\"}], \"choropleth\": [{\"colorbar\": {\"outlinewidth\": 0, \"ticks\": \"\"}, \"type\": \"choropleth\"}], \"contour\": [{\"colorbar\": {\"outlinewidth\": 0, \"ticks\": \"\"}, \"colorscale\": [[0.0, \"#0d0887\"], [0.1111111111111111, \"#46039f\"], [0.2222222222222222, \"#7201a8\"], [0.3333333333333333, \"#9c179e\"], [0.4444444444444444, \"#bd3786\"], [0.5555555555555556, \"#d8576b\"], [0.6666666666666666, \"#ed7953\"], [0.7777777777777778, \"#fb9f3a\"], [0.8888888888888888, \"#fdca26\"], [1.0, \"#f0f921\"]], \"type\": \"contour\"}], \"contourcarpet\": [{\"colorbar\": {\"outlinewidth\": 0, \"ticks\": \"\"}, \"type\": \"contourcarpet\"}], \"heatmap\": [{\"colorbar\": {\"outlinewidth\": 0, \"ticks\": \"\"}, \"colorscale\": [[0.0, \"#0d0887\"], [0.1111111111111111, \"#46039f\"], [0.2222222222222222, \"#7201a8\"], [0.3333333333333333, \"#9c179e\"], [0.4444444444444444, \"#bd3786\"], [0.5555555555555556, \"#d8576b\"], [0.6666666666666666, \"#ed7953\"], [0.7777777777777778, \"#fb9f3a\"], [0.8888888888888888, \"#fdca26\"], [1.0, \"#f0f921\"]], \"type\": \"heatmap\"}], \"heatmapgl\": [{\"colorbar\": {\"outlinewidth\": 0, \"ticks\": \"\"}, \"colorscale\": [[0.0, \"#0d0887\"], [0.1111111111111111, \"#46039f\"], [0.2222222222222222, \"#7201a8\"], [0.3333333333333333, \"#9c179e\"], [0.4444444444444444, \"#bd3786\"], [0.5555555555555556, \"#d8576b\"], [0.6666666666666666, \"#ed7953\"], [0.7777777777777778, \"#fb9f3a\"], [0.8888888888888888, \"#fdca26\"], [1.0, \"#f0f921\"]], \"type\": \"heatmapgl\"}], \"histogram\": [{\"marker\": {\"colorbar\": {\"outlinewidth\": 0, \"ticks\": \"\"}}, \"type\": \"histogram\"}], \"histogram2d\": [{\"colorbar\": {\"outlinewidth\": 0, \"ticks\": \"\"}, \"colorscale\": [[0.0, \"#0d0887\"], [0.1111111111111111, \"#46039f\"], [0.2222222222222222, \"#7201a8\"], [0.3333333333333333, \"#9c179e\"], [0.4444444444444444, \"#bd3786\"], [0.5555555555555556, \"#d8576b\"], [0.6666666666666666, \"#ed7953\"], [0.7777777777777778, \"#fb9f3a\"], [0.8888888888888888, \"#fdca26\"], [1.0, \"#f0f921\"]], \"type\": \"histogram2d\"}], \"histogram2dcontour\": [{\"colorbar\": {\"outlinewidth\": 0, \"ticks\": \"\"}, \"colorscale\": [[0.0, \"#0d0887\"], [0.1111111111111111, \"#46039f\"], [0.2222222222222222, \"#7201a8\"], [0.3333333333333333, \"#9c179e\"], [0.4444444444444444, \"#bd3786\"], [0.5555555555555556, \"#d8576b\"], [0.6666666666666666, \"#ed7953\"], [0.7777777777777778, \"#fb9f3a\"], [0.8888888888888888, \"#fdca26\"], [1.0, \"#f0f921\"]], \"type\": \"histogram2dcontour\"}], \"mesh3d\": [{\"colorbar\": {\"outlinewidth\": 0, \"ticks\": \"\"}, \"type\": \"mesh3d\"}], \"parcoords\": [{\"line\": {\"colorbar\": {\"outlinewidth\": 0, \"ticks\": \"\"}}, \"type\": \"parcoords\"}], \"pie\": [{\"automargin\": true, \"type\": \"pie\"}], \"scatter\": [{\"marker\": {\"colorbar\": {\"outlinewidth\": 0, \"ticks\": \"\"}}, \"type\": \"scatter\"}], \"scatter3d\": [{\"line\": {\"colorbar\": {\"outlinewidth\": 0, \"ticks\": \"\"}}, \"marker\": {\"colorbar\": {\"outlinewidth\": 0, \"ticks\": \"\"}}, \"type\": \"scatter3d\"}], \"scattercarpet\": [{\"marker\": {\"colorbar\": {\"outlinewidth\": 0, \"ticks\": \"\"}}, \"type\": \"scattercarpet\"}], \"scattergeo\": [{\"marker\": {\"colorbar\": {\"outlinewidth\": 0, \"ticks\": \"\"}}, \"type\": \"scattergeo\"}], \"scattergl\": [{\"marker\": {\"colorbar\": {\"outlinewidth\": 0, \"ticks\": \"\"}}, \"type\": \"scattergl\"}], \"scattermapbox\": [{\"marker\": {\"colorbar\": {\"outlinewidth\": 0, \"ticks\": \"\"}}, \"type\": \"scattermapbox\"}], \"scatterpolar\": [{\"marker\": {\"colorbar\": {\"outlinewidth\": 0, \"ticks\": \"\"}}, \"type\": \"scatterpolar\"}], \"scatterpolargl\": [{\"marker\": {\"colorbar\": {\"outlinewidth\": 0, \"ticks\": \"\"}}, \"type\": \"scatterpolargl\"}], \"scatterternary\": [{\"marker\": {\"colorbar\": {\"outlinewidth\": 0, \"ticks\": \"\"}}, \"type\": \"scatterternary\"}], \"surface\": [{\"colorbar\": {\"outlinewidth\": 0, \"ticks\": \"\"}, \"colorscale\": [[0.0, \"#0d0887\"], [0.1111111111111111, \"#46039f\"], [0.2222222222222222, \"#7201a8\"], [0.3333333333333333, \"#9c179e\"], [0.4444444444444444, \"#bd3786\"], [0.5555555555555556, \"#d8576b\"], [0.6666666666666666, \"#ed7953\"], [0.7777777777777778, \"#fb9f3a\"], [0.8888888888888888, \"#fdca26\"], [1.0, \"#f0f921\"]], \"type\": \"surface\"}], \"table\": [{\"cells\": {\"fill\": {\"color\": \"#EBF0F8\"}, \"line\": {\"color\": \"white\"}}, \"header\": {\"fill\": {\"color\": \"#C8D4E3\"}, \"line\": {\"color\": \"white\"}}, \"type\": \"table\"}]}, \"layout\": {\"annotationdefaults\": {\"arrowcolor\": \"#2a3f5f\", \"arrowhead\": 0, \"arrowwidth\": 1}, \"coloraxis\": {\"colorbar\": {\"outlinewidth\": 0, \"ticks\": \"\"}}, \"colorscale\": {\"diverging\": [[0, \"#8e0152\"], [0.1, \"#c51b7d\"], [0.2, \"#de77ae\"], [0.3, \"#f1b6da\"], [0.4, \"#fde0ef\"], [0.5, \"#f7f7f7\"], [0.6, \"#e6f5d0\"], [0.7, \"#b8e186\"], [0.8, \"#7fbc41\"], [0.9, \"#4d9221\"], [1, \"#276419\"]], \"sequential\": [[0.0, \"#0d0887\"], [0.1111111111111111, \"#46039f\"], [0.2222222222222222, \"#7201a8\"], [0.3333333333333333, \"#9c179e\"], [0.4444444444444444, \"#bd3786\"], [0.5555555555555556, \"#d8576b\"], [0.6666666666666666, \"#ed7953\"], [0.7777777777777778, \"#fb9f3a\"], [0.8888888888888888, \"#fdca26\"], [1.0, \"#f0f921\"]], \"sequentialminus\": [[0.0, \"#0d0887\"], [0.1111111111111111, \"#46039f\"], [0.2222222222222222, \"#7201a8\"], [0.3333333333333333, \"#9c179e\"], [0.4444444444444444, \"#bd3786\"], [0.5555555555555556, \"#d8576b\"], [0.6666666666666666, \"#ed7953\"], [0.7777777777777778, \"#fb9f3a\"], [0.8888888888888888, \"#fdca26\"], [1.0, \"#f0f921\"]]}, \"colorway\": [\"#636efa\", \"#EF553B\", \"#00cc96\", \"#ab63fa\", \"#FFA15A\", \"#19d3f3\", \"#FF6692\", \"#B6E880\", \"#FF97FF\", \"#FECB52\"], \"font\": {\"color\": \"#2a3f5f\"}, \"geo\": {\"bgcolor\": \"white\", \"lakecolor\": \"white\", \"landcolor\": \"#E5ECF6\", \"showlakes\": true, \"showland\": true, \"subunitcolor\": \"white\"}, \"hoverlabel\": {\"align\": \"left\"}, \"hovermode\": \"closest\", \"mapbox\": {\"style\": \"light\"}, \"paper_bgcolor\": \"white\", \"plot_bgcolor\": \"#E5ECF6\", \"polar\": {\"angularaxis\": {\"gridcolor\": \"white\", \"linecolor\": \"white\", \"ticks\": \"\"}, \"bgcolor\": \"#E5ECF6\", \"radialaxis\": {\"gridcolor\": \"white\", \"linecolor\": \"white\", \"ticks\": \"\"}}, \"scene\": {\"xaxis\": {\"backgroundcolor\": \"#E5ECF6\", \"gridcolor\": \"white\", \"gridwidth\": 2, \"linecolor\": \"white\", \"showbackground\": true, \"ticks\": \"\", \"zerolinecolor\": \"white\"}, \"yaxis\": {\"backgroundcolor\": \"#E5ECF6\", \"gridcolor\": \"white\", \"gridwidth\": 2, \"linecolor\": \"white\", \"showbackground\": true, \"ticks\": \"\", \"zerolinecolor\": \"white\"}, \"zaxis\": {\"backgroundcolor\": \"#E5ECF6\", \"gridcolor\": \"white\", \"gridwidth\": 2, \"linecolor\": \"white\", \"showbackground\": true, \"ticks\": \"\", \"zerolinecolor\": \"white\"}}, \"shapedefaults\": {\"line\": {\"color\": \"#2a3f5f\"}}, \"ternary\": {\"aaxis\": {\"gridcolor\": \"white\", \"linecolor\": \"white\", \"ticks\": \"\"}, \"baxis\": {\"gridcolor\": \"white\", \"linecolor\": \"white\", \"ticks\": \"\"}, \"bgcolor\": \"#E5ECF6\", \"caxis\": {\"gridcolor\": \"white\", \"linecolor\": \"white\", \"ticks\": \"\"}}, \"title\": {\"x\": 0.05}, \"xaxis\": {\"automargin\": true, \"gridcolor\": \"white\", \"linecolor\": \"white\", \"ticks\": \"\", \"title\": {\"standoff\": 15}, \"zerolinecolor\": \"white\", \"zerolinewidth\": 2}, \"yaxis\": {\"automargin\": true, \"gridcolor\": \"white\", \"linecolor\": \"white\", \"ticks\": \"\", \"title\": {\"standoff\": 15}, \"zerolinecolor\": \"white\", \"zerolinewidth\": 2}}}, \"width\": 550, \"xaxis\": {\"dtick\": 1, \"gridwidth\": 2, \"showticklabels\": false, \"tick0\": -0.5, \"ticks\": \"\", \"zeroline\": false}, \"yaxis\": {\"autorange\": \"reversed\", \"dtick\": 1, \"gridwidth\": 2, \"showticklabels\": false, \"tick0\": 0.5, \"ticks\": \"\", \"zeroline\": false}},\n",
              "                        {\"responsive\": true}\n",
              "                    ).then(function(){\n",
              "                            \n",
              "var gd = document.getElementById('de7cea04-7b87-4785-8860-6e6af87743c3');\n",
              "var x = new MutationObserver(function (mutations, observer) {{\n",
              "        var display = window.getComputedStyle(gd).display;\n",
              "        if (!display || display === 'none') {{\n",
              "            console.log([gd, 'removed!']);\n",
              "            Plotly.purge(gd);\n",
              "            observer.disconnect();\n",
              "        }}\n",
              "}});\n",
              "\n",
              "// Listen for the removal of the full notebook cells\n",
              "var notebookContainer = gd.closest('#notebook-container');\n",
              "if (notebookContainer) {{\n",
              "    x.observe(notebookContainer, {childList: true});\n",
              "}}\n",
              "\n",
              "// Listen for the clearing of the current output cell\n",
              "var outputEl = gd.closest('.output');\n",
              "if (outputEl) {{\n",
              "    x.observe(outputEl, {childList: true});\n",
              "}}\n",
              "\n",
              "                        })\n",
              "                };\n",
              "                \n",
              "            </script>\n",
              "        </div>\n",
              "</body>\n",
              "</html>"
            ]
          },
          "metadata": {
            "tags": []
          }
        }
      ]
    },
    {
      "cell_type": "code",
      "metadata": {
        "colab": {
          "base_uri": "https://localhost:8080/",
          "height": 542
        },
        "id": "Tx6oJroXqaud",
        "outputId": "506dc5f4-9a24-4857-dca1-c93e5b0bdfff"
      },
      "source": [
        "fig = go.Figure(data=[go.Table(header=dict(values=['No-Kill Gap', 'Save Rate (%)']),\n",
        "                               cells=dict(values=[[-1824.5], [91.48]])) \n",
        "                     ])\n",
        "fig.update_layout(width=600)\n",
        "\n",
        "fig.show()"
      ],
      "execution_count": 307,
      "outputs": [
        {
          "output_type": "display_data",
          "data": {
            "text/html": [
              "<html>\n",
              "<head><meta charset=\"utf-8\" /></head>\n",
              "<body>\n",
              "    <div>\n",
              "            <script src=\"https://cdnjs.cloudflare.com/ajax/libs/mathjax/2.7.5/MathJax.js?config=TeX-AMS-MML_SVG\"></script><script type=\"text/javascript\">if (window.MathJax) {MathJax.Hub.Config({SVG: {font: \"STIX-Web\"}});}</script>\n",
              "                <script type=\"text/javascript\">window.PlotlyConfig = {MathJaxConfig: 'local'};</script>\n",
              "        <script src=\"https://cdn.plot.ly/plotly-latest.min.js\"></script>    \n",
              "            <div id=\"2da6094c-b78a-40b4-8d07-0e8be3e9a54f\" class=\"plotly-graph-div\" style=\"height:525px; width:600px;\"></div>\n",
              "            <script type=\"text/javascript\">\n",
              "                \n",
              "                    window.PLOTLYENV=window.PLOTLYENV || {};\n",
              "                    \n",
              "                if (document.getElementById(\"2da6094c-b78a-40b4-8d07-0e8be3e9a54f\")) {\n",
              "                    Plotly.newPlot(\n",
              "                        '2da6094c-b78a-40b4-8d07-0e8be3e9a54f',\n",
              "                        [{\"cells\": {\"values\": [[-1824.5], [91.48]]}, \"header\": {\"values\": [\"No-Kill Gap\", \"Save Rate (%)\"]}, \"type\": \"table\"}],\n",
              "                        {\"template\": {\"data\": {\"bar\": [{\"error_x\": {\"color\": \"#2a3f5f\"}, \"error_y\": {\"color\": \"#2a3f5f\"}, \"marker\": {\"line\": {\"color\": \"#E5ECF6\", \"width\": 0.5}}, \"type\": \"bar\"}], \"barpolar\": [{\"marker\": {\"line\": {\"color\": \"#E5ECF6\", \"width\": 0.5}}, \"type\": \"barpolar\"}], \"carpet\": [{\"aaxis\": {\"endlinecolor\": \"#2a3f5f\", \"gridcolor\": \"white\", \"linecolor\": \"white\", \"minorgridcolor\": \"white\", \"startlinecolor\": \"#2a3f5f\"}, \"baxis\": {\"endlinecolor\": \"#2a3f5f\", \"gridcolor\": \"white\", \"linecolor\": \"white\", \"minorgridcolor\": \"white\", \"startlinecolor\": \"#2a3f5f\"}, \"type\": \"carpet\"}], \"choropleth\": [{\"colorbar\": {\"outlinewidth\": 0, \"ticks\": \"\"}, \"type\": \"choropleth\"}], \"contour\": [{\"colorbar\": {\"outlinewidth\": 0, \"ticks\": \"\"}, \"colorscale\": [[0.0, \"#0d0887\"], [0.1111111111111111, \"#46039f\"], [0.2222222222222222, \"#7201a8\"], [0.3333333333333333, \"#9c179e\"], [0.4444444444444444, \"#bd3786\"], [0.5555555555555556, \"#d8576b\"], [0.6666666666666666, \"#ed7953\"], [0.7777777777777778, \"#fb9f3a\"], [0.8888888888888888, \"#fdca26\"], [1.0, \"#f0f921\"]], \"type\": \"contour\"}], \"contourcarpet\": [{\"colorbar\": {\"outlinewidth\": 0, \"ticks\": \"\"}, \"type\": \"contourcarpet\"}], \"heatmap\": [{\"colorbar\": {\"outlinewidth\": 0, \"ticks\": \"\"}, \"colorscale\": [[0.0, \"#0d0887\"], [0.1111111111111111, \"#46039f\"], [0.2222222222222222, \"#7201a8\"], [0.3333333333333333, \"#9c179e\"], [0.4444444444444444, \"#bd3786\"], [0.5555555555555556, \"#d8576b\"], [0.6666666666666666, \"#ed7953\"], [0.7777777777777778, \"#fb9f3a\"], [0.8888888888888888, \"#fdca26\"], [1.0, \"#f0f921\"]], \"type\": \"heatmap\"}], \"heatmapgl\": [{\"colorbar\": {\"outlinewidth\": 0, \"ticks\": \"\"}, \"colorscale\": [[0.0, \"#0d0887\"], [0.1111111111111111, \"#46039f\"], [0.2222222222222222, \"#7201a8\"], [0.3333333333333333, \"#9c179e\"], [0.4444444444444444, \"#bd3786\"], [0.5555555555555556, \"#d8576b\"], [0.6666666666666666, \"#ed7953\"], [0.7777777777777778, \"#fb9f3a\"], [0.8888888888888888, \"#fdca26\"], [1.0, \"#f0f921\"]], \"type\": \"heatmapgl\"}], \"histogram\": [{\"marker\": {\"colorbar\": {\"outlinewidth\": 0, \"ticks\": \"\"}}, \"type\": \"histogram\"}], \"histogram2d\": [{\"colorbar\": {\"outlinewidth\": 0, \"ticks\": \"\"}, \"colorscale\": [[0.0, \"#0d0887\"], [0.1111111111111111, \"#46039f\"], [0.2222222222222222, \"#7201a8\"], [0.3333333333333333, \"#9c179e\"], [0.4444444444444444, \"#bd3786\"], [0.5555555555555556, \"#d8576b\"], [0.6666666666666666, \"#ed7953\"], [0.7777777777777778, \"#fb9f3a\"], [0.8888888888888888, \"#fdca26\"], [1.0, \"#f0f921\"]], \"type\": \"histogram2d\"}], \"histogram2dcontour\": [{\"colorbar\": {\"outlinewidth\": 0, \"ticks\": \"\"}, \"colorscale\": [[0.0, \"#0d0887\"], [0.1111111111111111, \"#46039f\"], [0.2222222222222222, \"#7201a8\"], [0.3333333333333333, \"#9c179e\"], [0.4444444444444444, \"#bd3786\"], [0.5555555555555556, \"#d8576b\"], [0.6666666666666666, \"#ed7953\"], [0.7777777777777778, \"#fb9f3a\"], [0.8888888888888888, \"#fdca26\"], [1.0, \"#f0f921\"]], \"type\": \"histogram2dcontour\"}], \"mesh3d\": [{\"colorbar\": {\"outlinewidth\": 0, \"ticks\": \"\"}, \"type\": \"mesh3d\"}], \"parcoords\": [{\"line\": {\"colorbar\": {\"outlinewidth\": 0, \"ticks\": \"\"}}, \"type\": \"parcoords\"}], \"pie\": [{\"automargin\": true, \"type\": \"pie\"}], \"scatter\": [{\"marker\": {\"colorbar\": {\"outlinewidth\": 0, \"ticks\": \"\"}}, \"type\": \"scatter\"}], \"scatter3d\": [{\"line\": {\"colorbar\": {\"outlinewidth\": 0, \"ticks\": \"\"}}, \"marker\": {\"colorbar\": {\"outlinewidth\": 0, \"ticks\": \"\"}}, \"type\": \"scatter3d\"}], \"scattercarpet\": [{\"marker\": {\"colorbar\": {\"outlinewidth\": 0, \"ticks\": \"\"}}, \"type\": \"scattercarpet\"}], \"scattergeo\": [{\"marker\": {\"colorbar\": {\"outlinewidth\": 0, \"ticks\": \"\"}}, \"type\": \"scattergeo\"}], \"scattergl\": [{\"marker\": {\"colorbar\": {\"outlinewidth\": 0, \"ticks\": \"\"}}, \"type\": \"scattergl\"}], \"scattermapbox\": [{\"marker\": {\"colorbar\": {\"outlinewidth\": 0, \"ticks\": \"\"}}, \"type\": \"scattermapbox\"}], \"scatterpolar\": [{\"marker\": {\"colorbar\": {\"outlinewidth\": 0, \"ticks\": \"\"}}, \"type\": \"scatterpolar\"}], \"scatterpolargl\": [{\"marker\": {\"colorbar\": {\"outlinewidth\": 0, \"ticks\": \"\"}}, \"type\": \"scatterpolargl\"}], \"scatterternary\": [{\"marker\": {\"colorbar\": {\"outlinewidth\": 0, \"ticks\": \"\"}}, \"type\": \"scatterternary\"}], \"surface\": [{\"colorbar\": {\"outlinewidth\": 0, \"ticks\": \"\"}, \"colorscale\": [[0.0, \"#0d0887\"], [0.1111111111111111, \"#46039f\"], [0.2222222222222222, \"#7201a8\"], [0.3333333333333333, \"#9c179e\"], [0.4444444444444444, \"#bd3786\"], [0.5555555555555556, \"#d8576b\"], [0.6666666666666666, \"#ed7953\"], [0.7777777777777778, \"#fb9f3a\"], [0.8888888888888888, \"#fdca26\"], [1.0, \"#f0f921\"]], \"type\": \"surface\"}], \"table\": [{\"cells\": {\"fill\": {\"color\": \"#EBF0F8\"}, \"line\": {\"color\": \"white\"}}, \"header\": {\"fill\": {\"color\": \"#C8D4E3\"}, \"line\": {\"color\": \"white\"}}, \"type\": \"table\"}]}, \"layout\": {\"annotationdefaults\": {\"arrowcolor\": \"#2a3f5f\", \"arrowhead\": 0, \"arrowwidth\": 1}, \"coloraxis\": {\"colorbar\": {\"outlinewidth\": 0, \"ticks\": \"\"}}, \"colorscale\": {\"diverging\": [[0, \"#8e0152\"], [0.1, \"#c51b7d\"], [0.2, \"#de77ae\"], [0.3, \"#f1b6da\"], [0.4, \"#fde0ef\"], [0.5, \"#f7f7f7\"], [0.6, \"#e6f5d0\"], [0.7, \"#b8e186\"], [0.8, \"#7fbc41\"], [0.9, \"#4d9221\"], [1, \"#276419\"]], \"sequential\": [[0.0, \"#0d0887\"], [0.1111111111111111, \"#46039f\"], [0.2222222222222222, \"#7201a8\"], [0.3333333333333333, \"#9c179e\"], [0.4444444444444444, \"#bd3786\"], [0.5555555555555556, \"#d8576b\"], [0.6666666666666666, \"#ed7953\"], [0.7777777777777778, \"#fb9f3a\"], [0.8888888888888888, \"#fdca26\"], [1.0, \"#f0f921\"]], \"sequentialminus\": [[0.0, \"#0d0887\"], [0.1111111111111111, \"#46039f\"], [0.2222222222222222, \"#7201a8\"], [0.3333333333333333, \"#9c179e\"], [0.4444444444444444, \"#bd3786\"], [0.5555555555555556, \"#d8576b\"], [0.6666666666666666, \"#ed7953\"], [0.7777777777777778, \"#fb9f3a\"], [0.8888888888888888, \"#fdca26\"], [1.0, \"#f0f921\"]]}, \"colorway\": [\"#636efa\", \"#EF553B\", \"#00cc96\", \"#ab63fa\", \"#FFA15A\", \"#19d3f3\", \"#FF6692\", \"#B6E880\", \"#FF97FF\", \"#FECB52\"], \"font\": {\"color\": \"#2a3f5f\"}, \"geo\": {\"bgcolor\": \"white\", \"lakecolor\": \"white\", \"landcolor\": \"#E5ECF6\", \"showlakes\": true, \"showland\": true, \"subunitcolor\": \"white\"}, \"hoverlabel\": {\"align\": \"left\"}, \"hovermode\": \"closest\", \"mapbox\": {\"style\": \"light\"}, \"paper_bgcolor\": \"white\", \"plot_bgcolor\": \"#E5ECF6\", \"polar\": {\"angularaxis\": {\"gridcolor\": \"white\", \"linecolor\": \"white\", \"ticks\": \"\"}, \"bgcolor\": \"#E5ECF6\", \"radialaxis\": {\"gridcolor\": \"white\", \"linecolor\": \"white\", \"ticks\": \"\"}}, \"scene\": {\"xaxis\": {\"backgroundcolor\": \"#E5ECF6\", \"gridcolor\": \"white\", \"gridwidth\": 2, \"linecolor\": \"white\", \"showbackground\": true, \"ticks\": \"\", \"zerolinecolor\": \"white\"}, \"yaxis\": {\"backgroundcolor\": \"#E5ECF6\", \"gridcolor\": \"white\", \"gridwidth\": 2, \"linecolor\": \"white\", \"showbackground\": true, \"ticks\": \"\", \"zerolinecolor\": \"white\"}, \"zaxis\": {\"backgroundcolor\": \"#E5ECF6\", \"gridcolor\": \"white\", \"gridwidth\": 2, \"linecolor\": \"white\", \"showbackground\": true, \"ticks\": \"\", \"zerolinecolor\": \"white\"}}, \"shapedefaults\": {\"line\": {\"color\": \"#2a3f5f\"}}, \"ternary\": {\"aaxis\": {\"gridcolor\": \"white\", \"linecolor\": \"white\", \"ticks\": \"\"}, \"baxis\": {\"gridcolor\": \"white\", \"linecolor\": \"white\", \"ticks\": \"\"}, \"bgcolor\": \"#E5ECF6\", \"caxis\": {\"gridcolor\": \"white\", \"linecolor\": \"white\", \"ticks\": \"\"}}, \"title\": {\"x\": 0.05}, \"xaxis\": {\"automargin\": true, \"gridcolor\": \"white\", \"linecolor\": \"white\", \"ticks\": \"\", \"title\": {\"standoff\": 15}, \"zerolinecolor\": \"white\", \"zerolinewidth\": 2}, \"yaxis\": {\"automargin\": true, \"gridcolor\": \"white\", \"linecolor\": \"white\", \"ticks\": \"\", \"title\": {\"standoff\": 15}, \"zerolinecolor\": \"white\", \"zerolinewidth\": 2}}}, \"width\": 600},\n",
              "                        {\"responsive\": true}\n",
              "                    ).then(function(){\n",
              "                            \n",
              "var gd = document.getElementById('2da6094c-b78a-40b4-8d07-0e8be3e9a54f');\n",
              "var x = new MutationObserver(function (mutations, observer) {{\n",
              "        var display = window.getComputedStyle(gd).display;\n",
              "        if (!display || display === 'none') {{\n",
              "            console.log([gd, 'removed!']);\n",
              "            Plotly.purge(gd);\n",
              "            observer.disconnect();\n",
              "        }}\n",
              "}});\n",
              "\n",
              "// Listen for the removal of the full notebook cells\n",
              "var notebookContainer = gd.closest('#notebook-container');\n",
              "if (notebookContainer) {{\n",
              "    x.observe(notebookContainer, {childList: true});\n",
              "}}\n",
              "\n",
              "// Listen for the clearing of the current output cell\n",
              "var outputEl = gd.closest('.output');\n",
              "if (outputEl) {{\n",
              "    x.observe(outputEl, {childList: true});\n",
              "}}\n",
              "\n",
              "                        })\n",
              "                };\n",
              "                \n",
              "            </script>\n",
              "        </div>\n",
              "</body>\n",
              "</html>"
            ]
          },
          "metadata": {
            "tags": []
          }
        }
      ]
    }
  ]
}